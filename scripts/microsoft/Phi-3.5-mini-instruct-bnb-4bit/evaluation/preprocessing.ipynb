{
 "cells": [
  {
   "cell_type": "markdown",
   "metadata": {},
   "source": [
    "# Import libraries"
   ]
  },
  {
   "cell_type": "code",
   "execution_count": 14,
   "metadata": {},
   "outputs": [],
   "source": [
    "import os\n",
    "import pandas as pd\n",
    "from functools import reduce"
   ]
  },
  {
   "cell_type": "markdown",
   "metadata": {},
   "source": [
    "# Set Paths"
   ]
  },
  {
   "cell_type": "code",
   "execution_count": 15,
   "metadata": {},
   "outputs": [],
   "source": [
    "# Base path\n",
    "base_path = os.path.abspath(os.path.join(os.getcwd(), '..', '..', '..', '..'))\n",
    "\n",
    "# Model Parameters\n",
    "unsloth_model_name = 'unsloth/Phi-3.5-mini-instruct-bnb-4bit'\n",
    "company_name = 'microsoft'\n",
    "model_name = unsloth_model_name.split('/')[1]"
   ]
  },
  {
   "cell_type": "code",
   "execution_count": 16,
   "metadata": {},
   "outputs": [
    {
     "name": "stdout",
     "output_type": "stream",
     "text": [
      "Base path: /cs/student/msc/csml/2023/ngriessh/historical_mt\n",
      "Results directory: /cs/student/msc/csml/2023/ngriessh/historical_mt/results/microsoft/Phi-3.5-mini-instruct-bnb-4bit\n",
      "Shots list: [0]\n"
     ]
    }
   ],
   "source": [
    "# Results directory path\n",
    "results_dir = os.path.join(base_path, 'results', company_name, model_name)\n",
    "\n",
    "# List of shot values\n",
    "shots_list = [2**i for i in range(4)] \n",
    "shots_list.insert(0, 0)\n",
    "shots_list = [0]\n",
    "\n",
    "# Print paths\n",
    "print(f'Base path: {base_path}')\n",
    "print(f'Results directory: {results_dir}')\n",
    "print(f'Shots list: {shots_list}')"
   ]
  },
  {
   "cell_type": "markdown",
   "metadata": {},
   "source": [
    "# Function to Load JSON Files into DataFrames"
   ]
  },
  {
   "cell_type": "code",
   "execution_count": 17,
   "metadata": {},
   "outputs": [],
   "source": [
    "def load_json_to_df(folder_path, direction, shot):\n",
    "    \"\"\"\n",
    "    Load JSON files into a DataFrame, rename columns, and handle missing data.\n",
    "\n",
    "    Parameters:\n",
    "    - folder_path: Path to the folder containing the JSON files.\n",
    "    - direction: 'DE_to_EN' or 'EN_to_DE'.\n",
    "    - shot: An integer for shot number or 'finetuning'.\n",
    "\n",
    "    Returns:\n",
    "    - A pandas DataFrame with the loaded data.\n",
    "    \"\"\"\n",
    "    # Construct file and column names based on 'shot'\n",
    "    if isinstance(shot, int):\n",
    "        formatted_shot = f\"{shot:03}\"\n",
    "        file_name = f\"{direction}_{formatted_shot}_example_prompt.json\"\n",
    "    elif shot == 'finetuning':\n",
    "        file_name = f\"{direction}_finetuning.json\"\n",
    "    else:\n",
    "        print(f\"Invalid shot value: {shot}\")\n",
    "        return pd.DataFrame()\n",
    "\n",
    "    file_path = os.path.join(folder_path, file_name)\n",
    "\n",
    "    # Check if the file exists and load data\n",
    "    if os.path.exists(file_path):\n",
    "        print(f\"File exists: {file_path}\")\n",
    "        try:\n",
    "\n",
    "            # Read the JSON file into a DataFrame\n",
    "            df = pd.read_json(file_path, lines=True)\n",
    "\n",
    "            # Remove 'text' column if it exists\n",
    "            df.drop(columns=['text'], inplace=True, errors='ignore')\n",
    "\n",
    "            return df\n",
    "        \n",
    "        except ValueError as e:\n",
    "            print(f\"Error reading JSON file {file_name}: {e}\")\n",
    "            return pd.DataFrame()\n",
    "    else:\n",
    "        print(f\"File does not exist: {file_path}\")\n",
    "        return pd.DataFrame()"
   ]
  },
  {
   "cell_type": "markdown",
   "metadata": {},
   "source": [
    "# Load and Merge DataFrames"
   ]
  },
  {
   "cell_type": "code",
   "execution_count": 18,
   "metadata": {},
   "outputs": [
    {
     "name": "stdout",
     "output_type": "stream",
     "text": [
      "\n",
      "Processing directory: /cs/student/msc/csml/2023/ngriessh/historical_mt/results/microsoft/Phi-3.5-mini-instruct-bnb-4bit/icl/DE_to_EN\n",
      "File exists: /cs/student/msc/csml/2023/ngriessh/historical_mt/results/microsoft/Phi-3.5-mini-instruct-bnb-4bit/icl/DE_to_EN/DE_to_EN_000_example_prompt.json\n",
      "Loaded data for direction 'DE_to_EN', shot: 0\n",
      "\n",
      "Processing directory: /cs/student/msc/csml/2023/ngriessh/historical_mt/results/microsoft/Phi-3.5-mini-instruct-bnb-4bit/finetuning/DE_to_EN\n",
      "File does not exist: /cs/student/msc/csml/2023/ngriessh/historical_mt/results/microsoft/Phi-3.5-mini-instruct-bnb-4bit/finetuning/DE_to_EN/DE_to_EN_finetuning.json\n",
      "No data loaded for direction 'DE_to_EN', shot: finetuning\n",
      "\n",
      "Processing directory: /cs/student/msc/csml/2023/ngriessh/historical_mt/results/microsoft/Phi-3.5-mini-instruct-bnb-4bit/icl/EN_to_DE\n",
      "File exists: /cs/student/msc/csml/2023/ngriessh/historical_mt/results/microsoft/Phi-3.5-mini-instruct-bnb-4bit/icl/EN_to_DE/EN_to_DE_000_example_prompt.json\n",
      "Loaded data for direction 'EN_to_DE', shot: 0\n",
      "\n",
      "Processing directory: /cs/student/msc/csml/2023/ngriessh/historical_mt/results/microsoft/Phi-3.5-mini-instruct-bnb-4bit/finetuning/EN_to_DE\n",
      "File does not exist: /cs/student/msc/csml/2023/ngriessh/historical_mt/results/microsoft/Phi-3.5-mini-instruct-bnb-4bit/finetuning/EN_to_DE/EN_to_DE_finetuning.json\n",
      "No data loaded for direction 'EN_to_DE', shot: finetuning\n"
     ]
    }
   ],
   "source": [
    "# Initialize an empty list to hold DataFrames\n",
    "dataframes = []\n",
    "\n",
    "# Loop through folders and shots to load data\n",
    "for direction in ['DE_to_EN', 'EN_to_DE']:\n",
    "    for shot in shots_list + ['finetuning']:\n",
    "        \n",
    "        # Determine base folder ('finetuning' or 'icl')\n",
    "        base_folder = 'finetuning' if shot == 'finetuning' else 'icl'\n",
    "        folder_path = os.path.join(results_dir, base_folder, direction)\n",
    "        print(f\"\\nProcessing directory: {folder_path}\")\n",
    "\n",
    "        df = load_json_to_df(folder_path, direction, shot)\n",
    "        if not df.empty:\n",
    "            print(f\"Loaded data for direction '{direction}', shot: {shot}\")\n",
    "            dataframes.append(df)\n",
    "        else:\n",
    "            print(f\"No data loaded for direction '{direction}', shot: {shot}\")"
   ]
  },
  {
   "cell_type": "markdown",
   "metadata": {},
   "source": [
    "# Merge All DataFrames"
   ]
  },
  {
   "cell_type": "code",
   "execution_count": 19,
   "metadata": {},
   "outputs": [
    {
     "name": "stdout",
     "output_type": "stream",
     "text": [
      "\n",
      "All DataFrames merged successfully.\n",
      "Number of matches across all DataFrames: 1000\n"
     ]
    }
   ],
   "source": [
    "# Merge all DataFrames on 'English' and 'Early Modern Bohemian German' columns\n",
    "if dataframes:\n",
    "    # Perform an outer merge to combine all DataFrames\n",
    "    merged_df = reduce(lambda left, right: pd.merge(\n",
    "        left, right, on=['English', 'Early Modern Bohemian German'], how='outer'), dataframes)\n",
    "    print(\"\\nAll DataFrames merged successfully.\")\n",
    "    \n",
    "    # Perform an inner merge to find matches across all DataFrames\n",
    "    matches_df = reduce(lambda left, right: pd.merge(\n",
    "        left, right, on=['English', 'Early Modern Bohemian German'], how='inner'), dataframes)\n",
    "    num_matches = matches_df.shape[0]\n",
    "    print(f\"Number of matches across all DataFrames: {num_matches}\")\n",
    "else:\n",
    "    merged_df = pd.DataFrame()\n",
    "    print(\"\\nNo DataFrames to merge.\")"
   ]
  },
  {
   "cell_type": "code",
   "execution_count": 20,
   "metadata": {},
   "outputs": [
    {
     "data": {
      "text/plain": [
       "Index(['Early Modern Bohemian German', 'English',\n",
       "       'DE_to_EN_000_example_prompt', 'EN_to_DE_000_example_prompt'],\n",
       "      dtype='object')"
      ]
     },
     "execution_count": 20,
     "metadata": {},
     "output_type": "execute_result"
    }
   ],
   "source": [
    "# Check column names\n",
    "merged_df.columns"
   ]
  },
  {
   "cell_type": "markdown",
   "metadata": {},
   "source": [
    "# Define Column Order and Reorder DataFrame"
   ]
  },
  {
   "cell_type": "code",
   "execution_count": 21,
   "metadata": {},
   "outputs": [
    {
     "name": "stdout",
     "output_type": "stream",
     "text": [
      "\n",
      "Columns in the merged DataFrame:\n"
     ]
    },
    {
     "data": {
      "text/plain": [
       "['Early Modern Bohemian German',\n",
       " 'English',\n",
       " 'DE_to_EN_000_example_prompt',\n",
       " 'EN_to_DE_000_example_prompt']"
      ]
     },
     "execution_count": 21,
     "metadata": {},
     "output_type": "execute_result"
    }
   ],
   "source": [
    "# Define the column order\n",
    "column_order = ['Early Modern Bohemian German', 'English']\n",
    "\n",
    "# Append DE_to_EN columns\n",
    "de_to_en_columns = [f\"DE_to_EN_{shot:03}_example_prompt\" for shot in sorted(shots_list)]\n",
    "de_to_en_columns.append(\"DE_to_EN_finetuning\")\n",
    "column_order.extend(de_to_en_columns)\n",
    "\n",
    "# Append EN_to_DE columns\n",
    "en_to_de_columns = [f\"EN_to_DE_{shot:03}_example_prompt\" for shot in sorted(shots_list)]\n",
    "en_to_de_columns.append(\"EN_to_DE_finetuning\")\n",
    "column_order.extend(en_to_de_columns)\n",
    "\n",
    "# Reorder the DataFrame columns\n",
    "existing_columns = [col for col in column_order if col in merged_df.columns]\n",
    "merged_df = merged_df[existing_columns]\n",
    "\n",
    "print(\"\\nColumns in the merged DataFrame:\")\n",
    "merged_df.columns.tolist()"
   ]
  },
  {
   "cell_type": "code",
   "execution_count": 22,
   "metadata": {},
   "outputs": [],
   "source": [
    "# Function to clean text entries\n",
    "def clean_text(text):\n",
    "\n",
    "    # Remove unnecessary double white-spaces\n",
    "    text = re.sub(r'\\s{2,}', ' ', text)\n",
    "\n",
    "    # Remove line breaks\n",
    "    text = re.sub(r'[\\n\\r]+', ' ', text)\n",
    "    \n",
    "    # Remove unnecessary spaces before punctuation\n",
    "    text = re.sub(r'\\s+([.,;!?])', r'\\1', text)\n",
    "    \n",
    "    # Fix spacing around apostrophes (replacing ’ with ')\n",
    "    text = re.sub(r'\\s+’\\s+', r\"'\", text)\n",
    "    \n",
    "    # Fix double spaces or unnecessary whitespace\n",
    "    text = re.sub(r'\\s+', ' ', text).strip()\n",
    "    \n",
    "    return text"
   ]
  },
  {
   "cell_type": "code",
   "execution_count": 23,
   "metadata": {},
   "outputs": [
    {
     "ename": "NameError",
     "evalue": "name 're' is not defined",
     "output_type": "error",
     "traceback": [
      "\u001b[0;31m---------------------------------------------------------------------------\u001b[0m",
      "\u001b[0;31mNameError\u001b[0m                                 Traceback (most recent call last)",
      "Cell \u001b[0;32mIn[23], line 3\u001b[0m\n\u001b[1;32m      1\u001b[0m \u001b[38;5;66;03m# Apply clean_text to each column in merged_df\u001b[39;00m\n\u001b[1;32m      2\u001b[0m \u001b[38;5;28;01mfor\u001b[39;00m column \u001b[38;5;129;01min\u001b[39;00m merged_df\u001b[38;5;241m.\u001b[39mcolumns:\n\u001b[0;32m----> 3\u001b[0m     merged_df[column] \u001b[38;5;241m=\u001b[39m \u001b[43mmerged_df\u001b[49m\u001b[43m[\u001b[49m\u001b[43mcolumn\u001b[49m\u001b[43m]\u001b[49m\u001b[38;5;241;43m.\u001b[39;49m\u001b[43mapply\u001b[49m\u001b[43m(\u001b[49m\u001b[38;5;28;43;01mlambda\u001b[39;49;00m\u001b[43m \u001b[49m\u001b[43mx\u001b[49m\u001b[43m:\u001b[49m\u001b[43m \u001b[49m\u001b[43mclean_text\u001b[49m\u001b[43m(\u001b[49m\u001b[38;5;28;43mstr\u001b[39;49m\u001b[43m(\u001b[49m\u001b[43mx\u001b[49m\u001b[43m)\u001b[49m\u001b[43m)\u001b[49m\u001b[43m)\u001b[49m\n",
      "File \u001b[0;32m/cs/student/projects3/COMP0197/grp3/miniconda_ngriessh/envs/historical_mt_env/lib/python3.9/site-packages/pandas/core/series.py:4917\u001b[0m, in \u001b[0;36mSeries.apply\u001b[0;34m(self, func, convert_dtype, args, by_row, **kwargs)\u001b[0m\n\u001b[1;32m   4789\u001b[0m \u001b[38;5;28;01mdef\u001b[39;00m \u001b[38;5;21mapply\u001b[39m(\n\u001b[1;32m   4790\u001b[0m     \u001b[38;5;28mself\u001b[39m,\n\u001b[1;32m   4791\u001b[0m     func: AggFuncType,\n\u001b[0;32m   (...)\u001b[0m\n\u001b[1;32m   4796\u001b[0m     \u001b[38;5;241m*\u001b[39m\u001b[38;5;241m*\u001b[39mkwargs,\n\u001b[1;32m   4797\u001b[0m ) \u001b[38;5;241m-\u001b[39m\u001b[38;5;241m>\u001b[39m DataFrame \u001b[38;5;241m|\u001b[39m Series:\n\u001b[1;32m   4798\u001b[0m \u001b[38;5;250m    \u001b[39m\u001b[38;5;124;03m\"\"\"\u001b[39;00m\n\u001b[1;32m   4799\u001b[0m \u001b[38;5;124;03m    Invoke function on values of Series.\u001b[39;00m\n\u001b[1;32m   4800\u001b[0m \n\u001b[0;32m   (...)\u001b[0m\n\u001b[1;32m   4915\u001b[0m \u001b[38;5;124;03m    dtype: float64\u001b[39;00m\n\u001b[1;32m   4916\u001b[0m \u001b[38;5;124;03m    \"\"\"\u001b[39;00m\n\u001b[0;32m-> 4917\u001b[0m     \u001b[38;5;28;01mreturn\u001b[39;00m \u001b[43mSeriesApply\u001b[49m\u001b[43m(\u001b[49m\n\u001b[1;32m   4918\u001b[0m \u001b[43m        \u001b[49m\u001b[38;5;28;43mself\u001b[39;49m\u001b[43m,\u001b[49m\n\u001b[1;32m   4919\u001b[0m \u001b[43m        \u001b[49m\u001b[43mfunc\u001b[49m\u001b[43m,\u001b[49m\n\u001b[1;32m   4920\u001b[0m \u001b[43m        \u001b[49m\u001b[43mconvert_dtype\u001b[49m\u001b[38;5;241;43m=\u001b[39;49m\u001b[43mconvert_dtype\u001b[49m\u001b[43m,\u001b[49m\n\u001b[1;32m   4921\u001b[0m \u001b[43m        \u001b[49m\u001b[43mby_row\u001b[49m\u001b[38;5;241;43m=\u001b[39;49m\u001b[43mby_row\u001b[49m\u001b[43m,\u001b[49m\n\u001b[1;32m   4922\u001b[0m \u001b[43m        \u001b[49m\u001b[43margs\u001b[49m\u001b[38;5;241;43m=\u001b[39;49m\u001b[43margs\u001b[49m\u001b[43m,\u001b[49m\n\u001b[1;32m   4923\u001b[0m \u001b[43m        \u001b[49m\u001b[43mkwargs\u001b[49m\u001b[38;5;241;43m=\u001b[39;49m\u001b[43mkwargs\u001b[49m\u001b[43m,\u001b[49m\n\u001b[1;32m   4924\u001b[0m \u001b[43m    \u001b[49m\u001b[43m)\u001b[49m\u001b[38;5;241;43m.\u001b[39;49m\u001b[43mapply\u001b[49m\u001b[43m(\u001b[49m\u001b[43m)\u001b[49m\n",
      "File \u001b[0;32m/cs/student/projects3/COMP0197/grp3/miniconda_ngriessh/envs/historical_mt_env/lib/python3.9/site-packages/pandas/core/apply.py:1427\u001b[0m, in \u001b[0;36mSeriesApply.apply\u001b[0;34m(self)\u001b[0m\n\u001b[1;32m   1424\u001b[0m     \u001b[38;5;28;01mreturn\u001b[39;00m \u001b[38;5;28mself\u001b[39m\u001b[38;5;241m.\u001b[39mapply_compat()\n\u001b[1;32m   1426\u001b[0m \u001b[38;5;66;03m# self.func is Callable\u001b[39;00m\n\u001b[0;32m-> 1427\u001b[0m \u001b[38;5;28;01mreturn\u001b[39;00m \u001b[38;5;28;43mself\u001b[39;49m\u001b[38;5;241;43m.\u001b[39;49m\u001b[43mapply_standard\u001b[49m\u001b[43m(\u001b[49m\u001b[43m)\u001b[49m\n",
      "File \u001b[0;32m/cs/student/projects3/COMP0197/grp3/miniconda_ngriessh/envs/historical_mt_env/lib/python3.9/site-packages/pandas/core/apply.py:1507\u001b[0m, in \u001b[0;36mSeriesApply.apply_standard\u001b[0;34m(self)\u001b[0m\n\u001b[1;32m   1501\u001b[0m \u001b[38;5;66;03m# row-wise access\u001b[39;00m\n\u001b[1;32m   1502\u001b[0m \u001b[38;5;66;03m# apply doesn't have a `na_action` keyword and for backward compat reasons\u001b[39;00m\n\u001b[1;32m   1503\u001b[0m \u001b[38;5;66;03m# we need to give `na_action=\"ignore\"` for categorical data.\u001b[39;00m\n\u001b[1;32m   1504\u001b[0m \u001b[38;5;66;03m# TODO: remove the `na_action=\"ignore\"` when that default has been changed in\u001b[39;00m\n\u001b[1;32m   1505\u001b[0m \u001b[38;5;66;03m#  Categorical (GH51645).\u001b[39;00m\n\u001b[1;32m   1506\u001b[0m action \u001b[38;5;241m=\u001b[39m \u001b[38;5;124m\"\u001b[39m\u001b[38;5;124mignore\u001b[39m\u001b[38;5;124m\"\u001b[39m \u001b[38;5;28;01mif\u001b[39;00m \u001b[38;5;28misinstance\u001b[39m(obj\u001b[38;5;241m.\u001b[39mdtype, CategoricalDtype) \u001b[38;5;28;01melse\u001b[39;00m \u001b[38;5;28;01mNone\u001b[39;00m\n\u001b[0;32m-> 1507\u001b[0m mapped \u001b[38;5;241m=\u001b[39m \u001b[43mobj\u001b[49m\u001b[38;5;241;43m.\u001b[39;49m\u001b[43m_map_values\u001b[49m\u001b[43m(\u001b[49m\n\u001b[1;32m   1508\u001b[0m \u001b[43m    \u001b[49m\u001b[43mmapper\u001b[49m\u001b[38;5;241;43m=\u001b[39;49m\u001b[43mcurried\u001b[49m\u001b[43m,\u001b[49m\u001b[43m \u001b[49m\u001b[43mna_action\u001b[49m\u001b[38;5;241;43m=\u001b[39;49m\u001b[43maction\u001b[49m\u001b[43m,\u001b[49m\u001b[43m \u001b[49m\u001b[43mconvert\u001b[49m\u001b[38;5;241;43m=\u001b[39;49m\u001b[38;5;28;43mself\u001b[39;49m\u001b[38;5;241;43m.\u001b[39;49m\u001b[43mconvert_dtype\u001b[49m\n\u001b[1;32m   1509\u001b[0m \u001b[43m\u001b[49m\u001b[43m)\u001b[49m\n\u001b[1;32m   1511\u001b[0m \u001b[38;5;28;01mif\u001b[39;00m \u001b[38;5;28mlen\u001b[39m(mapped) \u001b[38;5;129;01mand\u001b[39;00m \u001b[38;5;28misinstance\u001b[39m(mapped[\u001b[38;5;241m0\u001b[39m], ABCSeries):\n\u001b[1;32m   1512\u001b[0m     \u001b[38;5;66;03m# GH#43986 Need to do list(mapped) in order to get treated as nested\u001b[39;00m\n\u001b[1;32m   1513\u001b[0m     \u001b[38;5;66;03m#  See also GH#25959 regarding EA support\u001b[39;00m\n\u001b[1;32m   1514\u001b[0m     \u001b[38;5;28;01mreturn\u001b[39;00m obj\u001b[38;5;241m.\u001b[39m_constructor_expanddim(\u001b[38;5;28mlist\u001b[39m(mapped), index\u001b[38;5;241m=\u001b[39mobj\u001b[38;5;241m.\u001b[39mindex)\n",
      "File \u001b[0;32m/cs/student/projects3/COMP0197/grp3/miniconda_ngriessh/envs/historical_mt_env/lib/python3.9/site-packages/pandas/core/base.py:921\u001b[0m, in \u001b[0;36mIndexOpsMixin._map_values\u001b[0;34m(self, mapper, na_action, convert)\u001b[0m\n\u001b[1;32m    918\u001b[0m \u001b[38;5;28;01mif\u001b[39;00m \u001b[38;5;28misinstance\u001b[39m(arr, ExtensionArray):\n\u001b[1;32m    919\u001b[0m     \u001b[38;5;28;01mreturn\u001b[39;00m arr\u001b[38;5;241m.\u001b[39mmap(mapper, na_action\u001b[38;5;241m=\u001b[39mna_action)\n\u001b[0;32m--> 921\u001b[0m \u001b[38;5;28;01mreturn\u001b[39;00m \u001b[43malgorithms\u001b[49m\u001b[38;5;241;43m.\u001b[39;49m\u001b[43mmap_array\u001b[49m\u001b[43m(\u001b[49m\u001b[43marr\u001b[49m\u001b[43m,\u001b[49m\u001b[43m \u001b[49m\u001b[43mmapper\u001b[49m\u001b[43m,\u001b[49m\u001b[43m \u001b[49m\u001b[43mna_action\u001b[49m\u001b[38;5;241;43m=\u001b[39;49m\u001b[43mna_action\u001b[49m\u001b[43m,\u001b[49m\u001b[43m \u001b[49m\u001b[43mconvert\u001b[49m\u001b[38;5;241;43m=\u001b[39;49m\u001b[43mconvert\u001b[49m\u001b[43m)\u001b[49m\n",
      "File \u001b[0;32m/cs/student/projects3/COMP0197/grp3/miniconda_ngriessh/envs/historical_mt_env/lib/python3.9/site-packages/pandas/core/algorithms.py:1743\u001b[0m, in \u001b[0;36mmap_array\u001b[0;34m(arr, mapper, na_action, convert)\u001b[0m\n\u001b[1;32m   1741\u001b[0m values \u001b[38;5;241m=\u001b[39m arr\u001b[38;5;241m.\u001b[39mastype(\u001b[38;5;28mobject\u001b[39m, copy\u001b[38;5;241m=\u001b[39m\u001b[38;5;28;01mFalse\u001b[39;00m)\n\u001b[1;32m   1742\u001b[0m \u001b[38;5;28;01mif\u001b[39;00m na_action \u001b[38;5;129;01mis\u001b[39;00m \u001b[38;5;28;01mNone\u001b[39;00m:\n\u001b[0;32m-> 1743\u001b[0m     \u001b[38;5;28;01mreturn\u001b[39;00m \u001b[43mlib\u001b[49m\u001b[38;5;241;43m.\u001b[39;49m\u001b[43mmap_infer\u001b[49m\u001b[43m(\u001b[49m\u001b[43mvalues\u001b[49m\u001b[43m,\u001b[49m\u001b[43m \u001b[49m\u001b[43mmapper\u001b[49m\u001b[43m,\u001b[49m\u001b[43m \u001b[49m\u001b[43mconvert\u001b[49m\u001b[38;5;241;43m=\u001b[39;49m\u001b[43mconvert\u001b[49m\u001b[43m)\u001b[49m\n\u001b[1;32m   1744\u001b[0m \u001b[38;5;28;01melse\u001b[39;00m:\n\u001b[1;32m   1745\u001b[0m     \u001b[38;5;28;01mreturn\u001b[39;00m lib\u001b[38;5;241m.\u001b[39mmap_infer_mask(\n\u001b[1;32m   1746\u001b[0m         values, mapper, mask\u001b[38;5;241m=\u001b[39misna(values)\u001b[38;5;241m.\u001b[39mview(np\u001b[38;5;241m.\u001b[39muint8), convert\u001b[38;5;241m=\u001b[39mconvert\n\u001b[1;32m   1747\u001b[0m     )\n",
      "File \u001b[0;32mlib.pyx:2972\u001b[0m, in \u001b[0;36mpandas._libs.lib.map_infer\u001b[0;34m()\u001b[0m\n",
      "Cell \u001b[0;32mIn[23], line 3\u001b[0m, in \u001b[0;36m<lambda>\u001b[0;34m(x)\u001b[0m\n\u001b[1;32m      1\u001b[0m \u001b[38;5;66;03m# Apply clean_text to each column in merged_df\u001b[39;00m\n\u001b[1;32m      2\u001b[0m \u001b[38;5;28;01mfor\u001b[39;00m column \u001b[38;5;129;01min\u001b[39;00m merged_df\u001b[38;5;241m.\u001b[39mcolumns:\n\u001b[0;32m----> 3\u001b[0m     merged_df[column] \u001b[38;5;241m=\u001b[39m merged_df[column]\u001b[38;5;241m.\u001b[39mapply(\u001b[38;5;28;01mlambda\u001b[39;00m x: \u001b[43mclean_text\u001b[49m\u001b[43m(\u001b[49m\u001b[38;5;28;43mstr\u001b[39;49m\u001b[43m(\u001b[49m\u001b[43mx\u001b[49m\u001b[43m)\u001b[49m\u001b[43m)\u001b[49m)\n",
      "Cell \u001b[0;32mIn[22], line 5\u001b[0m, in \u001b[0;36mclean_text\u001b[0;34m(text)\u001b[0m\n\u001b[1;32m      2\u001b[0m \u001b[38;5;28;01mdef\u001b[39;00m \u001b[38;5;21mclean_text\u001b[39m(text):\n\u001b[1;32m      3\u001b[0m \n\u001b[1;32m      4\u001b[0m     \u001b[38;5;66;03m# Remove unnecessary double white-spaces\u001b[39;00m\n\u001b[0;32m----> 5\u001b[0m     text \u001b[38;5;241m=\u001b[39m \u001b[43mre\u001b[49m\u001b[38;5;241m.\u001b[39msub(\u001b[38;5;124mr\u001b[39m\u001b[38;5;124m'\u001b[39m\u001b[38;5;124m\\\u001b[39m\u001b[38;5;124ms\u001b[39m\u001b[38;5;124m{\u001b[39m\u001b[38;5;124m2,}\u001b[39m\u001b[38;5;124m'\u001b[39m, \u001b[38;5;124m'\u001b[39m\u001b[38;5;124m \u001b[39m\u001b[38;5;124m'\u001b[39m, text)\n\u001b[1;32m      7\u001b[0m     \u001b[38;5;66;03m# Remove line breaks\u001b[39;00m\n\u001b[1;32m      8\u001b[0m     text \u001b[38;5;241m=\u001b[39m re\u001b[38;5;241m.\u001b[39msub(\u001b[38;5;124mr\u001b[39m\u001b[38;5;124m'\u001b[39m\u001b[38;5;124m[\u001b[39m\u001b[38;5;124m\\\u001b[39m\u001b[38;5;124mn\u001b[39m\u001b[38;5;124m\\\u001b[39m\u001b[38;5;124mr]+\u001b[39m\u001b[38;5;124m'\u001b[39m, \u001b[38;5;124m'\u001b[39m\u001b[38;5;124m \u001b[39m\u001b[38;5;124m'\u001b[39m, text)\n",
      "\u001b[0;31mNameError\u001b[0m: name 're' is not defined"
     ]
    }
   ],
   "source": [
    "# Apply clean_text to each column in merged_df\n",
    "for column in merged_df.columns:\n",
    "    merged_df[column] = merged_df[column].apply(lambda x: clean_text(str(x)))"
   ]
  },
  {
   "cell_type": "markdown",
   "metadata": {},
   "source": [
    "# Clean merged_df"
   ]
  },
  {
   "cell_type": "code",
   "execution_count": 9,
   "metadata": {},
   "outputs": [
    {
     "name": "stdout",
     "output_type": "stream",
     "text": [
      "NA values removed: Early Modern Bohemian German    0\n",
      "English                         0\n",
      "DE_to_EN_000_example_prompt     1\n",
      "EN_to_DE_000_example_prompt     0\n",
      "dtype: int64\n"
     ]
    }
   ],
   "source": [
    "# Drop NA values and count how many 'NA' or missing values are dropped\n",
    "na_values_removed = merged_df.isin(['NA', None]).sum()\n",
    "merged_df = merged_df.replace('NA', None).dropna()\n",
    "\n",
    "# Trim whitespaces and remove line breaks\n",
    "merged_df = merged_df.map(lambda x: x.strip().replace('\\n', '') if isinstance(x, str) else x)\n",
    "\n",
    "# Reporting the number of 'NA' or missing values removed\n",
    "print('NA values removed:', na_values_removed)"
   ]
  },
  {
   "cell_type": "code",
   "execution_count": 10,
   "metadata": {},
   "outputs": [
    {
     "data": {
      "text/plain": [
       "(999, 4)"
      ]
     },
     "execution_count": 10,
     "metadata": {},
     "output_type": "execute_result"
    }
   ],
   "source": [
    "merged_df.shape"
   ]
  },
  {
   "cell_type": "markdown",
   "metadata": {},
   "source": [
    "# Save the Merged DataFrame"
   ]
  },
  {
   "cell_type": "code",
   "execution_count": 24,
   "metadata": {},
   "outputs": [
    {
     "name": "stdout",
     "output_type": "stream",
     "text": [
      "\n",
      "Merged DataFrame saved to /cs/student/msc/csml/2023/ngriessh/historical_mt/results/microsoft/Phi-3.5-mini-instruct-bnb-4bit/merged_results.json\n",
      "Done!\n"
     ]
    }
   ],
   "source": [
    "# Save the merged DataFrame to a JSON file\n",
    "output_file = os.path.join(results_dir, \"merged_results.json\")\n",
    "merged_df.to_json(output_file, orient='records', lines=True)\n",
    "\n",
    "print(f\"\\nMerged DataFrame saved to {output_file}\")\n",
    "print('Done!')"
   ]
  },
  {
   "cell_type": "markdown",
   "metadata": {},
   "source": [
    "# Summary of Paths Used"
   ]
  },
  {
   "cell_type": "code",
   "execution_count": 25,
   "metadata": {},
   "outputs": [
    {
     "name": "stdout",
     "output_type": "stream",
     "text": [
      "\n",
      "Summary of Paths Used:\n",
      "Base path: /cs/student/msc/csml/2023/ngriessh/historical_mt\n",
      "Results directory: /cs/student/msc/csml/2023/ngriessh/historical_mt/results/microsoft/Phi-3.5-mini-instruct-bnb-4bit\n",
      "Output file: /cs/student/msc/csml/2023/ngriessh/historical_mt/results/microsoft/Phi-3.5-mini-instruct-bnb-4bit/merged_results.json\n",
      "\n",
      "Data directories and file checks:\n",
      "File: /cs/student/msc/csml/2023/ngriessh/historical_mt/results/microsoft/Phi-3.5-mini-instruct-bnb-4bit/icl/DE_to_EN/DE_to_EN_000_example_prompt.json - Exists: True\n",
      "File: /cs/student/msc/csml/2023/ngriessh/historical_mt/results/microsoft/Phi-3.5-mini-instruct-bnb-4bit/finetuning/DE_to_EN/DE_to_EN_finetuning.json - Exists: False\n",
      "File: /cs/student/msc/csml/2023/ngriessh/historical_mt/results/microsoft/Phi-3.5-mini-instruct-bnb-4bit/icl/EN_to_DE/EN_to_DE_000_example_prompt.json - Exists: True\n",
      "File: /cs/student/msc/csml/2023/ngriessh/historical_mt/results/microsoft/Phi-3.5-mini-instruct-bnb-4bit/finetuning/EN_to_DE/EN_to_DE_finetuning.json - Exists: False\n"
     ]
    }
   ],
   "source": [
    "print(\"\\nSummary of Paths Used:\")\n",
    "print(f\"Base path: {base_path}\")\n",
    "print(f\"Results directory: {results_dir}\")\n",
    "print(f\"Output file: {output_file}\")\n",
    "\n",
    "print(\"\\nData directories and file checks:\")\n",
    "for direction in ['DE_to_EN', 'EN_to_DE']:\n",
    "    for shot in shots_list + ['finetuning']:\n",
    "        base_folder = 'finetuning' if shot == 'finetuning' else 'icl'\n",
    "        folder_path = os.path.join(results_dir, base_folder, direction)\n",
    "        if isinstance(shot, int):\n",
    "            formatted_shot = f\"{shot:03}\"\n",
    "            file_name = f\"{direction}_{formatted_shot}_example_prompt.json\"\n",
    "        elif shot == 'finetuning':\n",
    "            file_name = f\"{direction}_finetuning.json\"\n",
    "        else:\n",
    "            continue  # Skip invalid shot values\n",
    "        file_path = os.path.join(folder_path, file_name)\n",
    "        file_exists = os.path.exists(file_path)\n",
    "        print(f\"File: {file_path} - Exists: {file_exists}\")"
   ]
  },
  {
   "cell_type": "markdown",
   "metadata": {},
   "source": [
    "# Check merged_df"
   ]
  },
  {
   "cell_type": "code",
   "execution_count": 26,
   "metadata": {},
   "outputs": [
    {
     "data": {
      "text/html": [
       "<div>\n",
       "<style scoped>\n",
       "    .dataframe tbody tr th:only-of-type {\n",
       "        vertical-align: middle;\n",
       "    }\n",
       "\n",
       "    .dataframe tbody tr th {\n",
       "        vertical-align: top;\n",
       "    }\n",
       "\n",
       "    .dataframe thead th {\n",
       "        text-align: right;\n",
       "    }\n",
       "</style>\n",
       "<table border=\"1\" class=\"dataframe\">\n",
       "  <thead>\n",
       "    <tr style=\"text-align: right;\">\n",
       "      <th></th>\n",
       "      <th>Early Modern Bohemian German</th>\n",
       "      <th>English</th>\n",
       "      <th>DE_to_EN_000_example_prompt</th>\n",
       "      <th>EN_to_DE_000_example_prompt</th>\n",
       "    </tr>\n",
       "  </thead>\n",
       "  <tbody>\n",
       "    <tr>\n",
       "      <th>0</th>\n",
       "      <td>1. dz Sie verschienen freytag als den 29 huig ...</td>\n",
       "      <td>1. last Friday, the 29th, they came up to the ...</td>\n",
       "      <td>They appeared on the 29th day at great pomp up...</td>\n",
       "      <td>Einen Freitag vorletzter Tage den XXIX., sie k...</td>\n",
       "    </tr>\n",
       "    <tr>\n",
       "      <th>1</th>\n",
       "      <td>Es ist Vor.12. iharen Vnnd mehr Zu Oberweigßdo...</td>\n",
       "      <td>12 years ago and more, in Oberweigsdorf, Paul ...</td>\n",
       "      <td>It was before 12th in honor at Upper Würzburg'...</td>\n",
       "      <td>Vor zwölf Jahren und darüber hinaus im Oberwei...</td>\n",
       "    </tr>\n",
       "    <tr>\n",
       "      <th>2</th>\n",
       "      <td>3. Novembris. Matz Apelt beschweret sich Vber ...</td>\n",
       "      <td>3. Novembris. Matz Apelt complains against Jac...</td>\n",
       "      <td>November. Matz Appelt complains about not rece...</td>\n",
       "      <td>Novemberstichtag. Matz Apel tritt gegen Jakob ...</td>\n",
       "    </tr>\n",
       "    <tr>\n",
       "      <th>3</th>\n",
       "      <td>Adam Kötter von d. Wittige, demnach er sich mi...</td>\n",
       "      <td>Adam Koetter from the Wittige, since he disput...</td>\n",
       "      <td>Adam Kötter of d'Wittige, therefore he took up...</td>\n",
       "      <td>Adam von der Witte seitdem er sich im Wortkamp...</td>\n",
       "    </tr>\n",
       "    <tr>\n",
       "      <th>4</th>\n",
       "      <td>Adam Krauß zumb Einsiedel saget auff sein gewi...</td>\n",
       "      <td>Adam Krauss in Einsiedel declares on his consc...</td>\n",
       "      <td>Adam Krauß summons his hermit forthwith upon o...</td>\n",
       "      <td>Adam Krauss im Einsideln erkläutert auf seinem...</td>\n",
       "    </tr>\n",
       "    <tr>\n",
       "      <th>...</th>\n",
       "      <td>...</td>\n",
       "      <td>...</td>\n",
       "      <td>...</td>\n",
       "      <td>...</td>\n",
       "    </tr>\n",
       "    <tr>\n",
       "      <th>995</th>\n",
       "      <td>Schülteß Zu Ringenhain berichtet, wie ettwan e...</td>\n",
       "      <td>village headman in Ringenhain reports that a y...</td>\n",
       "      <td>At Ringeshain it has been reported that yester...</td>\n",
       "      <td>Dorfschultheiß von Ringeneim berichtet, dass e...</td>\n",
       "    </tr>\n",
       "    <tr>\n",
       "      <th>996</th>\n",
       "      <td>Scholz Zue Raspenaw zeit an, Görge Krichuff we...</td>\n",
       "      <td>village headman of Raspenau reports that Goerg...</td>\n",
       "      <td>Scholz at once becomes notorious for Goering s...</td>\n",
       "      <td>Dorfschulze von Raspfenau berichtet, dass der ...</td>\n",
       "    </tr>\n",
       "    <tr>\n",
       "      <th>997</th>\n",
       "      <td>Scholz Zeigt an, das hans Bischoffs Sohn Vndt ...</td>\n",
       "      <td>village headman reports that Hans Bischoff's s...</td>\n",
       "      <td>Showing that his Bishop's son, Berthold Schwar...</td>\n",
       "      <td>Der Dorfvorsteher berichtet von dem Kampf zwis...</td>\n",
       "    </tr>\n",
       "    <tr>\n",
       "      <th>998</th>\n",
       "      <td>Scholz zeigt an das Peter Pilzes 3 Söhne Zu Ku...</td>\n",
       "      <td>village headman reports that Peter Pilze's 3 s...</td>\n",
       "      <td>Scholz shows at Knight Pilzes's three sons at ...</td>\n",
       "      <td>Der Dorfschulze berichtete, dass Peters Söhne ...</td>\n",
       "    </tr>\n",
       "    <tr>\n",
       "      <th>999</th>\n",
       "      <td>Scholtzen Zu Waigßdorff Vnd Priedlanz. Eß ist ...</td>\n",
       "      <td>village headmen in Waigßdorff and Priedlanz. I...</td>\n",
       "      <td>To Your Schlosses Windsor and Pridelnitz. It i...</td>\n",
       "      <td>Dorfhüter im Waigßdorf und Prödeltz. Es handel...</td>\n",
       "    </tr>\n",
       "  </tbody>\n",
       "</table>\n",
       "<p>1000 rows × 4 columns</p>\n",
       "</div>"
      ],
      "text/plain": [
       "                          Early Modern Bohemian German  \\\n",
       "0    1. dz Sie verschienen freytag als den 29 huig ...   \n",
       "1    Es ist Vor.12. iharen Vnnd mehr Zu Oberweigßdo...   \n",
       "2    3. Novembris. Matz Apelt beschweret sich Vber ...   \n",
       "3    Adam Kötter von d. Wittige, demnach er sich mi...   \n",
       "4    Adam Krauß zumb Einsiedel saget auff sein gewi...   \n",
       "..                                                 ...   \n",
       "995  Schülteß Zu Ringenhain berichtet, wie ettwan e...   \n",
       "996  Scholz Zue Raspenaw zeit an, Görge Krichuff we...   \n",
       "997  Scholz Zeigt an, das hans Bischoffs Sohn Vndt ...   \n",
       "998  Scholz zeigt an das Peter Pilzes 3 Söhne Zu Ku...   \n",
       "999  Scholtzen Zu Waigßdorff Vnd Priedlanz. Eß ist ...   \n",
       "\n",
       "                                               English  \\\n",
       "0    1. last Friday, the 29th, they came up to the ...   \n",
       "1    12 years ago and more, in Oberweigsdorf, Paul ...   \n",
       "2    3. Novembris. Matz Apelt complains against Jac...   \n",
       "3    Adam Koetter from the Wittige, since he disput...   \n",
       "4    Adam Krauss in Einsiedel declares on his consc...   \n",
       "..                                                 ...   \n",
       "995  village headman in Ringenhain reports that a y...   \n",
       "996  village headman of Raspenau reports that Goerg...   \n",
       "997  village headman reports that Hans Bischoff's s...   \n",
       "998  village headman reports that Peter Pilze's 3 s...   \n",
       "999  village headmen in Waigßdorff and Priedlanz. I...   \n",
       "\n",
       "                           DE_to_EN_000_example_prompt  \\\n",
       "0    They appeared on the 29th day at great pomp up...   \n",
       "1    It was before 12th in honor at Upper Würzburg'...   \n",
       "2    November. Matz Appelt complains about not rece...   \n",
       "3    Adam Kötter of d'Wittige, therefore he took up...   \n",
       "4    Adam Krauß summons his hermit forthwith upon o...   \n",
       "..                                                 ...   \n",
       "995  At Ringeshain it has been reported that yester...   \n",
       "996  Scholz at once becomes notorious for Goering s...   \n",
       "997  Showing that his Bishop's son, Berthold Schwar...   \n",
       "998  Scholz shows at Knight Pilzes's three sons at ...   \n",
       "999  To Your Schlosses Windsor and Pridelnitz. It i...   \n",
       "\n",
       "                           EN_to_DE_000_example_prompt  \n",
       "0    Einen Freitag vorletzter Tage den XXIX., sie k...  \n",
       "1    Vor zwölf Jahren und darüber hinaus im Oberwei...  \n",
       "2    Novemberstichtag. Matz Apel tritt gegen Jakob ...  \n",
       "3    Adam von der Witte seitdem er sich im Wortkamp...  \n",
       "4    Adam Krauss im Einsideln erkläutert auf seinem...  \n",
       "..                                                 ...  \n",
       "995  Dorfschultheiß von Ringeneim berichtet, dass e...  \n",
       "996  Dorfschulze von Raspfenau berichtet, dass der ...  \n",
       "997  Der Dorfvorsteher berichtet von dem Kampf zwis...  \n",
       "998  Der Dorfschulze berichtete, dass Peters Söhne ...  \n",
       "999  Dorfhüter im Waigßdorf und Prödeltz. Es handel...  \n",
       "\n",
       "[1000 rows x 4 columns]"
      ]
     },
     "execution_count": 26,
     "metadata": {},
     "output_type": "execute_result"
    }
   ],
   "source": [
    "merged_df"
   ]
  },
  {
   "cell_type": "code",
   "execution_count": null,
   "metadata": {},
   "outputs": [],
   "source": []
  },
  {
   "cell_type": "code",
   "execution_count": null,
   "metadata": {},
   "outputs": [],
   "source": []
  },
  {
   "cell_type": "code",
   "execution_count": null,
   "metadata": {},
   "outputs": [],
   "source": []
  }
 ],
 "metadata": {
  "kernelspec": {
   "display_name": "Python 3",
   "language": "python",
   "name": "python3"
  },
  "language_info": {
   "codemirror_mode": {
    "name": "ipython",
    "version": 3
   },
   "file_extension": ".py",
   "mimetype": "text/x-python",
   "name": "python",
   "nbconvert_exporter": "python",
   "pygments_lexer": "ipython3",
   "version": "3.9.19"
  }
 },
 "nbformat": 4,
 "nbformat_minor": 2
}
