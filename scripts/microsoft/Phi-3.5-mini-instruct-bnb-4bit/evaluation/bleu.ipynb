{
 "cells": [
  {
   "cell_type": "markdown",
   "metadata": {},
   "source": [
    "# Import libraries"
   ]
  },
  {
   "cell_type": "code",
   "execution_count": 1,
   "metadata": {},
   "outputs": [],
   "source": [
    "# Import libraries\n",
    "import os\n",
    "import pandas as pd\n",
    "import json\n",
    "import sacrebleu"
   ]
  },
  {
   "cell_type": "markdown",
   "metadata": {},
   "source": [
    "# Set Paths"
   ]
  },
  {
   "cell_type": "code",
   "execution_count": 2,
   "metadata": {},
   "outputs": [
    {
     "name": "stdout",
     "output_type": "stream",
     "text": [
      "Base path: /cs/student/msc/csml/2023/ngriessh/historical_mt\n",
      "Results path: /cs/student/msc/csml/2023/ngriessh/historical_mt/results/microsoft/Phi-3.5-mini-instruct-bnb-4bit/merged_results.json\n"
     ]
    }
   ],
   "source": [
    "# Base path\n",
    "base_path = os.path.abspath(os.path.join(os.getcwd(), '..', '..', '..', '..'))\n",
    "\n",
    "# Model Parameters\n",
    "unsloth_model_name = 'unsloth/Phi-3.5-mini-instruct-bnb-4bit'\n",
    "company_name = 'microsoft'\n",
    "model_name = unsloth_model_name.split('/')[1]\n",
    "\n",
    "# Results path\n",
    "results_path_file = os.path.join(base_path, 'results', company_name, model_name, 'merged_results.json')\n",
    "\n",
    "# Print paths\n",
    "print('Base path:', base_path)\n",
    "print('Results path:', results_path_file)"
   ]
  },
  {
   "cell_type": "markdown",
   "metadata": {},
   "source": [
    "# Load Results File"
   ]
  },
  {
   "cell_type": "code",
   "execution_count": 3,
   "metadata": {},
   "outputs": [],
   "source": [
    "# Load the JSON file\n",
    "with open(results_path_file, 'r') as f:\n",
    "    data = [json.loads(line) for line in f]\n",
    "\n",
    "# Create a DataFrame based on the JSON file\n",
    "merged_df = pd.DataFrame(data)"
   ]
  },
  {
   "cell_type": "markdown",
   "metadata": {},
   "source": [
    "# Check Columns"
   ]
  },
  {
   "cell_type": "code",
   "execution_count": 4,
   "metadata": {},
   "outputs": [
    {
     "data": {
      "text/plain": [
       "Index(['Early Modern Bohemian German', 'English', 'DE_to_EN_finetuning',\n",
       "       'EN_to_DE_finetuning'],\n",
       "      dtype='object')"
      ]
     },
     "execution_count": 4,
     "metadata": {},
     "output_type": "execute_result"
    }
   ],
   "source": [
    "# Check column names\n",
    "merged_df.columns"
   ]
  },
  {
   "cell_type": "markdown",
   "metadata": {},
   "source": [
    "# BLEU Evaluation"
   ]
  },
  {
   "cell_type": "code",
   "execution_count": 6,
   "metadata": {},
   "outputs": [
    {
     "name": "stdout",
     "output_type": "stream",
     "text": [
      "Corpus-level SacreBLEU score for DE_to_EN_finetuning: 6.51\n",
      "Corpus-level SacreBLEU score for EN_to_DE_finetuning: 13.09\n"
     ]
    }
   ],
   "source": [
    "# Define references (the human-provided English translations by Professor Sheilagh Ogilvie)\n",
    "references = [merged_df['Early Modern Bohemian German'].tolist()]\n",
    "\n",
    "# List of columns containing the different LLM-generated candidate translations\n",
    "icl_DE_to_EN_candidate_columns = []#['DE_to_EN_000_example_prompt', 'DE_to_EN_001_example_prompt', 'DE_to_EN_002_example_prompt', 'DE_to_EN_004_example_prompt', 'DE_to_EN_008_example_prompt']# 'DE_to_EN_016_example_prompt', 'DE_to_EN_032_example_prompt', 'DE_to_EN_064_example_prompt']\n",
    "icl_EN_to_DE_candidate_columns = []#['EN_to_DE_000_example_prompt', 'EN_to_DE_001_example_prompt', 'EN_to_DE_002_example_prompt', 'EN_to_DE_004_example_prompt', 'EN_to_DE_008_example_prompt'] #'EN_to_DE_016_example_prompt', 'EN_to_DE_032_example_prompt', 'EN_to_DE_064_example_prompt']\n",
    "finetuning_candidate_columns = ['DE_to_EN_finetuning', 'EN_to_DE_finetuning']\n",
    "\n",
    "# Concatenate all candidate columns\n",
    "candidate_columns = icl_DE_to_EN_candidate_columns + icl_EN_to_DE_candidate_columns + finetuning_candidate_columns\n",
    "\n",
    "# Loop through each set of candidate translations and calculate BLEU score\n",
    "for col in candidate_columns:\n",
    "    candidates = merged_df[col].tolist()\n",
    "    bleu_score = sacrebleu.corpus_bleu(candidates, references).score\n",
    "    print(f\"Corpus-level SacreBLEU score for {col}: {bleu_score:.2f}\")"
   ]
  },
  {
   "cell_type": "markdown",
   "metadata": {},
   "source": [
    "# Create Text File to Inspect Translation Results"
   ]
  },
  {
   "cell_type": "code",
   "execution_count": 12,
   "metadata": {},
   "outputs": [
    {
     "name": "stdout",
     "output_type": "stream",
     "text": [
      "Text file created: translation_inspection_entry.txt\n"
     ]
    }
   ],
   "source": [
    "# Function to generate the inspection text for a specific entry\n",
    "def generate_inspection_text(df, entry_index, translation_directions, output_file):\n",
    "    with open(output_file, 'w', encoding='utf-8') as f:\n",
    "\n",
    "        # Get the row corresponding to the entry index\n",
    "        row = df.iloc[entry_index]\n",
    "\n",
    "        # Write the German and English translations pairs by Sheilagh Ogilvie\n",
    "        f.write(f\"Entry {entry_index + 1}:\\n\")\n",
    "        f.write(f\"Early Modern Bohemian German (Sheilagh Ogilvie's Transcription): {row['Early Modern Bohemian German']}\\n\")\n",
    "        f.write(f\"English (Sheilagh Ogilvie): {row['English']}\\n\\n\")\n",
    "\n",
    "        # Write the candidate translations for each translation direction\n",
    "        for col in df.columns:\n",
    "            if any(direction in col for direction in translation_directions):\n",
    "                f.write(f\"{col}: {row[col]}\\n\")\n",
    "        \n",
    "        f.write(\"\\n\" + \"=\"*50 + \"\\n\\n\")\n",
    "\n",
    "# Define the translation directions and the entry to inspect\n",
    "translation_directions = ['DE_to_EN', 'EN_to_DE']\n",
    "entry_index = 1\n",
    "\n",
    "# Call the function to generate the text file\n",
    "output_file = 'translation_inspection_entry.txt'\n",
    "generate_inspection_text(merged_df, entry_index, translation_directions, output_file)\n",
    "print(f\"Text file created: {output_file}\")\n"
   ]
  },
  {
   "cell_type": "code",
   "execution_count": null,
   "metadata": {},
   "outputs": [],
   "source": []
  }
 ],
 "metadata": {
  "kernelspec": {
   "display_name": "Python 3",
   "language": "python",
   "name": "python3"
  },
  "language_info": {
   "codemirror_mode": {
    "name": "ipython",
    "version": 3
   },
   "file_extension": ".py",
   "mimetype": "text/x-python",
   "name": "python",
   "nbconvert_exporter": "python",
   "pygments_lexer": "ipython3",
   "version": "3.9.19"
  }
 },
 "nbformat": 4,
 "nbformat_minor": 2
}
