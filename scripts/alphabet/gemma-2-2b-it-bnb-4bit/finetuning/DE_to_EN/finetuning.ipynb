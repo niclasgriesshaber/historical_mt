{
 "cells": [
  {
   "cell_type": "markdown",
   "metadata": {},
   "source": [
    "# Import libraries"
   ]
  },
  {
   "cell_type": "code",
   "execution_count": 1,
   "metadata": {},
   "outputs": [
    {
     "name": "stdout",
     "output_type": "stream",
     "text": [
      "🦥 Unsloth: Will patch your computer to enable 2x faster free finetuning.\n"
     ]
    }
   ],
   "source": [
    "import os\n",
    "import torch\n",
    "\n",
    "from huggingface_hub import login\n",
    "from datasets import load_dataset\n",
    "from unsloth import FastLanguageModel\n",
    "from transformers import TrainingArguments, TrainerCallback\n",
    "from trl import SFTTrainer\n",
    "from unsloth import is_bfloat16_supported"
   ]
  },
  {
   "cell_type": "markdown",
   "metadata": {},
   "source": [
    "# Set Paths and Hyperparameters"
   ]
  },
  {
   "cell_type": "code",
   "execution_count": 2,
   "metadata": {},
   "outputs": [
    {
     "name": "stdout",
     "output_type": "stream",
     "text": [
      "Company name: alphabet\n",
      "Model name: gemma-2-2b-it-bnb-4bit\n",
      "Base path: /cs/student/msc/csml/2023/ngriessh/historical_mt\n",
      "Translation direction: DE_to_EN\n",
      "Finetuning prompts path: /cs/student/msc/csml/2023/ngriessh/historical_mt/data/icl_prompts/alphabet/gemma-2-2b-it-bnb-4bit/DE_to_EN/finetuning_prompt_check.txt\n",
      "Model output path: /cs/student/msc/csml/2023/ngriessh/historical_mt/models/alphabet/gemma-2-2b-it-bnb-4bit/finetuning/DE_to_EN\n",
      "Token is valid (permission: write).\n",
      "Your token has been saved in your configured git credential helpers (store).\n",
      "Your token has been saved to /cs/student/msc/csml/2023/ngriessh/.cache/huggingface/token\n",
      "Login successful\n"
     ]
    }
   ],
   "source": [
    "# Base path\n",
    "base_path = os.path.abspath(os.path.join(os.getcwd(), '..', '..', '..', '..', '..'))\n",
    "\n",
    "# Source and target language\n",
    "source_language = \"Early Modern Bohemian German\"\n",
    "target_language = \"English\"\n",
    "\n",
    "# Translation direction\n",
    "translation_direction = \"DE_to_EN\" if source_language == \"Early Modern Bohemian German\" else \"EN_to_DE\"\n",
    "\n",
    "# Model parameters\n",
    "unsloth_model_name = 'unsloth/gemma-2-2b-it-bnb-4bit'\n",
    "company_name = 'alphabet'\n",
    "\n",
    "model_name = unsloth_model_name.split('/')[1]\n",
    "max_new_tokens = 2000           # Maximum number of model output\n",
    "max_seq_length = 5000           # Maximum of input tokens\n",
    "dtype = None                    # None for auto detection. Float16 for Tesla T4, V100, Bfloat16 for Ampere+\n",
    "load_in_4bit = True             # Use 4bit quantization to reduce memory usage. Can be False.\n",
    "\n",
    "# Model output path\n",
    "model_output_path = os.path.join(\n",
    "    base_path, \n",
    "    'models', \n",
    "    company_name, \n",
    "    model_name,\n",
    "    'finetuning',\n",
    "    translation_direction)\n",
    "\n",
    "# Finetuning prompts path\n",
    "finetuning_prompts_path = os.path.join(\n",
    "    base_path, \n",
    "    'data', \n",
    "    'icl_prompts',\n",
    "    company_name,\n",
    "    model_name,\n",
    "    translation_direction, \n",
    "    'finetuning_prompt_check.txt'\n",
    ")\n",
    "\n",
    "# Print paths\n",
    "print(f'Company name: {company_name}')\n",
    "print(f'Model name: {model_name}')\n",
    "print(f'Base path: {base_path}')\n",
    "print(f'Translation direction: {translation_direction}')\n",
    "print(f'Finetuning prompts path: {finetuning_prompts_path}')\n",
    "print(f'Model output path: {model_output_path}')\n",
    "\n",
    "# Hugging face login\n",
    "hub_token = \"hf_...\"\n",
    "login(hub_token, add_to_git_credential=True)"
   ]
  },
  {
   "cell_type": "markdown",
   "metadata": {},
   "source": [
    "# Load Training and Validation Dataset"
   ]
  },
  {
   "cell_type": "code",
   "execution_count": 3,
   "metadata": {},
   "outputs": [
    {
     "data": {
      "application/vnd.jupyter.widget-view+json": {
       "model_id": "71376732b1b44dd0a63a6f43c85c93f1",
       "version_major": 2,
       "version_minor": 0
      },
      "text/plain": [
       "README.md:   0%|          | 0.00/24.0 [00:00<?, ?B/s]"
      ]
     },
     "metadata": {},
     "output_type": "display_data"
    }
   ],
   "source": [
    "# Data preparation\n",
    "dataset = load_dataset(\"niclasgriesshaber/EarlyModernGerman_to_EN_finetuning\")\n",
    "train_dataset = dataset[\"train\"]\n",
    "validation_dataset = dataset[\"validation\"]"
   ]
  },
  {
   "cell_type": "code",
   "execution_count": 4,
   "metadata": {},
   "outputs": [
    {
     "data": {
      "text/plain": [
       "Dataset({\n",
       "    features: ['Early Modern Bohemian German', 'English'],\n",
       "    num_rows: 2429\n",
       "})"
      ]
     },
     "execution_count": 4,
     "metadata": {},
     "output_type": "execute_result"
    }
   ],
   "source": [
    "train_dataset"
   ]
  },
  {
   "cell_type": "code",
   "execution_count": 5,
   "metadata": {},
   "outputs": [
    {
     "data": {
      "text/plain": [
       "Dataset({\n",
       "    features: ['Early Modern Bohemian German', 'English'],\n",
       "    num_rows: 269\n",
       "})"
      ]
     },
     "execution_count": 5,
     "metadata": {},
     "output_type": "execute_result"
    }
   ],
   "source": [
    "validation_dataset"
   ]
  },
  {
   "cell_type": "markdown",
   "metadata": {},
   "source": [
    "# Prompt template"
   ]
  },
  {
   "cell_type": "code",
   "execution_count": 6,
   "metadata": {},
   "outputs": [],
   "source": [
    "prompt_template = \"\"\"Translate the following from {} to {}:\n",
    "\n",
    "### Input\n",
    "{}\n",
    "\n",
    "### Translation\n",
    "{}\"\"\""
   ]
  },
  {
   "cell_type": "code",
   "execution_count": 7,
   "metadata": {},
   "outputs": [],
   "source": [
    "# Apply prompt template\n",
    "def formatting_prompts_func(examples, source_language, target_language):\n",
    "\n",
    "    source_texts = examples[source_language]\n",
    "    target_texts = examples[target_language]\n",
    "    texts = []\n",
    "\n",
    "    for source_text, target_text in zip(source_texts, target_texts):\n",
    "        # Format the prompt with dynamic source and target languages\n",
    "        text = prompt_template.format(\n",
    "            source_language, \n",
    "            target_language,\n",
    "            source_text,\n",
    "            target_text\n",
    "        ) + '<eos>'\n",
    "        texts.append(text)\n",
    "\n",
    "    return {\"text\": texts}"
   ]
  },
  {
   "cell_type": "markdown",
   "metadata": {},
   "source": [
    "# Apply Prompt Template to Validation and Test Dataset"
   ]
  },
  {
   "cell_type": "code",
   "execution_count": 8,
   "metadata": {},
   "outputs": [],
   "source": [
    "# Apply prompt template to train dataset\n",
    "train_dataset = train_dataset.map(\n",
    "    lambda examples: formatting_prompts_func(examples, source_language, target_language),\n",
    "    batched=True\n",
    ")\n",
    "\n",
    "# Apply prompte template to validation dataset\n",
    "validation_dataset = validation_dataset.map(\n",
    "    lambda examples: formatting_prompts_func(examples, source_language, target_language),\n",
    "    batched=True\n",
    ")"
   ]
  },
  {
   "cell_type": "code",
   "execution_count": 9,
   "metadata": {},
   "outputs": [],
   "source": [
    "# Output a text file to check prompt\n",
    "with open(finetuning_prompts_path, \"w\") as f:\n",
    "    f.write(validation_dataset['text'][0])"
   ]
  },
  {
   "cell_type": "markdown",
   "metadata": {},
   "source": [
    "# Load Model"
   ]
  },
  {
   "cell_type": "code",
   "execution_count": 10,
   "metadata": {},
   "outputs": [
    {
     "name": "stdout",
     "output_type": "stream",
     "text": [
      "Unsloth: If you want to finetune Gemma 2, install flash-attn to make it faster!\n",
      "To install flash-attn, do the below:\n",
      "\n",
      "pip install --no-deps --upgrade \"flash-attn>=2.6.3\"\n",
      "==((====))==  Unsloth 2024.9.post4: Fast Gemma2 patching. Transformers = 4.44.2.\n",
      "   \\\\   /|    GPU: NVIDIA GeForce RTX 3090 Ti. Max memory: 23.575 GB. Platform = Linux.\n",
      "O^O/ \\_/ \\    Pytorch: 2.4.1+cu121. CUDA = 8.6. CUDA Toolkit = 12.1.\n",
      "\\        /    Bfloat16 = TRUE. FA [Xformers = 0.0.28.post1. FA2 = False]\n",
      " \"-____-\"     Free Apache license: http://github.com/unslothai/unsloth\n"
     ]
    },
    {
     "data": {
      "application/vnd.jupyter.widget-view+json": {
       "model_id": "d46967a2b18a40a5bd334f1f4aea9fc4",
       "version_major": 2,
       "version_minor": 0
      },
      "text/plain": [
       "model.safetensors:   0%|          | 0.00/2.22G [00:00<?, ?B/s]"
      ]
     },
     "metadata": {},
     "output_type": "display_data"
    },
    {
     "data": {
      "application/vnd.jupyter.widget-view+json": {
       "model_id": "354d5ac31fc34d14a9526365606c3035",
       "version_major": 2,
       "version_minor": 0
      },
      "text/plain": [
       "generation_config.json:   0%|          | 0.00/209 [00:00<?, ?B/s]"
      ]
     },
     "metadata": {},
     "output_type": "display_data"
    },
    {
     "data": {
      "application/vnd.jupyter.widget-view+json": {
       "model_id": "79d2d82936db4283a048e7558deccb1d",
       "version_major": 2,
       "version_minor": 0
      },
      "text/plain": [
       "tokenizer_config.json:   0%|          | 0.00/47.0k [00:00<?, ?B/s]"
      ]
     },
     "metadata": {},
     "output_type": "display_data"
    },
    {
     "data": {
      "application/vnd.jupyter.widget-view+json": {
       "model_id": "89f462731b0b4a22846a23ada4f7fba3",
       "version_major": 2,
       "version_minor": 0
      },
      "text/plain": [
       "tokenizer.model:   0%|          | 0.00/4.24M [00:00<?, ?B/s]"
      ]
     },
     "metadata": {},
     "output_type": "display_data"
    },
    {
     "data": {
      "application/vnd.jupyter.widget-view+json": {
       "model_id": "94636d6a7d0d4a089794b396d66437c7",
       "version_major": 2,
       "version_minor": 0
      },
      "text/plain": [
       "special_tokens_map.json:   0%|          | 0.00/636 [00:00<?, ?B/s]"
      ]
     },
     "metadata": {},
     "output_type": "display_data"
    },
    {
     "data": {
      "application/vnd.jupyter.widget-view+json": {
       "model_id": "545823a019b24215ae721942d44295d5",
       "version_major": 2,
       "version_minor": 0
      },
      "text/plain": [
       "tokenizer.json:   0%|          | 0.00/17.5M [00:00<?, ?B/s]"
      ]
     },
     "metadata": {},
     "output_type": "display_data"
    }
   ],
   "source": [
    "# Load model and tokenizer\n",
    "model, tokenizer = FastLanguageModel.from_pretrained(\n",
    "    model_name = unsloth_model_name,\n",
    "    max_seq_length = max_seq_length,\n",
    "    dtype = dtype,\n",
    "    load_in_4bit = load_in_4bit,\n",
    ")"
   ]
  },
  {
   "cell_type": "markdown",
   "metadata": {},
   "source": [
    "# PEFT"
   ]
  },
  {
   "cell_type": "code",
   "execution_count": 11,
   "metadata": {},
   "outputs": [
    {
     "name": "stderr",
     "output_type": "stream",
     "text": [
      "Unsloth: Dropout = 0 is supported for fast patching. You are using dropout = 0.1.\n",
      "Unsloth will patch all other layers, except LoRA matrices, causing a performance hit.\n",
      "Unsloth 2024.9.post4 patched 26 layers with 0 QKV layers, 0 O layers and 0 MLP layers.\n"
     ]
    }
   ],
   "source": [
    "model = FastLanguageModel.get_peft_model(\n",
    "    model,\n",
    "    r = 32, # Choose any number > 0 ! Suggested 8, 16, 32, 64, 128\n",
    "    target_modules = [\"q_proj\", \"k_proj\", \"v_proj\", \"o_proj\",\n",
    "                      \"gate_proj\", \"up_proj\", \"down_proj\",],\n",
    "    lora_alpha = 16,\n",
    "    lora_dropout = 0.1, # Supports any, but = 0 is optimized\n",
    "    bias = \"none\",    # Supports any, but = \"none\" is optimized\n",
    "    # [NEW] \"unsloth\" uses 30% less VRAM, fits 2x larger batch sizes!\n",
    "    use_gradient_checkpointing = \"unsloth\", # True or \"unsloth\" for very long context\n",
    "    random_state = 3407,\n",
    "    use_rslora = False,  # We support rank stabilized LoRA\n",
    "    loftq_config = None, # And LoftQ\n",
    ")"
   ]
  },
  {
   "cell_type": "markdown",
   "metadata": {},
   "source": [
    "# Finetuning"
   ]
  },
  {
   "cell_type": "code",
   "execution_count": 12,
   "metadata": {},
   "outputs": [
    {
     "name": "stderr",
     "output_type": "stream",
     "text": [
      "huggingface/tokenizers: The current process just got forked, after parallelism has already been used. Disabling parallelism to avoid deadlocks...\n",
      "To disable this warning, you can either:\n",
      "\t- Avoid using `tokenizers` before the fork if possible\n",
      "\t- Explicitly set the environment variable TOKENIZERS_PARALLELISM=(true | false)\n",
      "huggingface/tokenizers: The current process just got forked, after parallelism has already been used. Disabling parallelism to avoid deadlocks...\n",
      "To disable this warning, you can either:\n",
      "\t- Avoid using `tokenizers` before the fork if possible\n",
      "\t- Explicitly set the environment variable TOKENIZERS_PARALLELISM=(true | false)\n"
     ]
    },
    {
     "data": {
      "application/vnd.jupyter.widget-view+json": {
       "model_id": "1ddb6af2a9d140aaa3dfe174154e08df",
       "version_major": 2,
       "version_minor": 0
      },
      "text/plain": [
       "Map (num_proc=2):   0%|          | 0/2429 [00:00<?, ? examples/s]"
      ]
     },
     "metadata": {},
     "output_type": "display_data"
    },
    {
     "data": {
      "application/vnd.jupyter.widget-view+json": {
       "model_id": "a3543ae0dcf44ee49753b40c980df7ee",
       "version_major": 2,
       "version_minor": 0
      },
      "text/plain": [
       "Map (num_proc=2):   0%|          | 0/269 [00:00<?, ? examples/s]"
      ]
     },
     "metadata": {},
     "output_type": "display_data"
    },
    {
     "name": "stderr",
     "output_type": "stream",
     "text": [
      "Using auto half precision backend\n"
     ]
    }
   ],
   "source": [
    "# Custom Callback to Save LoRA Parameters and Track Validation Loss after Each Epoch\n",
    "class SaveLoRAPeftCallback(TrainerCallback):\n",
    "\n",
    "    def on_epoch_end(self, args, state, control, **kwargs):\n",
    "\n",
    "        # Get epoch\n",
    "        num_epoch = round(state.epoch)\n",
    "\n",
    "        # Print end of epoch\n",
    "        print(f'End of epoch {num_epoch}')\n",
    "\n",
    "        # Evaluate the model on the validation dataset\n",
    "        eval_results = trainer.evaluate()\n",
    "\n",
    "        # Extract the validation loss\n",
    "        validation_loss = eval_results[\"eval_loss\"]\n",
    "\n",
    "        # Print the validation loss\n",
    "        print(f\"Validation Loss after epoch {num_epoch}: {validation_loss}\")\n",
    "\n",
    "        # Save the validation loss to a file\n",
    "        with open(\"validation_loss.txt\", \"a\") as f:\n",
    "            f.write(f\"Validation Loss after epoch {num_epoch}: {validation_loss}\\n\")\n",
    "\n",
    "        # Create folder for each epoch\n",
    "        output_dir = os.path.join(args.output_dir, f\"epoch_{num_epoch}\")\n",
    "        os.makedirs(output_dir)\n",
    "\n",
    "        # Print saving LoRA parameters\n",
    "        print(f\"Saving LoRA parameters to {output_dir} at the end of epoch {round(state.epoch)}\")\n",
    "        \n",
    "        # Save only the LoRA adapters\n",
    "        kwargs['model'].save_pretrained(output_dir)\n",
    "\n",
    "        print('Saved. Emptying torch.cuda.empty_cache() now.')\n",
    "        torch.cuda.empty_cache()\n",
    "\n",
    "# Initialize the trainer with the callback\n",
    "trainer = SFTTrainer(\n",
    "    model=model,\n",
    "    tokenizer=tokenizer,\n",
    "    train_dataset=train_dataset,\n",
    "    eval_dataset=validation_dataset,\n",
    "    dataset_text_field=\"text\",\n",
    "    max_seq_length=max_seq_length,\n",
    "    dataset_num_proc=2,\n",
    "    packing=False,\n",
    "    args=TrainingArguments(\n",
    "        learning_rate=3e-4,\n",
    "        lr_scheduler_type=\"linear\",\n",
    "        per_device_train_batch_size=1,\n",
    "        per_device_eval_batch_size=1,\n",
    "        gradient_accumulation_steps=4,\n",
    "        num_train_epochs=3,\n",
    "        fp16=not is_bfloat16_supported(),\n",
    "        bf16=is_bfloat16_supported(),\n",
    "        logging_steps=1,\n",
    "        eval_strategy=\"epoch\",\n",
    "        save_strategy=\"no\",\n",
    "        optim=\"adamw_8bit\",\n",
    "        weight_decay=0.01,\n",
    "        warmup_steps=10,\n",
    "        output_dir=model_output_path,\n",
    "        seed=0,\n",
    "        log_level=\"info\",\n",
    "        report_to=\"none\",\n",
    "    ),\n",
    "    callbacks=[SaveLoRAPeftCallback()],\n",
    ")"
   ]
  },
  {
   "cell_type": "code",
   "execution_count": 13,
   "metadata": {},
   "outputs": [
    {
     "name": "stdout",
     "output_type": "stream",
     "text": [
      "Evaluation at the beginning of epoch 1\n"
     ]
    },
    {
     "name": "stderr",
     "output_type": "stream",
     "text": [
      "\n",
      "***** Running Evaluation *****\n",
      "  Num examples = 269\n",
      "  Batch size = 1\n",
      "AUTOTUNE bmm(8x105x256, 8x256x105)\n",
      "  triton_bmm_1 0.0085 ms 100.0%\n",
      "  triton_bmm_2 0.0102 ms 82.8%\n",
      "  triton_bmm_7 0.0102 ms 82.8%\n",
      "  triton_bmm_3 0.0113 ms 75.3%\n",
      "  triton_bmm_6 0.0123 ms 69.2%\n",
      "  bmm 0.0123 ms 69.0%\n",
      "  triton_bmm_4 0.0123 ms 69.0%\n",
      "  triton_bmm_5 0.0143 ms 59.2%\n",
      "  triton_bmm_10 0.0143 ms 59.2%\n",
      "  triton_bmm_9 0.0154 ms 55.2%\n",
      "SingleProcess AUTOTUNE benchmarking takes 2.2084 seconds and 0.0272 seconds precompiling\n",
      "AUTOTUNE bmm(8x105x105, 8x105x256)\n",
      "  bmm 0.0082 ms 100.0%\n",
      "  triton_bmm_21 0.0082 ms 100.0%\n",
      "  triton_bmm_22 0.0082 ms 100.0%\n",
      "  triton_bmm_23 0.0082 ms 100.0%\n",
      "  triton_bmm_26 0.0082 ms 100.0%\n",
      "  triton_bmm_25 0.0092 ms 88.9%\n",
      "  triton_bmm_19 0.0102 ms 80.0%\n",
      "  triton_bmm_20 0.0102 ms 80.0%\n",
      "  triton_bmm_24 0.0102 ms 80.0%\n",
      "  triton_bmm_33 0.0102 ms 80.0%\n",
      "SingleProcess AUTOTUNE benchmarking takes 2.0748 seconds and 0.0009 seconds precompiling\n"
     ]
    },
    {
     "data": {
      "text/html": [
       "\n",
       "    <div>\n",
       "      \n",
       "      <progress value='538' max='269' style='width:300px; height:20px; vertical-align: middle;'></progress>\n",
       "      [269/269 16:01]\n",
       "    </div>\n",
       "    "
      ],
      "text/plain": [
       "<IPython.core.display.HTML object>"
      ]
     },
     "metadata": {},
     "output_type": "display_data"
    },
    {
     "data": {
      "text/plain": [
       "{'eval_loss': 4.953486442565918,\n",
       " 'eval_model_preparation_time': 0.0107,\n",
       " 'eval_runtime': 34.5142,\n",
       " 'eval_samples_per_second': 7.794,\n",
       " 'eval_steps_per_second': 7.794}"
      ]
     },
     "execution_count": 13,
     "metadata": {},
     "output_type": "execute_result"
    }
   ],
   "source": [
    "# Run evaluation at the beginning of the first epoch\n",
    "print('Evaluation at the beginning of epoch 1')\n",
    "trainer.evaluate()"
   ]
  },
  {
   "cell_type": "code",
   "execution_count": 14,
   "metadata": {},
   "outputs": [
    {
     "name": "stderr",
     "output_type": "stream",
     "text": [
      "==((====))==  Unsloth - 2x faster free finetuning | Num GPUs = 1\n",
      "   \\\\   /|    Num examples = 2,429 | Num Epochs = 3\n",
      "O^O/ \\_/ \\    Batch size per device = 1 | Gradient Accumulation steps = 4\n",
      "\\        /    Total batch size = 4 | Total steps = 1,821\n",
      " \"-____-\"     Number of trainable parameters = 41,533,440\n",
      "AUTOTUNE bmm(8x239x239, 8x239x256)\n",
      "  bmm 0.0123 ms 100.0%\n",
      "  triton_bmm_119 0.0225 ms 54.5%\n",
      "  triton_bmm_114 0.0246 ms 50.0%\n",
      "  triton_bmm_128 0.0256 ms 48.0%\n",
      "  triton_bmm_117 0.0266 ms 46.2%\n",
      "  triton_bmm_121 0.0266 ms 46.2%\n",
      "  triton_bmm_120 0.0287 ms 42.9%\n",
      "  triton_bmm_124 0.0307 ms 40.0%\n",
      "  triton_bmm_127 0.0307 ms 40.0%\n",
      "  triton_bmm_123 0.0328 ms 37.5%\n",
      "SingleProcess AUTOTUNE benchmarking takes 2.1119 seconds and 0.0008 seconds precompiling\n",
      "AUTOTUNE bmm(8x239x256, 8x256x239)\n",
      "  triton_bmm_139 0.0133 ms 100.0%\n",
      "  bmm 0.0154 ms 86.7%\n",
      "  triton_bmm_135 0.0154 ms 86.7%\n",
      "  triton_bmm_143 0.0154 ms 86.7%\n",
      "  triton_bmm_146 0.0156 ms 85.4%\n",
      "  triton_bmm_142 0.0162 ms 82.4%\n",
      "  triton_bmm_138 0.0164 ms 81.2%\n",
      "  triton_bmm_147 0.0164 ms 81.2%\n",
      "  triton_bmm_136 0.0174 ms 76.5%\n",
      "  triton_bmm_133 0.0184 ms 72.2%\n",
      "SingleProcess AUTOTUNE benchmarking takes 2.0912 seconds and 0.0010 seconds precompiling\n",
      "AUTOTUNE bmm(8x256x239, 8x239x239)\n",
      "  bmm 0.0121 ms 100.0%\n",
      "  triton_bmm_155 0.0143 ms 84.4%\n",
      "  triton_bmm_159 0.0164 ms 73.8%\n",
      "  triton_bmm_154 0.0174 ms 69.5%\n",
      "  triton_bmm_152 0.0184 ms 65.6%\n",
      "  triton_bmm_157 0.0184 ms 65.6%\n",
      "  triton_bmm_166 0.0195 ms 62.2%\n",
      "  triton_bmm_162 0.0205 ms 59.1%\n",
      "  triton_bmm_161 0.0266 ms 45.4%\n",
      "  triton_bmm_163 0.0276 ms 43.7%\n",
      "SingleProcess AUTOTUNE benchmarking takes 2.1003 seconds and 0.0010 seconds precompiling\n"
     ]
    },
    {
     "data": {
      "text/html": [
       "\n",
       "    <div>\n",
       "      \n",
       "      <progress value='1821' max='1821' style='width:300px; height:20px; vertical-align: middle;'></progress>\n",
       "      [1821/1821 46:06, Epoch 2/3]\n",
       "    </div>\n",
       "    <table border=\"1\" class=\"dataframe\">\n",
       "  <thead>\n",
       " <tr style=\"text-align: left;\">\n",
       "      <th>Epoch</th>\n",
       "      <th>Training Loss</th>\n",
       "      <th>Validation Loss</th>\n",
       "      <th>Model Preparation Time</th>\n",
       "    </tr>\n",
       "  </thead>\n",
       "  <tbody>\n",
       "    <tr>\n",
       "      <td>0</td>\n",
       "      <td>2.084500</td>\n",
       "      <td>2.392666</td>\n",
       "      <td>0.010700</td>\n",
       "    </tr>\n",
       "    <tr>\n",
       "      <td>1</td>\n",
       "      <td>1.973900</td>\n",
       "      <td>2.256228</td>\n",
       "      <td>0.010700</td>\n",
       "    </tr>\n",
       "    <tr>\n",
       "      <td>2</td>\n",
       "      <td>1.664600</td>\n",
       "      <td>2.324682</td>\n",
       "      <td>0.010700</td>\n",
       "    </tr>\n",
       "  </tbody>\n",
       "</table><p>"
      ],
      "text/plain": [
       "<IPython.core.display.HTML object>"
      ]
     },
     "metadata": {},
     "output_type": "display_data"
    },
    {
     "name": "stderr",
     "output_type": "stream",
     "text": [
      "AUTOTUNE bmm(8x256x256, 8x256x256)\n",
      "  bmm 0.0174 ms 100.0%\n",
      "  triton_bmm_233 0.0236 ms 73.9%\n",
      "  triton_bmm_228 0.0256 ms 68.0%\n",
      "  triton_bmm_242 0.0263 ms 66.2%\n",
      "  triton_bmm_231 0.0276 ms 63.0%\n",
      "  triton_bmm_235 0.0276 ms 63.0%\n",
      "  triton_bmm_234 0.0297 ms 58.6%\n",
      "  triton_bmm_238 0.0317 ms 54.8%\n",
      "  triton_bmm_241 0.0317 ms 54.8%\n",
      "  triton_bmm_237 0.0348 ms 50.0%\n",
      "SingleProcess AUTOTUNE benchmarking takes 2.2861 seconds and 0.0010 seconds precompiling\n",
      "AUTOTUNE bmm(8x256x256, 8x256x256)\n",
      "  bmm 0.0113 ms 100.0%\n",
      "  triton_bmm_253 0.0133 ms 84.6%\n",
      "  triton_bmm_249 0.0154 ms 73.3%\n",
      "  triton_bmm_257 0.0154 ms 73.3%\n",
      "  triton_bmm_260 0.0154 ms 73.3%\n",
      "  triton_bmm_261 0.0160 ms 70.4%\n",
      "  triton_bmm_252 0.0162 ms 69.4%\n",
      "  triton_bmm_256 0.0164 ms 68.8%\n",
      "  triton_bmm_250 0.0181 ms 62.2%\n",
      "  triton_bmm_247 0.0184 ms 61.1%\n",
      "SingleProcess AUTOTUNE benchmarking takes 2.1932 seconds and 0.0011 seconds precompiling\n",
      "AUTOTUNE bmm(8x256x256, 8x256x256)\n",
      "  triton_bmm_269 0.0143 ms 100.0%\n",
      "  bmm 0.0164 ms 87.5%\n",
      "  triton_bmm_273 0.0167 ms 86.0%\n",
      "  triton_bmm_268 0.0174 ms 82.4%\n",
      "  triton_bmm_266 0.0195 ms 73.7%\n",
      "  triton_bmm_271 0.0195 ms 73.7%\n",
      "  triton_bmm_272 0.0195 ms 73.7%\n",
      "  triton_bmm_276 0.0195 ms 73.7%\n",
      "  triton_bmm_280 0.0195 ms 73.7%\n",
      "  triton_bmm_275 0.0276 ms 51.9%\n",
      "SingleProcess AUTOTUNE benchmarking takes 2.1151 seconds and 0.0009 seconds precompiling\n",
      "\n",
      "***** Running Evaluation *****\n",
      "  Num examples = 269\n",
      "  Batch size = 1\n"
     ]
    },
    {
     "name": "stdout",
     "output_type": "stream",
     "text": [
      "End of epoch 1\n",
      "Validation Loss after epoch 1: 2.3926663398742676\n",
      "Saving LoRA parameters to /cs/student/msc/csml/2023/ngriessh/historical_mt/models/alphabet/gemma-2-2b-it-bnb-4bit/finetuning/DE_to_EN/epoch_1 at the end of epoch 1\n"
     ]
    },
    {
     "name": "stderr",
     "output_type": "stream",
     "text": [
      "loading configuration file config.json from cache at /cs/student/msc/csml/2023/ngriessh/.cache/huggingface/hub/models--unsloth--gemma-2-2b-it-bnb-4bit/snapshots/cfc3a78e491db11ed6fd461d9ce8ba921de01602/config.json\n",
      "Model config Gemma2Config {\n",
      "  \"_name_or_path\": \"unsloth/gemma-2-2b-it\",\n",
      "  \"architectures\": [\n",
      "    \"Gemma2ForCausalLM\"\n",
      "  ],\n",
      "  \"attention_bias\": false,\n",
      "  \"attention_dropout\": 0.0,\n",
      "  \"attn_logit_softcapping\": 50.0,\n",
      "  \"bos_token_id\": 2,\n",
      "  \"cache_implementation\": \"hybrid\",\n",
      "  \"eos_token_id\": [\n",
      "    1,\n",
      "    107\n",
      "  ],\n",
      "  \"final_logit_softcapping\": 30.0,\n",
      "  \"head_dim\": 256,\n",
      "  \"hidden_act\": \"gelu_pytorch_tanh\",\n",
      "  \"hidden_activation\": \"gelu_pytorch_tanh\",\n",
      "  \"hidden_size\": 2304,\n",
      "  \"initializer_range\": 0.02,\n",
      "  \"intermediate_size\": 9216,\n",
      "  \"max_position_embeddings\": 8192,\n",
      "  \"model_type\": \"gemma2\",\n",
      "  \"num_attention_heads\": 8,\n",
      "  \"num_hidden_layers\": 26,\n",
      "  \"num_key_value_heads\": 4,\n",
      "  \"pad_token_id\": 0,\n",
      "  \"quantization_config\": {\n",
      "    \"_load_in_4bit\": true,\n",
      "    \"_load_in_8bit\": false,\n",
      "    \"bnb_4bit_compute_dtype\": \"bfloat16\",\n",
      "    \"bnb_4bit_quant_storage\": \"uint8\",\n",
      "    \"bnb_4bit_quant_type\": \"nf4\",\n",
      "    \"bnb_4bit_use_double_quant\": true,\n",
      "    \"llm_int8_enable_fp32_cpu_offload\": false,\n",
      "    \"llm_int8_has_fp16_weight\": false,\n",
      "    \"llm_int8_skip_modules\": null,\n",
      "    \"llm_int8_threshold\": 6.0,\n",
      "    \"load_in_4bit\": true,\n",
      "    \"load_in_8bit\": false,\n",
      "    \"quant_method\": \"bitsandbytes\"\n",
      "  },\n",
      "  \"query_pre_attn_scalar\": 256,\n",
      "  \"rms_norm_eps\": 1e-06,\n",
      "  \"rope_scaling\": null,\n",
      "  \"rope_theta\": 10000.0,\n",
      "  \"sliding_window\": 4096,\n",
      "  \"torch_dtype\": \"bfloat16\",\n",
      "  \"transformers_version\": \"4.44.2\",\n",
      "  \"unsloth_version\": \"2024.9\",\n",
      "  \"use_cache\": true,\n",
      "  \"vocab_size\": 256000\n",
      "}\n",
      "\n"
     ]
    },
    {
     "name": "stdout",
     "output_type": "stream",
     "text": [
      "Saved. Emptying torch.cuda.empty_cache() now.\n"
     ]
    },
    {
     "name": "stderr",
     "output_type": "stream",
     "text": [
      "\n",
      "***** Running Evaluation *****\n",
      "  Num examples = 269\n",
      "  Batch size = 1\n"
     ]
    },
    {
     "name": "stdout",
     "output_type": "stream",
     "text": [
      "End of epoch 2\n",
      "Validation Loss after epoch 2: 2.256227970123291\n",
      "Saving LoRA parameters to /cs/student/msc/csml/2023/ngriessh/historical_mt/models/alphabet/gemma-2-2b-it-bnb-4bit/finetuning/DE_to_EN/epoch_2 at the end of epoch 2\n"
     ]
    },
    {
     "name": "stderr",
     "output_type": "stream",
     "text": [
      "loading configuration file config.json from cache at /cs/student/msc/csml/2023/ngriessh/.cache/huggingface/hub/models--unsloth--gemma-2-2b-it-bnb-4bit/snapshots/cfc3a78e491db11ed6fd461d9ce8ba921de01602/config.json\n",
      "Model config Gemma2Config {\n",
      "  \"_name_or_path\": \"unsloth/gemma-2-2b-it\",\n",
      "  \"architectures\": [\n",
      "    \"Gemma2ForCausalLM\"\n",
      "  ],\n",
      "  \"attention_bias\": false,\n",
      "  \"attention_dropout\": 0.0,\n",
      "  \"attn_logit_softcapping\": 50.0,\n",
      "  \"bos_token_id\": 2,\n",
      "  \"cache_implementation\": \"hybrid\",\n",
      "  \"eos_token_id\": [\n",
      "    1,\n",
      "    107\n",
      "  ],\n",
      "  \"final_logit_softcapping\": 30.0,\n",
      "  \"head_dim\": 256,\n",
      "  \"hidden_act\": \"gelu_pytorch_tanh\",\n",
      "  \"hidden_activation\": \"gelu_pytorch_tanh\",\n",
      "  \"hidden_size\": 2304,\n",
      "  \"initializer_range\": 0.02,\n",
      "  \"intermediate_size\": 9216,\n",
      "  \"max_position_embeddings\": 8192,\n",
      "  \"model_type\": \"gemma2\",\n",
      "  \"num_attention_heads\": 8,\n",
      "  \"num_hidden_layers\": 26,\n",
      "  \"num_key_value_heads\": 4,\n",
      "  \"pad_token_id\": 0,\n",
      "  \"quantization_config\": {\n",
      "    \"_load_in_4bit\": true,\n",
      "    \"_load_in_8bit\": false,\n",
      "    \"bnb_4bit_compute_dtype\": \"bfloat16\",\n",
      "    \"bnb_4bit_quant_storage\": \"uint8\",\n",
      "    \"bnb_4bit_quant_type\": \"nf4\",\n",
      "    \"bnb_4bit_use_double_quant\": true,\n",
      "    \"llm_int8_enable_fp32_cpu_offload\": false,\n",
      "    \"llm_int8_has_fp16_weight\": false,\n",
      "    \"llm_int8_skip_modules\": null,\n",
      "    \"llm_int8_threshold\": 6.0,\n",
      "    \"load_in_4bit\": true,\n",
      "    \"load_in_8bit\": false,\n",
      "    \"quant_method\": \"bitsandbytes\"\n",
      "  },\n",
      "  \"query_pre_attn_scalar\": 256,\n",
      "  \"rms_norm_eps\": 1e-06,\n",
      "  \"rope_scaling\": null,\n",
      "  \"rope_theta\": 10000.0,\n",
      "  \"sliding_window\": 4096,\n",
      "  \"torch_dtype\": \"bfloat16\",\n",
      "  \"transformers_version\": \"4.44.2\",\n",
      "  \"unsloth_version\": \"2024.9\",\n",
      "  \"use_cache\": true,\n",
      "  \"vocab_size\": 256000\n",
      "}\n",
      "\n"
     ]
    },
    {
     "name": "stdout",
     "output_type": "stream",
     "text": [
      "Saved. Emptying torch.cuda.empty_cache() now.\n"
     ]
    },
    {
     "name": "stderr",
     "output_type": "stream",
     "text": [
      "\n",
      "***** Running Evaluation *****\n",
      "  Num examples = 269\n",
      "  Batch size = 1\n"
     ]
    },
    {
     "name": "stdout",
     "output_type": "stream",
     "text": [
      "End of epoch 3\n",
      "Validation Loss after epoch 3: 2.3246822357177734\n",
      "Saving LoRA parameters to /cs/student/msc/csml/2023/ngriessh/historical_mt/models/alphabet/gemma-2-2b-it-bnb-4bit/finetuning/DE_to_EN/epoch_3 at the end of epoch 3\n"
     ]
    },
    {
     "name": "stderr",
     "output_type": "stream",
     "text": [
      "loading configuration file config.json from cache at /cs/student/msc/csml/2023/ngriessh/.cache/huggingface/hub/models--unsloth--gemma-2-2b-it-bnb-4bit/snapshots/cfc3a78e491db11ed6fd461d9ce8ba921de01602/config.json\n",
      "Model config Gemma2Config {\n",
      "  \"_name_or_path\": \"unsloth/gemma-2-2b-it\",\n",
      "  \"architectures\": [\n",
      "    \"Gemma2ForCausalLM\"\n",
      "  ],\n",
      "  \"attention_bias\": false,\n",
      "  \"attention_dropout\": 0.0,\n",
      "  \"attn_logit_softcapping\": 50.0,\n",
      "  \"bos_token_id\": 2,\n",
      "  \"cache_implementation\": \"hybrid\",\n",
      "  \"eos_token_id\": [\n",
      "    1,\n",
      "    107\n",
      "  ],\n",
      "  \"final_logit_softcapping\": 30.0,\n",
      "  \"head_dim\": 256,\n",
      "  \"hidden_act\": \"gelu_pytorch_tanh\",\n",
      "  \"hidden_activation\": \"gelu_pytorch_tanh\",\n",
      "  \"hidden_size\": 2304,\n",
      "  \"initializer_range\": 0.02,\n",
      "  \"intermediate_size\": 9216,\n",
      "  \"max_position_embeddings\": 8192,\n",
      "  \"model_type\": \"gemma2\",\n",
      "  \"num_attention_heads\": 8,\n",
      "  \"num_hidden_layers\": 26,\n",
      "  \"num_key_value_heads\": 4,\n",
      "  \"pad_token_id\": 0,\n",
      "  \"quantization_config\": {\n",
      "    \"_load_in_4bit\": true,\n",
      "    \"_load_in_8bit\": false,\n",
      "    \"bnb_4bit_compute_dtype\": \"bfloat16\",\n",
      "    \"bnb_4bit_quant_storage\": \"uint8\",\n",
      "    \"bnb_4bit_quant_type\": \"nf4\",\n",
      "    \"bnb_4bit_use_double_quant\": true,\n",
      "    \"llm_int8_enable_fp32_cpu_offload\": false,\n",
      "    \"llm_int8_has_fp16_weight\": false,\n",
      "    \"llm_int8_skip_modules\": null,\n",
      "    \"llm_int8_threshold\": 6.0,\n",
      "    \"load_in_4bit\": true,\n",
      "    \"load_in_8bit\": false,\n",
      "    \"quant_method\": \"bitsandbytes\"\n",
      "  },\n",
      "  \"query_pre_attn_scalar\": 256,\n",
      "  \"rms_norm_eps\": 1e-06,\n",
      "  \"rope_scaling\": null,\n",
      "  \"rope_theta\": 10000.0,\n",
      "  \"sliding_window\": 4096,\n",
      "  \"torch_dtype\": \"bfloat16\",\n",
      "  \"transformers_version\": \"4.44.2\",\n",
      "  \"unsloth_version\": \"2024.9\",\n",
      "  \"use_cache\": true,\n",
      "  \"vocab_size\": 256000\n",
      "}\n",
      "\n",
      "\n",
      "\n",
      "Training completed. Do not forget to share your model on huggingface.co/models =)\n",
      "\n",
      "\n"
     ]
    },
    {
     "name": "stdout",
     "output_type": "stream",
     "text": [
      "Saved. Emptying torch.cuda.empty_cache() now.\n"
     ]
    },
    {
     "ename": "",
     "evalue": "",
     "output_type": "error",
     "traceback": [
      "\u001b[1;31mThe Kernel crashed while executing code in the current cell or a previous cell. \n",
      "\u001b[1;31mPlease review the code in the cell(s) to identify a possible cause of the failure. \n",
      "\u001b[1;31mClick <a href='https://aka.ms/vscodeJupyterKernelCrash'>here</a> for more info. \n",
      "\u001b[1;31mView Jupyter <a href='command:jupyter.viewOutput'>log</a> for further details."
     ]
    }
   ],
   "source": [
    "# Start finetuning\n",
    "trainer_stats = trainer.train()"
   ]
  },
  {
   "cell_type": "code",
   "execution_count": null,
   "metadata": {},
   "outputs": [],
   "source": []
  },
  {
   "cell_type": "code",
   "execution_count": null,
   "metadata": {},
   "outputs": [],
   "source": []
  },
  {
   "cell_type": "code",
   "execution_count": null,
   "metadata": {},
   "outputs": [],
   "source": []
  },
  {
   "cell_type": "code",
   "execution_count": null,
   "metadata": {},
   "outputs": [],
   "source": []
  }
 ],
 "metadata": {
  "kernelspec": {
   "display_name": "Python 3",
   "language": "python",
   "name": "python3"
  },
  "language_info": {
   "codemirror_mode": {
    "name": "ipython",
    "version": 3
   },
   "file_extension": ".py",
   "mimetype": "text/x-python",
   "name": "python",
   "nbconvert_exporter": "python",
   "pygments_lexer": "ipython3",
   "version": "3.9.19"
  }
 },
 "nbformat": 4,
 "nbformat_minor": 2
}
