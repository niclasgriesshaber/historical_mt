{
 "cells": [
  {
   "cell_type": "markdown",
   "metadata": {},
   "source": [
    "# Import libraries"
   ]
  },
  {
   "cell_type": "code",
   "execution_count": 1,
   "metadata": {},
   "outputs": [
    {
     "name": "stdout",
     "output_type": "stream",
     "text": [
      "Intel MKL WARNING: Support of Intel(R) Streaming SIMD Extensions 4.2 (Intel(R) SSE4.2) enabled only processors has been deprecated. Intel oneAPI Math Kernel Library 2025.0 will require Intel(R) Advanced Vector Extensions (Intel(R) AVX) instructions.\n",
      "Intel MKL WARNING: Support of Intel(R) Streaming SIMD Extensions 4.2 (Intel(R) SSE4.2) enabled only processors has been deprecated. Intel oneAPI Math Kernel Library 2025.0 will require Intel(R) Advanced Vector Extensions (Intel(R) AVX) instructions.\n"
     ]
    }
   ],
   "source": [
    "import os\n",
    "import pandas as pd\n",
    "import json"
   ]
  },
  {
   "cell_type": "markdown",
   "metadata": {},
   "source": [
    "# Set paths"
   ]
  },
  {
   "cell_type": "code",
   "execution_count": 2,
   "metadata": {},
   "outputs": [
    {
     "name": "stdout",
     "output_type": "stream",
     "text": [
      "Base path: /Users/niclasgriesshaber/Desktop/historical_mt\n",
      "Model name: Meta-Llama-3.1-8B-Instruct-bnb-4bit\n",
      "Company name: meta\n",
      "Translation directions: ['DE_to_EN', 'EN_to_DE']\n",
      "Shots list: [0, 1, 2, 4, 8, 16, 32, 64]\n",
      "Formatted shots list: ['000', '001', '002', '004', '008', '016', '032', '064', 'finetuning']\n",
      "Results directory path: /Users/niclasgriesshaber/Desktop/historical_mt/results/meta/Meta-Llama-3.1-8B-Instruct-bnb-4bit\n",
      "Input files directory path: /Users/niclasgriesshaber/Desktop/historical_mt/scripts/meta/Meta-Llama-3.1-8B-Instruct-bnb-4bit/evaluation/metricx_evaluation/input_files\n"
     ]
    }
   ],
   "source": [
    "# Base path\n",
    "base_path = os.path.abspath(os.path.join(os.getcwd(), '..', '..', '..', '..', '..'))\n",
    "\n",
    "# Model Parameters\n",
    "unsloth_model_name = 'unsloth/Meta-Llama-3.1-8B-Instruct-bnb-4bit'\n",
    "company_name = 'meta'\n",
    "model_name = unsloth_model_name.split('/')[1]\n",
    "\n",
    "# Translation Directions\n",
    "translation_directions = ['DE_to_EN', 'EN_to_DE']\n",
    "\n",
    "# List of shot values\n",
    "shots_list = [2**i for i in range(7)]\n",
    "shots_list.insert(0, 0)\n",
    "\n",
    "# List of formatted shot values\n",
    "formatted_shots_list = [f\"{shot:03d}\" for shot in shots_list]\n",
    "formatted_shots_list = formatted_shots_list + ['finetuning']\n",
    "\n",
    "# Results directory path\n",
    "results_dir_path = os.path.join(base_path, 'results', company_name, model_name)\n",
    "\n",
    "# Save modified files in folder input_files\n",
    "input_files_dir_path = os.path.join(base_path, 'scripts', company_name, model_name, 'evaluation', 'metricx_evaluation', 'input_files')\n",
    "\n",
    "# Print paths\n",
    "print('Base path:', base_path)\n",
    "print('Model name:', model_name)\n",
    "print('Company name:', company_name)\n",
    "print('Translation directions:', translation_directions)\n",
    "print('Shots list:', shots_list)\n",
    "print('Formatted shots list:', formatted_shots_list)\n",
    "print('Results directory path:', results_dir_path)\n",
    "print('Input files directory path:', input_files_dir_path)"
   ]
  },
  {
   "cell_type": "markdown",
   "metadata": {},
   "source": [
    "# Function to load json file"
   ]
  },
  {
   "cell_type": "code",
   "execution_count": 3,
   "metadata": {},
   "outputs": [],
   "source": [
    "# Function to load json file\n",
    "def load_file(file_path):\n",
    "    with open(file_path, 'r') as f:\n",
    "        data = [json.loads(line) for line in f]\n",
    "    return data"
   ]
  },
  {
   "cell_type": "markdown",
   "metadata": {},
   "source": [
    "# Construct all input files for metricx\n",
    "Save in input_files folder"
   ]
  },
  {
   "cell_type": "code",
   "execution_count": 8,
   "metadata": {},
   "outputs": [
    {
     "name": "stdout",
     "output_type": "stream",
     "text": [
      "Processing DE_to_EN_000\n",
      "Load file: /Users/niclasgriesshaber/Desktop/historical_mt/results/meta/Meta-Llama-3.1-8B-Instruct-bnb-4bit/icl/DE_to_EN/DE_to_EN_000_example_prompt.json\n",
      "Index(['Early Modern Bohemian German', 'English', 'text',\n",
      "       'DE_to_EN_000_example_prompt'],\n",
      "      dtype='object')\n",
      "Saved to /Users/niclasgriesshaber/Desktop/historical_mt/scripts/meta/Meta-Llama-3.1-8B-Instruct-bnb-4bit/evaluation/metricx_evaluation/input_files/icl/DE_to_EN/DE_to_EN_000_example_prompt.json\n",
      "Processing DE_to_EN_001\n",
      "Load file: /Users/niclasgriesshaber/Desktop/historical_mt/results/meta/Meta-Llama-3.1-8B-Instruct-bnb-4bit/icl/DE_to_EN/DE_to_EN_001_example_prompt.json\n",
      "Index(['Early Modern Bohemian German', 'English', 'text',\n",
      "       'DE_to_EN_001_example_prompt'],\n",
      "      dtype='object')\n",
      "Saved to /Users/niclasgriesshaber/Desktop/historical_mt/scripts/meta/Meta-Llama-3.1-8B-Instruct-bnb-4bit/evaluation/metricx_evaluation/input_files/icl/DE_to_EN/DE_to_EN_001_example_prompt.json\n",
      "Processing DE_to_EN_002\n",
      "Load file: /Users/niclasgriesshaber/Desktop/historical_mt/results/meta/Meta-Llama-3.1-8B-Instruct-bnb-4bit/icl/DE_to_EN/DE_to_EN_002_example_prompt.json\n",
      "Index(['Early Modern Bohemian German', 'English', 'text',\n",
      "       'DE_to_EN_002_example_prompt'],\n",
      "      dtype='object')\n",
      "Saved to /Users/niclasgriesshaber/Desktop/historical_mt/scripts/meta/Meta-Llama-3.1-8B-Instruct-bnb-4bit/evaluation/metricx_evaluation/input_files/icl/DE_to_EN/DE_to_EN_002_example_prompt.json\n",
      "Processing DE_to_EN_004\n",
      "Load file: /Users/niclasgriesshaber/Desktop/historical_mt/results/meta/Meta-Llama-3.1-8B-Instruct-bnb-4bit/icl/DE_to_EN/DE_to_EN_004_example_prompt.json\n",
      "Index(['Early Modern Bohemian German', 'English', 'text',\n",
      "       'DE_to_EN_004_example_prompt'],\n",
      "      dtype='object')\n",
      "Saved to /Users/niclasgriesshaber/Desktop/historical_mt/scripts/meta/Meta-Llama-3.1-8B-Instruct-bnb-4bit/evaluation/metricx_evaluation/input_files/icl/DE_to_EN/DE_to_EN_004_example_prompt.json\n",
      "Processing DE_to_EN_008\n",
      "Load file: /Users/niclasgriesshaber/Desktop/historical_mt/results/meta/Meta-Llama-3.1-8B-Instruct-bnb-4bit/icl/DE_to_EN/DE_to_EN_008_example_prompt.json\n",
      "Index(['Early Modern Bohemian German', 'English', 'text',\n",
      "       'DE_to_EN_008_example_prompt'],\n",
      "      dtype='object')\n",
      "Saved to /Users/niclasgriesshaber/Desktop/historical_mt/scripts/meta/Meta-Llama-3.1-8B-Instruct-bnb-4bit/evaluation/metricx_evaluation/input_files/icl/DE_to_EN/DE_to_EN_008_example_prompt.json\n",
      "Processing DE_to_EN_016\n",
      "Load file: /Users/niclasgriesshaber/Desktop/historical_mt/results/meta/Meta-Llama-3.1-8B-Instruct-bnb-4bit/icl/DE_to_EN/DE_to_EN_016_example_prompt.json\n",
      "Index(['Early Modern Bohemian German', 'English', 'text',\n",
      "       'DE_to_EN_016_example_prompt'],\n",
      "      dtype='object')\n",
      "Saved to /Users/niclasgriesshaber/Desktop/historical_mt/scripts/meta/Meta-Llama-3.1-8B-Instruct-bnb-4bit/evaluation/metricx_evaluation/input_files/icl/DE_to_EN/DE_to_EN_016_example_prompt.json\n",
      "Processing DE_to_EN_032\n",
      "Load file: /Users/niclasgriesshaber/Desktop/historical_mt/results/meta/Meta-Llama-3.1-8B-Instruct-bnb-4bit/icl/DE_to_EN/DE_to_EN_032_example_prompt.json\n",
      "Index(['Early Modern Bohemian German', 'English', 'text',\n",
      "       'DE_to_EN_032_example_prompt'],\n",
      "      dtype='object')\n",
      "Saved to /Users/niclasgriesshaber/Desktop/historical_mt/scripts/meta/Meta-Llama-3.1-8B-Instruct-bnb-4bit/evaluation/metricx_evaluation/input_files/icl/DE_to_EN/DE_to_EN_032_example_prompt.json\n",
      "Processing DE_to_EN_064\n",
      "Load file: /Users/niclasgriesshaber/Desktop/historical_mt/results/meta/Meta-Llama-3.1-8B-Instruct-bnb-4bit/icl/DE_to_EN/DE_to_EN_064_example_prompt.json\n",
      "Index(['Early Modern Bohemian German', 'English', 'text',\n",
      "       'DE_to_EN_064_example_prompt'],\n",
      "      dtype='object')\n",
      "Saved to /Users/niclasgriesshaber/Desktop/historical_mt/scripts/meta/Meta-Llama-3.1-8B-Instruct-bnb-4bit/evaluation/metricx_evaluation/input_files/icl/DE_to_EN/DE_to_EN_064_example_prompt.json\n",
      "Processing DE_to_EN_finetuning\n",
      "Load file: /Users/niclasgriesshaber/Desktop/historical_mt/results/meta/Meta-Llama-3.1-8B-Instruct-bnb-4bit/finetuning/DE_to_EN/DE_to_EN_finetuning.json\n",
      "Index(['Early Modern Bohemian German', 'English', 'text',\n",
      "       'DE_to_EN_finetuning'],\n",
      "      dtype='object')\n",
      "Saved to /Users/niclasgriesshaber/Desktop/historical_mt/scripts/meta/Meta-Llama-3.1-8B-Instruct-bnb-4bit/evaluation/metricx_evaluation/input_files/finetuning/DE_to_EN/DE_to_EN_finetuning.json\n",
      "Processing EN_to_DE_000\n",
      "Load file: /Users/niclasgriesshaber/Desktop/historical_mt/results/meta/Meta-Llama-3.1-8B-Instruct-bnb-4bit/icl/EN_to_DE/EN_to_DE_000_example_prompt.json\n",
      "Index(['Early Modern Bohemian German', 'English', 'text',\n",
      "       'EN_to_DE_000_example_prompt'],\n",
      "      dtype='object')\n",
      "Saved to /Users/niclasgriesshaber/Desktop/historical_mt/scripts/meta/Meta-Llama-3.1-8B-Instruct-bnb-4bit/evaluation/metricx_evaluation/input_files/icl/EN_to_DE/EN_to_DE_000_example_prompt.json\n",
      "Processing EN_to_DE_001\n",
      "Load file: /Users/niclasgriesshaber/Desktop/historical_mt/results/meta/Meta-Llama-3.1-8B-Instruct-bnb-4bit/icl/EN_to_DE/EN_to_DE_001_example_prompt.json\n",
      "Index(['Early Modern Bohemian German', 'English', 'text',\n",
      "       'EN_to_DE_001_example_prompt'],\n",
      "      dtype='object')\n",
      "Saved to /Users/niclasgriesshaber/Desktop/historical_mt/scripts/meta/Meta-Llama-3.1-8B-Instruct-bnb-4bit/evaluation/metricx_evaluation/input_files/icl/EN_to_DE/EN_to_DE_001_example_prompt.json\n",
      "Processing EN_to_DE_002\n",
      "Load file: /Users/niclasgriesshaber/Desktop/historical_mt/results/meta/Meta-Llama-3.1-8B-Instruct-bnb-4bit/icl/EN_to_DE/EN_to_DE_002_example_prompt.json\n",
      "Index(['Early Modern Bohemian German', 'English', 'text',\n",
      "       'EN_to_DE_002_example_prompt'],\n",
      "      dtype='object')\n",
      "Saved to /Users/niclasgriesshaber/Desktop/historical_mt/scripts/meta/Meta-Llama-3.1-8B-Instruct-bnb-4bit/evaluation/metricx_evaluation/input_files/icl/EN_to_DE/EN_to_DE_002_example_prompt.json\n",
      "Processing EN_to_DE_004\n",
      "Load file: /Users/niclasgriesshaber/Desktop/historical_mt/results/meta/Meta-Llama-3.1-8B-Instruct-bnb-4bit/icl/EN_to_DE/EN_to_DE_004_example_prompt.json\n",
      "Index(['Early Modern Bohemian German', 'English', 'text',\n",
      "       'EN_to_DE_004_example_prompt'],\n",
      "      dtype='object')\n",
      "Saved to /Users/niclasgriesshaber/Desktop/historical_mt/scripts/meta/Meta-Llama-3.1-8B-Instruct-bnb-4bit/evaluation/metricx_evaluation/input_files/icl/EN_to_DE/EN_to_DE_004_example_prompt.json\n",
      "Processing EN_to_DE_008\n",
      "Load file: /Users/niclasgriesshaber/Desktop/historical_mt/results/meta/Meta-Llama-3.1-8B-Instruct-bnb-4bit/icl/EN_to_DE/EN_to_DE_008_example_prompt.json\n",
      "Index(['Early Modern Bohemian German', 'English', 'text',\n",
      "       'EN_to_DE_008_example_prompt'],\n",
      "      dtype='object')\n",
      "Saved to /Users/niclasgriesshaber/Desktop/historical_mt/scripts/meta/Meta-Llama-3.1-8B-Instruct-bnb-4bit/evaluation/metricx_evaluation/input_files/icl/EN_to_DE/EN_to_DE_008_example_prompt.json\n",
      "Processing EN_to_DE_016\n",
      "Load file: /Users/niclasgriesshaber/Desktop/historical_mt/results/meta/Meta-Llama-3.1-8B-Instruct-bnb-4bit/icl/EN_to_DE/EN_to_DE_016_example_prompt.json\n",
      "Index(['Early Modern Bohemian German', 'English', 'text',\n",
      "       'EN_to_DE_016_example_prompt'],\n",
      "      dtype='object')\n",
      "Saved to /Users/niclasgriesshaber/Desktop/historical_mt/scripts/meta/Meta-Llama-3.1-8B-Instruct-bnb-4bit/evaluation/metricx_evaluation/input_files/icl/EN_to_DE/EN_to_DE_016_example_prompt.json\n",
      "Processing EN_to_DE_032\n",
      "Load file: /Users/niclasgriesshaber/Desktop/historical_mt/results/meta/Meta-Llama-3.1-8B-Instruct-bnb-4bit/icl/EN_to_DE/EN_to_DE_032_example_prompt.json\n",
      "Index(['Early Modern Bohemian German', 'English', 'text',\n",
      "       'EN_to_DE_032_example_prompt'],\n",
      "      dtype='object')\n",
      "Saved to /Users/niclasgriesshaber/Desktop/historical_mt/scripts/meta/Meta-Llama-3.1-8B-Instruct-bnb-4bit/evaluation/metricx_evaluation/input_files/icl/EN_to_DE/EN_to_DE_032_example_prompt.json\n",
      "Processing EN_to_DE_064\n",
      "Load file: /Users/niclasgriesshaber/Desktop/historical_mt/results/meta/Meta-Llama-3.1-8B-Instruct-bnb-4bit/icl/EN_to_DE/EN_to_DE_064_example_prompt.json\n",
      "Index(['Early Modern Bohemian German', 'English', 'text',\n",
      "       'EN_to_DE_064_example_prompt'],\n",
      "      dtype='object')\n",
      "Saved to /Users/niclasgriesshaber/Desktop/historical_mt/scripts/meta/Meta-Llama-3.1-8B-Instruct-bnb-4bit/evaluation/metricx_evaluation/input_files/icl/EN_to_DE/EN_to_DE_064_example_prompt.json\n",
      "Processing EN_to_DE_finetuning\n",
      "Load file: /Users/niclasgriesshaber/Desktop/historical_mt/results/meta/Meta-Llama-3.1-8B-Instruct-bnb-4bit/finetuning/EN_to_DE/EN_to_DE_finetuning.json\n",
      "Index(['Early Modern Bohemian German', 'English', 'text',\n",
      "       'EN_to_DE_finetuning'],\n",
      "      dtype='object')\n",
      "Saved to /Users/niclasgriesshaber/Desktop/historical_mt/scripts/meta/Meta-Llama-3.1-8B-Instruct-bnb-4bit/evaluation/metricx_evaluation/input_files/finetuning/EN_to_DE/EN_to_DE_finetuning.json\n",
      "All files saved successfully!\n"
     ]
    }
   ],
   "source": [
    "for translation_direction in translation_directions:\n",
    "\n",
    "    # Define source and target language based on translation_direction\n",
    "    if translation_direction == 'DE_to_EN':\n",
    "        source_language = \"Early Modern Bohemian German\"\n",
    "        target_language = \"English\"\n",
    "    else:\n",
    "        source_language = \"English\"\n",
    "        target_language = \"Early Modern Bohemian German\"\n",
    "\n",
    "    # For a given translation_direction go through all shots + finetuning\n",
    "    for shot in formatted_shots_list:\n",
    "        print(f'Processing {translation_direction}_{shot}')\n",
    "\n",
    "        if shot == 'finetuning':\n",
    "            learning_type = 'finetuning'\n",
    "            hypothesis_column = f'{translation_direction}_{shot}'\n",
    "            file_path = os.path.join(results_dir_path, learning_type, translation_direction, f'{translation_direction}_{learning_type}.json')\n",
    "        else:\n",
    "            learning_type = 'icl'\n",
    "            hypothesis_column = f'{translation_direction}_{shot}_example_prompt'\n",
    "            file_path = os.path.join(results_dir_path, learning_type, translation_direction, f'{translation_direction}_{shot}_example_prompt.json')\n",
    "\n",
    "        # Load json file as DataFrame\n",
    "        print(f'Load file: {file_path}')\n",
    "        current_df = pd.DataFrame(load_file(file_path))\n",
    "        print(current_df.columns)\n",
    "\n",
    "        # Transform the DataFrame\n",
    "        transformed_df = current_df[[target_language, hypothesis_column]].rename(columns={target_language: 'source', hypothesis_column: 'hypothesis'})\n",
    "\n",
    "        # Converting each row to a JSON object, one per line\n",
    "        json_lines = transformed_df.to_json(orient='records', lines=True)\n",
    "\n",
    "        # Construct path to input file\n",
    "        input_file_path = os.path.join(input_files_dir_path, learning_type, translation_direction, f'{hypothesis_column}.json')\n",
    "\n",
    "        # Save the transformed DataFrame to a file\n",
    "        with open(input_file_path, 'w') as f:\n",
    "            f.write(json_lines)\n",
    "            print(f'Saved to {input_file_path}')\n",
    "\n",
    "# Print message\n",
    "print('All files saved successfully!')"
   ]
  },
  {
   "cell_type": "code",
   "execution_count": null,
   "metadata": {},
   "outputs": [],
   "source": []
  },
  {
   "cell_type": "code",
   "execution_count": null,
   "metadata": {},
   "outputs": [],
   "source": []
  },
  {
   "cell_type": "code",
   "execution_count": null,
   "metadata": {},
   "outputs": [],
   "source": []
  },
  {
   "cell_type": "code",
   "execution_count": null,
   "metadata": {},
   "outputs": [],
   "source": []
  },
  {
   "cell_type": "code",
   "execution_count": 25,
   "metadata": {},
   "outputs": [],
   "source": [
    "# Create file_result_path\n",
    "file_result_path = os.path.join(results_dir_path, 'icl', 'DE_to_EN', 'DE_to_EN_000_example_prompt.json')\n",
    "save_input_file_path = os.path.join(input_files_dir_path, 'icl', 'DE_to_EN_000_example_prompt.json')"
   ]
  },
  {
   "cell_type": "code",
   "execution_count": 26,
   "metadata": {},
   "outputs": [],
   "source": [
    "# Load the JSON file\n",
    "with open(file_result_path, 'r') as f:\n",
    "    data = [json.loads(line) for line in f]\n",
    "\n",
    "# Create a DataFrame based on the JSON file\n",
    "df = pd.DataFrame(data)"
   ]
  },
  {
   "cell_type": "code",
   "execution_count": 27,
   "metadata": {},
   "outputs": [],
   "source": [
    "# Selecting the required columns and renaming them to 'source' and 'hypothesis'\n",
    "df_selected = df[['English', 'DE_to_EN_000_example_prompt']].rename(\n",
    "    columns={'English': 'source', 'DE_to_EN_000_example_prompt': 'hypothesis'}\n",
    ")\n",
    "\n",
    "# Converting each row to a JSON object, one per line\n",
    "json_lines = df_selected.to_json(orient='records', lines=True)"
   ]
  },
  {
   "cell_type": "code",
   "execution_count": 28,
   "metadata": {},
   "outputs": [],
   "source": [
    "# Save json lines to a file\n",
    "with open(save_input_file_path, 'w') as f:\n",
    "    f.write(json_lines)"
   ]
  },
  {
   "cell_type": "code",
   "execution_count": null,
   "metadata": {},
   "outputs": [],
   "source": []
  },
  {
   "cell_type": "code",
   "execution_count": null,
   "metadata": {},
   "outputs": [],
   "source": []
  }
 ],
 "metadata": {
  "kernelspec": {
   "display_name": "historical_mt_env",
   "language": "python",
   "name": "python3"
  },
  "language_info": {
   "codemirror_mode": {
    "name": "ipython",
    "version": 3
   },
   "file_extension": ".py",
   "mimetype": "text/x-python",
   "name": "python",
   "nbconvert_exporter": "python",
   "pygments_lexer": "ipython3",
   "version": "3.10.14"
  }
 },
 "nbformat": 4,
 "nbformat_minor": 2
}
