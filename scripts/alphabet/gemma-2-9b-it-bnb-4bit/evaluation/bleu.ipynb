{
 "cells": [
  {
   "cell_type": "markdown",
   "metadata": {},
   "source": [
    "# Import libraries"
   ]
  },
  {
   "cell_type": "code",
   "execution_count": 1,
   "metadata": {},
   "outputs": [],
   "source": [
    "# Import libraries\n",
    "import os\n",
    "import pandas as pd\n",
    "import json\n",
    "import sacrebleu"
   ]
  },
  {
   "cell_type": "markdown",
   "metadata": {},
   "source": [
    "# Set Paths"
   ]
  },
  {
   "cell_type": "code",
   "execution_count": 2,
   "metadata": {},
   "outputs": [
    {
     "name": "stdout",
     "output_type": "stream",
     "text": [
      "Base path: /cs/student/msc/csml/2023/ngriessh/historical_mt\n",
      "Results path: /cs/student/msc/csml/2023/ngriessh/historical_mt/results/alphabet/gemma-2-9b-it-bnb-4bit/merged_results.json\n"
     ]
    }
   ],
   "source": [
    "# Base path\n",
    "base_path = os.path.abspath(os.path.join(os.getcwd(), '..', '..', '..', '..'))\n",
    "\n",
    "# Model Parameters\n",
    "unsloth_model_name = 'unsloth/gemma-2-9b-it-bnb-4bit'\n",
    "company_name = 'alphabet'\n",
    "model_name = unsloth_model_name.split('/')[1]\n",
    "\n",
    "# Results path\n",
    "results_path_file = os.path.join(base_path, 'results', company_name, model_name, 'merged_results.json')\n",
    "\n",
    "# Print paths\n",
    "print('Base path:', base_path)\n",
    "print('Results path:', results_path_file)"
   ]
  },
  {
   "cell_type": "markdown",
   "metadata": {},
   "source": [
    "# Set Evaluation Parameters"
   ]
  },
  {
   "cell_type": "code",
   "execution_count": 11,
   "metadata": {},
   "outputs": [
    {
     "name": "stdout",
     "output_type": "stream",
     "text": [
      "Source Language: English\n",
      "Target Language: Early Modern Bohemian German\n",
      "Translation Direction: EN_to_DE\n",
      "Evaluate ICL: True\n",
      "Evaluate finetuning: False\n",
      "Median Splitting? False\n"
     ]
    }
   ],
   "source": [
    "# Choose source language\n",
    "source_language = \"English\"\n",
    "target_language = \"English\" if source_language == \"Early Modern Bohemian German\" else \"Early Modern Bohemian German\"\n",
    "\n",
    "# Evaluate finetuning and icl?\n",
    "evaluate_icl = True\n",
    "evaluate_finetuning = False\n",
    "\n",
    "# Median splitting with regard to word count?\n",
    "median_splitting = False\n",
    "# Translation direction is defined depending on the chosen source languag \n",
    "translation_direction = \"DE_to_EN\" if source_language == \"Early Modern Bohemian German\" else \"EN_to_DE\"\n",
    "\n",
    "# Print\n",
    "print(f'Source Language: {source_language}')\n",
    "print(f'Target Language: {target_language}')\n",
    "print(f'Translation Direction: {translation_direction}')\n",
    "print(f'Evaluate ICL: {evaluate_icl}')\n",
    "print(f'Evaluate finetuning: {evaluate_finetuning}')\n",
    "print(f'Median Splitting? {median_splitting}')"
   ]
  },
  {
   "cell_type": "markdown",
   "metadata": {},
   "source": [
    "# Load Results File"
   ]
  },
  {
   "cell_type": "code",
   "execution_count": 12,
   "metadata": {},
   "outputs": [],
   "source": [
    "# Load the JSON file\n",
    "with open(results_path_file, 'r') as f:\n",
    "    data = [json.loads(line) for line in f]\n",
    "\n",
    "# Create a DataFrame based on the JSON file\n",
    "merged_df = pd.DataFrame(data)"
   ]
  },
  {
   "cell_type": "markdown",
   "metadata": {},
   "source": [
    "# Check Columns"
   ]
  },
  {
   "cell_type": "code",
   "execution_count": 13,
   "metadata": {},
   "outputs": [
    {
     "data": {
      "text/plain": [
       "Index(['Early Modern Bohemian German', 'English',\n",
       "       'DE_to_EN_000_example_prompt', 'DE_to_EN_001_example_prompt',\n",
       "       'DE_to_EN_002_example_prompt', 'DE_to_EN_004_example_prompt',\n",
       "       'EN_to_DE_000_example_prompt', 'EN_to_DE_001_example_prompt',\n",
       "       'EN_to_DE_002_example_prompt', 'EN_to_DE_004_example_prompt'],\n",
       "      dtype='object')"
      ]
     },
     "execution_count": 13,
     "metadata": {},
     "output_type": "execute_result"
    }
   ],
   "source": [
    "# Check column names\n",
    "merged_df.columns"
   ]
  },
  {
   "cell_type": "markdown",
   "metadata": {},
   "source": [
    "# Construct Candidate Columns"
   ]
  },
  {
   "cell_type": "code",
   "execution_count": 14,
   "metadata": {},
   "outputs": [
    {
     "data": {
      "text/plain": [
       "['EN_to_DE_000_example_prompt',\n",
       " 'EN_to_DE_001_example_prompt',\n",
       " 'EN_to_DE_002_example_prompt',\n",
       " 'EN_to_DE_004_example_prompt']"
      ]
     },
     "execution_count": 14,
     "metadata": {},
     "output_type": "execute_result"
    }
   ],
   "source": [
    "# Define a function to generate candidate columns based on the conditions\n",
    "def construct_candidate_columns(translation_direction, evaluate_icl, evaluate_finetuning):\n",
    "    shots = ['000', '001', '002', '004'] #, '008', '016', '032', '064', '128']\n",
    "    \n",
    "    # Add shots columns\n",
    "    if evaluate_icl:\n",
    "        if translation_direction == 'DE_to_EN':\n",
    "            candidate_columns = [f'DE_to_EN_{shot}_example_prompt' for shot in shots]\n",
    "        elif translation_direction == 'EN_to_DE':\n",
    "            candidate_columns = [f'EN_to_DE_{shot}_example_prompt' for shot in shots]\n",
    "    \n",
    "    # Add finetuning column\n",
    "    if evaluate_finetuning:\n",
    "        if evaluate_icl:\n",
    "            candidate_columns.append(f'{translation_direction}_finetuning')\n",
    "        else:\n",
    "            candidate_columns = [f'{translation_direction}_finetuning']\n",
    "    \n",
    "    return candidate_columns\n",
    "\n",
    "# You can now concatenate or use these columns as needed\n",
    "candidate_columns = construct_candidate_columns(translation_direction, evaluate_icl, evaluate_finetuning)\n",
    "candidate_columns"
   ]
  },
  {
   "cell_type": "markdown",
   "metadata": {},
   "source": [
    "# Median Splitting"
   ]
  },
  {
   "cell_type": "code",
   "execution_count": 15,
   "metadata": {},
   "outputs": [
    {
     "name": "stdout",
     "output_type": "stream",
     "text": [
      "Shape of merged_df_short: (506, 11)\n",
      "Shape of merged_df_long: (494, 11)\n",
      "Median word count in English: 80.0\n"
     ]
    }
   ],
   "source": [
    "# Compute word count for the source_language column\n",
    "source_language_word_count = f'{source_language}_word_count'\n",
    "merged_df[source_language_word_count] = merged_df[source_language].apply(lambda x: len(str(x).split()))\n",
    "\n",
    "# Compute the median word count\n",
    "median_word_count = merged_df[source_language_word_count].median()\n",
    "\n",
    "# Create merged_df_short and merged_df_long based on the median\n",
    "merged_df_short = merged_df[merged_df[source_language_word_count] <= median_word_count]\n",
    "merged_df_long = merged_df[merged_df[source_language_word_count] > median_word_count]\n",
    "\n",
    "#vPrint the shapes of the datasets\n",
    "print(\"Shape of merged_df_short:\", merged_df_short.shape)\n",
    "print(\"Shape of merged_df_long:\", merged_df_long.shape)\n",
    "print(f'Median word count in {source_language}: {median_word_count}')"
   ]
  },
  {
   "cell_type": "code",
   "execution_count": 16,
   "metadata": {},
   "outputs": [
    {
     "data": {
      "text/html": [
       "<div>\n",
       "<style scoped>\n",
       "    .dataframe tbody tr th:only-of-type {\n",
       "        vertical-align: middle;\n",
       "    }\n",
       "\n",
       "    .dataframe tbody tr th {\n",
       "        vertical-align: top;\n",
       "    }\n",
       "\n",
       "    .dataframe thead th {\n",
       "        text-align: right;\n",
       "    }\n",
       "</style>\n",
       "<table border=\"1\" class=\"dataframe\">\n",
       "  <thead>\n",
       "    <tr style=\"text-align: right;\">\n",
       "      <th></th>\n",
       "      <th>Early Modern Bohemian German</th>\n",
       "      <th>English</th>\n",
       "      <th>DE_to_EN_000_example_prompt</th>\n",
       "      <th>DE_to_EN_001_example_prompt</th>\n",
       "      <th>DE_to_EN_002_example_prompt</th>\n",
       "      <th>DE_to_EN_004_example_prompt</th>\n",
       "      <th>EN_to_DE_000_example_prompt</th>\n",
       "      <th>EN_to_DE_001_example_prompt</th>\n",
       "      <th>EN_to_DE_002_example_prompt</th>\n",
       "      <th>EN_to_DE_004_example_prompt</th>\n",
       "      <th>English_word_count</th>\n",
       "    </tr>\n",
       "  </thead>\n",
       "  <tbody>\n",
       "    <tr>\n",
       "      <th>2</th>\n",
       "      <td>3. Novembris. Matz Apelt beschweret sich Vber ...</td>\n",
       "      <td>3. Novembris. Matz Apelt complains against Jac...</td>\n",
       "      <td>November 3rd. Matz Apelt complains about Jacob...</td>\n",
       "      <td>November 3rd. Matthias Apel complains about Ja...</td>\n",
       "      <td>3 November. Matthias Apel complains about Jaco...</td>\n",
       "      <td>3 November. Matz Apel complains about Jacob Sc...</td>\n",
       "      <td>Dritte Novēmberis. Matz Apel klagt wider Jakob...</td>\n",
       "      <td>Den 3.Novembres beschwert sich Matts Apelth wi...</td>\n",
       "      <td>Den 3.Novembres. Matts Apel klagt wider Jakob ...</td>\n",
       "      <td>3.Novembres. Matthäus Apel klagte wider Jakob ...</td>\n",
       "      <td>77</td>\n",
       "    </tr>\n",
       "    <tr>\n",
       "      <th>3</th>\n",
       "      <td>Adam Kötter von d. Wittige, demnach er sich mi...</td>\n",
       "      <td>Adam Koetter from the Wittige, since he disput...</td>\n",
       "      <td>Adam Kötter von der Wittege, inasmuch as he hi...</td>\n",
       "      <td>Adam Kötter von der Witte, inasmuch as he has ...</td>\n",
       "      <td>Adam Kötter from Wittig, because he quarreled ...</td>\n",
       "      <td>Adam Kötter von d. Wittig, since he quarreled ...</td>\n",
       "      <td>Adam Kötter von dem Witige, ob er mit Worten u...</td>\n",
       "      <td>Adame Kötter aus dem Witige, weil er mit Ursel...</td>\n",
       "      <td>Adam Kötter vom Witige, denn er im Wort und wi...</td>\n",
       "      <td>Adam Kötter vom wittigen, demnach er mit Worte...</td>\n",
       "      <td>67</td>\n",
       "    </tr>\n",
       "    <tr>\n",
       "      <th>4</th>\n",
       "      <td>Adam Krauß zumb Einsiedel saget auff sein gewi...</td>\n",
       "      <td>Adam Krauss in Einsiedel declares on his consc...</td>\n",
       "      <td>Adam Krauss of Einsidtel says on his certain k...</td>\n",
       "      <td>Adam Krauss of Einsidil says on his word, want...</td>\n",
       "      <td>Adam Krauss of Einsidil says upon his word, wa...</td>\n",
       "      <td>Adam Krauss zum Einsidle says upon his word, w...</td>\n",
       "      <td>Adam Kraus zu Einsidl bekennt auf sein Gewisse...</td>\n",
       "      <td>Adams Kraus zu Einsidil wider sein Gewissen er...</td>\n",
       "      <td>Adam Kraus in Ensiedl erklärt auf sein Gewisse...</td>\n",
       "      <td>Adam krauß in einsiedal erklärt auff sei Gewis...</td>\n",
       "      <td>70</td>\n",
       "    </tr>\n",
       "    <tr>\n",
       "      <th>10</th>\n",
       "      <td>Demnach Ihme vom Ampt Aufferleget vnd befohlen...</td>\n",
       "      <td>After he was instructed and commanded by the m...</td>\n",
       "      <td>Therefore he having been assigned by order and...</td>\n",
       "      <td>Therefore him by order given and commanded tha...</td>\n",
       "      <td>According to him by order given and commanded ...</td>\n",
       "      <td>Since he has been assigned by the manor and or...</td>\n",
       "      <td>Nach er ward von dem obrigkeitlichen Gericht b...</td>\n",
       "      <td>Nach dem Er hat durchs Gericht zu der Herrscha...</td>\n",
       "      <td>Nachdem ihm vom herrschaftlichem Gericht befoh...</td>\n",
       "      <td>Nachdem er vom Ambt gelehret und befehligt war...</td>\n",
       "      <td>58</td>\n",
       "    </tr>\n",
       "    <tr>\n",
       "      <th>11</th>\n",
       "      <td>Demnach sie der Seligern von der Frau Johrmizi...</td>\n",
       "      <td>After she spoken badly to Seliger's wife/widow...</td>\n",
       "      <td>Therefore she spoke about the Blessed Virgin M...</td>\n",
       "      <td>Therefore it was spoken by the blessed one abo...</td>\n",
       "      <td>Since she spoke ill about the Blessed Virgin M...</td>\n",
       "      <td>Since she spoke ill about the blessed one by n...</td>\n",
       "      <td>Nachdem sie schlecht geredet hat zu Seligers W...</td>\n",
       "      <td>Nach dem sie schlecht geredet hat zu Seligers ...</td>\n",
       "      <td>Nach dem sie schlecht geredet hatte wider Seli...</td>\n",
       "      <td>Nachdem sie schlecht geredet hat zur Seligers ...</td>\n",
       "      <td>45</td>\n",
       "    </tr>\n",
       "  </tbody>\n",
       "</table>\n",
       "</div>"
      ],
      "text/plain": [
       "                         Early Modern Bohemian German  \\\n",
       "2   3. Novembris. Matz Apelt beschweret sich Vber ...   \n",
       "3   Adam Kötter von d. Wittige, demnach er sich mi...   \n",
       "4   Adam Krauß zumb Einsiedel saget auff sein gewi...   \n",
       "10  Demnach Ihme vom Ampt Aufferleget vnd befohlen...   \n",
       "11  Demnach sie der Seligern von der Frau Johrmizi...   \n",
       "\n",
       "                                              English  \\\n",
       "2   3. Novembris. Matz Apelt complains against Jac...   \n",
       "3   Adam Koetter from the Wittige, since he disput...   \n",
       "4   Adam Krauss in Einsiedel declares on his consc...   \n",
       "10  After he was instructed and commanded by the m...   \n",
       "11  After she spoken badly to Seliger's wife/widow...   \n",
       "\n",
       "                          DE_to_EN_000_example_prompt  \\\n",
       "2   November 3rd. Matz Apelt complains about Jacob...   \n",
       "3   Adam Kötter von der Wittege, inasmuch as he hi...   \n",
       "4   Adam Krauss of Einsidtel says on his certain k...   \n",
       "10  Therefore he having been assigned by order and...   \n",
       "11  Therefore she spoke about the Blessed Virgin M...   \n",
       "\n",
       "                          DE_to_EN_001_example_prompt  \\\n",
       "2   November 3rd. Matthias Apel complains about Ja...   \n",
       "3   Adam Kötter von der Witte, inasmuch as he has ...   \n",
       "4   Adam Krauss of Einsidil says on his word, want...   \n",
       "10  Therefore him by order given and commanded tha...   \n",
       "11  Therefore it was spoken by the blessed one abo...   \n",
       "\n",
       "                          DE_to_EN_002_example_prompt  \\\n",
       "2   3 November. Matthias Apel complains about Jaco...   \n",
       "3   Adam Kötter from Wittig, because he quarreled ...   \n",
       "4   Adam Krauss of Einsidil says upon his word, wa...   \n",
       "10  According to him by order given and commanded ...   \n",
       "11  Since she spoke ill about the Blessed Virgin M...   \n",
       "\n",
       "                          DE_to_EN_004_example_prompt  \\\n",
       "2   3 November. Matz Apel complains about Jacob Sc...   \n",
       "3   Adam Kötter von d. Wittig, since he quarreled ...   \n",
       "4   Adam Krauss zum Einsidle says upon his word, w...   \n",
       "10  Since he has been assigned by the manor and or...   \n",
       "11  Since she spoke ill about the blessed one by n...   \n",
       "\n",
       "                          EN_to_DE_000_example_prompt  \\\n",
       "2   Dritte Novēmberis. Matz Apel klagt wider Jakob...   \n",
       "3   Adam Kötter von dem Witige, ob er mit Worten u...   \n",
       "4   Adam Kraus zu Einsidl bekennt auf sein Gewisse...   \n",
       "10  Nach er ward von dem obrigkeitlichen Gericht b...   \n",
       "11  Nachdem sie schlecht geredet hat zu Seligers W...   \n",
       "\n",
       "                          EN_to_DE_001_example_prompt  \\\n",
       "2   Den 3.Novembres beschwert sich Matts Apelth wi...   \n",
       "3   Adame Kötter aus dem Witige, weil er mit Ursel...   \n",
       "4   Adams Kraus zu Einsidil wider sein Gewissen er...   \n",
       "10  Nach dem Er hat durchs Gericht zu der Herrscha...   \n",
       "11  Nach dem sie schlecht geredet hat zu Seligers ...   \n",
       "\n",
       "                          EN_to_DE_002_example_prompt  \\\n",
       "2   Den 3.Novembres. Matts Apel klagt wider Jakob ...   \n",
       "3   Adam Kötter vom Witige, denn er im Wort und wi...   \n",
       "4   Adam Kraus in Ensiedl erklärt auf sein Gewisse...   \n",
       "10  Nachdem ihm vom herrschaftlichem Gericht befoh...   \n",
       "11  Nach dem sie schlecht geredet hatte wider Seli...   \n",
       "\n",
       "                          EN_to_DE_004_example_prompt  English_word_count  \n",
       "2   3.Novembres. Matthäus Apel klagte wider Jakob ...                  77  \n",
       "3   Adam Kötter vom wittigen, demnach er mit Worte...                  67  \n",
       "4   Adam krauß in einsiedal erklärt auff sei Gewis...                  70  \n",
       "10  Nachdem er vom Ambt gelehret und befehligt war...                  58  \n",
       "11  Nachdem sie schlecht geredet hat zur Seligers ...                  45  "
      ]
     },
     "execution_count": 16,
     "metadata": {},
     "output_type": "execute_result"
    }
   ],
   "source": [
    "merged_df_short.head()"
   ]
  },
  {
   "cell_type": "code",
   "execution_count": 17,
   "metadata": {},
   "outputs": [
    {
     "data": {
      "text/html": [
       "<div>\n",
       "<style scoped>\n",
       "    .dataframe tbody tr th:only-of-type {\n",
       "        vertical-align: middle;\n",
       "    }\n",
       "\n",
       "    .dataframe tbody tr th {\n",
       "        vertical-align: top;\n",
       "    }\n",
       "\n",
       "    .dataframe thead th {\n",
       "        text-align: right;\n",
       "    }\n",
       "</style>\n",
       "<table border=\"1\" class=\"dataframe\">\n",
       "  <thead>\n",
       "    <tr style=\"text-align: right;\">\n",
       "      <th></th>\n",
       "      <th>Early Modern Bohemian German</th>\n",
       "      <th>English</th>\n",
       "      <th>DE_to_EN_000_example_prompt</th>\n",
       "      <th>DE_to_EN_001_example_prompt</th>\n",
       "      <th>DE_to_EN_002_example_prompt</th>\n",
       "      <th>DE_to_EN_004_example_prompt</th>\n",
       "      <th>EN_to_DE_000_example_prompt</th>\n",
       "      <th>EN_to_DE_001_example_prompt</th>\n",
       "      <th>EN_to_DE_002_example_prompt</th>\n",
       "      <th>EN_to_DE_004_example_prompt</th>\n",
       "      <th>English_word_count</th>\n",
       "    </tr>\n",
       "  </thead>\n",
       "  <tbody>\n",
       "    <tr>\n",
       "      <th>0</th>\n",
       "      <td>1. dz Sie verschienen freytag als den 29 huig ...</td>\n",
       "      <td>1. last Friday, the 29th, they came up to the ...</td>\n",
       "      <td>If you appear on Friday as the 29th in great n...</td>\n",
       "      <td>They appeared on Friday, the 29th, in large nu...</td>\n",
       "      <td>1. When they appeared Friday as the 29th in la...</td>\n",
       "      <td>1. When they appeared Friday as the 29th in la...</td>\n",
       "      <td>Vergangene Freitag den XXIX., kamen sie zu ein...</td>\n",
       "      <td>Ersterlich zu wissen ist es so gewesen; letzte...</td>\n",
       "      <td>1. Letzten Freitagm dem 29., kamen sie zahlrei...</td>\n",
       "      <td>1. Letzten Freitagm, dem 29., kamen sie zahlre...</td>\n",
       "      <td>435</td>\n",
       "    </tr>\n",
       "    <tr>\n",
       "      <th>1</th>\n",
       "      <td>Es ist Vor.12. iharen Vnnd mehr Zu Oberweigßdo...</td>\n",
       "      <td>12 years ago and more, in Oberweigsdorf, Paul ...</td>\n",
       "      <td>It is before 12th [month] in their village mor...</td>\n",
       "      <td>It was before twelve years ago in Oberweigsdor...</td>\n",
       "      <td>It is before 12 o'clock here and more at Oberw...</td>\n",
       "      <td>Before twelve o’clock yesterday at Oberweigsdo...</td>\n",
       "      <td>Vor zwölff Jahren und mehr ist zu Oberweigsdor...</td>\n",
       "      <td>Vor zwölff Jahren und mehr zu Obernwegsdorff i...</td>\n",
       "      <td>Vor zwölff jahren und mehrn im oberweiggsdorff...</td>\n",
       "      <td>Vor 12 Jaren und mehr ist obir weiggsdorff pau...</td>\n",
       "      <td>105</td>\n",
       "    </tr>\n",
       "    <tr>\n",
       "      <th>5</th>\n",
       "      <td>Raspenaw. Adam Kulman Klagt Vber Paul Kelern V...</td>\n",
       "      <td>Adam Kulman complains against Paul Kelern from...</td>\n",
       "      <td>Adam Kulman complains about Paul KeIler from M...</td>\n",
       "      <td>Adam Kulman sues Paul KeIler from Mildeinaich ...</td>\n",
       "      <td>Raspenaw. Adam Kulman complains about Paul Kel...</td>\n",
       "      <td>RäspeNaw. Adam Kulmann complaints over Paul Ke...</td>\n",
       "      <td>Adam Kulman klagen widerst Paule Kelern aus Mi...</td>\n",
       "      <td>Adame Culmann klagt wider Paule Keleren aus Mi...</td>\n",
       "      <td>Adame Kulmann klagt wider Paule Keelen aus mil...</td>\n",
       "      <td>Adam kulmān beklagte sich über paul kelern aus...</td>\n",
       "      <td>443</td>\n",
       "    </tr>\n",
       "    <tr>\n",
       "      <th>6</th>\n",
       "      <td>Adam Seeliger Zu Mildenaich Claget Vber des al...</td>\n",
       "      <td>Adam Seeliger in Mildenaich complains against ...</td>\n",
       "      <td>Adam Seeliger Zu Mildenaich clages over old Th...</td>\n",
       "      <td>Adam Seeliger of Mildenai complains about old ...</td>\n",
       "      <td>Adam Seeliger of Mildenai complains about old ...</td>\n",
       "      <td>Adam Seeliger Zu Mildenaich claims over old Th...</td>\n",
       "      <td>Adam Seēligger zu Mildeinaich klagt wider den ...</td>\n",
       "      <td>Adame Seelyger zu Mildenaich klagt wider des a...</td>\n",
       "      <td>Adam Seheligier in mildaichen klagt wider des ...</td>\n",
       "      <td>Adam Seiliger in mildenaich klage wider alten ...</td>\n",
       "      <td>267</td>\n",
       "    </tr>\n",
       "    <tr>\n",
       "      <th>7</th>\n",
       "      <td>Demnach hannß Tageman vom Einsidel, mit Anna B...</td>\n",
       "      <td>After Hannss Tageman from Einsidel lived in fo...</td>\n",
       "      <td>Therefore Hans Tagesmann from Einsiedl, with A...</td>\n",
       "      <td>According to which Hans Tagesmann from Einsied...</td>\n",
       "      <td>According to this, Hans Tagesmann from Einsied...</td>\n",
       "      <td>Since then Hannß Tagemann from Einsiedl, with ...</td>\n",
       "      <td>Nach dem dass Hans Tagesmann aus Enßidel mit d...</td>\n",
       "      <td>Nach dem dass der Hanss Tagesmann aus Ensiedl ...</td>\n",
       "      <td>Nach dem dass Hannss Tagemann von einsiedl mit...</td>\n",
       "      <td>Nach Hannss Tagemann vom Einsiedle lebte in Un...</td>\n",
       "      <td>173</td>\n",
       "    </tr>\n",
       "  </tbody>\n",
       "</table>\n",
       "</div>"
      ],
      "text/plain": [
       "                        Early Modern Bohemian German  \\\n",
       "0  1. dz Sie verschienen freytag als den 29 huig ...   \n",
       "1  Es ist Vor.12. iharen Vnnd mehr Zu Oberweigßdo...   \n",
       "5  Raspenaw. Adam Kulman Klagt Vber Paul Kelern V...   \n",
       "6  Adam Seeliger Zu Mildenaich Claget Vber des al...   \n",
       "7  Demnach hannß Tageman vom Einsidel, mit Anna B...   \n",
       "\n",
       "                                             English  \\\n",
       "0  1. last Friday, the 29th, they came up to the ...   \n",
       "1  12 years ago and more, in Oberweigsdorf, Paul ...   \n",
       "5  Adam Kulman complains against Paul Kelern from...   \n",
       "6  Adam Seeliger in Mildenaich complains against ...   \n",
       "7  After Hannss Tageman from Einsidel lived in fo...   \n",
       "\n",
       "                         DE_to_EN_000_example_prompt  \\\n",
       "0  If you appear on Friday as the 29th in great n...   \n",
       "1  It is before 12th [month] in their village mor...   \n",
       "5  Adam Kulman complains about Paul KeIler from M...   \n",
       "6  Adam Seeliger Zu Mildenaich clages over old Th...   \n",
       "7  Therefore Hans Tagesmann from Einsiedl, with A...   \n",
       "\n",
       "                         DE_to_EN_001_example_prompt  \\\n",
       "0  They appeared on Friday, the 29th, in large nu...   \n",
       "1  It was before twelve years ago in Oberweigsdor...   \n",
       "5  Adam Kulman sues Paul KeIler from Mildeinaich ...   \n",
       "6  Adam Seeliger of Mildenai complains about old ...   \n",
       "7  According to which Hans Tagesmann from Einsied...   \n",
       "\n",
       "                         DE_to_EN_002_example_prompt  \\\n",
       "0  1. When they appeared Friday as the 29th in la...   \n",
       "1  It is before 12 o'clock here and more at Oberw...   \n",
       "5  Raspenaw. Adam Kulman complains about Paul Kel...   \n",
       "6  Adam Seeliger of Mildenai complains about old ...   \n",
       "7  According to this, Hans Tagesmann from Einsied...   \n",
       "\n",
       "                         DE_to_EN_004_example_prompt  \\\n",
       "0  1. When they appeared Friday as the 29th in la...   \n",
       "1  Before twelve o’clock yesterday at Oberweigsdo...   \n",
       "5  RäspeNaw. Adam Kulmann complaints over Paul Ke...   \n",
       "6  Adam Seeliger Zu Mildenaich claims over old Th...   \n",
       "7  Since then Hannß Tagemann from Einsiedl, with ...   \n",
       "\n",
       "                         EN_to_DE_000_example_prompt  \\\n",
       "0  Vergangene Freitag den XXIX., kamen sie zu ein...   \n",
       "1  Vor zwölff Jahren und mehr ist zu Oberweigsdor...   \n",
       "5  Adam Kulman klagen widerst Paule Kelern aus Mi...   \n",
       "6  Adam Seēligger zu Mildeinaich klagt wider den ...   \n",
       "7  Nach dem dass Hans Tagesmann aus Enßidel mit d...   \n",
       "\n",
       "                         EN_to_DE_001_example_prompt  \\\n",
       "0  Ersterlich zu wissen ist es so gewesen; letzte...   \n",
       "1  Vor zwölff Jahren und mehr zu Obernwegsdorff i...   \n",
       "5  Adame Culmann klagt wider Paule Keleren aus Mi...   \n",
       "6  Adame Seelyger zu Mildenaich klagt wider des a...   \n",
       "7  Nach dem dass der Hanss Tagesmann aus Ensiedl ...   \n",
       "\n",
       "                         EN_to_DE_002_example_prompt  \\\n",
       "0  1. Letzten Freitagm dem 29., kamen sie zahlrei...   \n",
       "1  Vor zwölff jahren und mehrn im oberweiggsdorff...   \n",
       "5  Adame Kulmann klagt wider Paule Keelen aus mil...   \n",
       "6  Adam Seheligier in mildaichen klagt wider des ...   \n",
       "7  Nach dem dass Hannss Tagemann von einsiedl mit...   \n",
       "\n",
       "                         EN_to_DE_004_example_prompt  English_word_count  \n",
       "0  1. Letzten Freitagm, dem 29., kamen sie zahlre...                 435  \n",
       "1  Vor 12 Jaren und mehr ist obir weiggsdorff pau...                 105  \n",
       "5  Adam kulmān beklagte sich über paul kelern aus...                 443  \n",
       "6  Adam Seiliger in mildenaich klage wider alten ...                 267  \n",
       "7  Nach Hannss Tagemann vom Einsiedle lebte in Un...                 173  "
      ]
     },
     "execution_count": 17,
     "metadata": {},
     "output_type": "execute_result"
    }
   ],
   "source": [
    "merged_df_long.head()"
   ]
  },
  {
   "cell_type": "markdown",
   "metadata": {},
   "source": [
    "# BLEU Evaluation"
   ]
  },
  {
   "cell_type": "code",
   "execution_count": 18,
   "metadata": {},
   "outputs": [
    {
     "name": "stdout",
     "output_type": "stream",
     "text": [
      "______________________________________________________________________________________________\n",
      "Current Dataset: merged_df. Source language is English.\n",
      "______________________________________________________________________________________________\n",
      "Evaluation of target language Early Modern Bohemian German and LLM-generated candidates EN_to_DE_000_example_prompt\n",
      "Corpus-level SacreBLEU score for EN_to_DE_000_example_prompt: 1.193\n",
      "\n",
      "Evaluation of target language Early Modern Bohemian German and LLM-generated candidates EN_to_DE_001_example_prompt\n",
      "Corpus-level SacreBLEU score for EN_to_DE_001_example_prompt: 1.002\n",
      "\n",
      "Evaluation of target language Early Modern Bohemian German and LLM-generated candidates EN_to_DE_002_example_prompt\n",
      "Corpus-level SacreBLEU score for EN_to_DE_002_example_prompt: 1.154\n",
      "\n",
      "Evaluation of target language Early Modern Bohemian German and LLM-generated candidates EN_to_DE_004_example_prompt\n",
      "Corpus-level SacreBLEU score for EN_to_DE_004_example_prompt: 1.334\n",
      "\n"
     ]
    }
   ],
   "source": [
    "# Check if median splitting is true\n",
    "if median_splitting:\n",
    "    dataset_splits = [merged_df_short, merged_df_long]\n",
    "    dataset_names = ['merged_df_short', 'merged_df_long']\n",
    "else:\n",
    "    dataset_splits = [merged_df]\n",
    "    dataset_names = ['merged_df']\n",
    "\n",
    "# Compute BLEU scores for both datasets\n",
    "for split, name in zip(dataset_splits, dataset_names):\n",
    "    # Print statement\n",
    "    print('______________________________________________________________________________________________')\n",
    "    print(f'Current Dataset: {name}. Source language is {source_language}.')\n",
    "    print('______________________________________________________________________________________________')\n",
    "\n",
    "    # Create references for split\n",
    "    references = [split[target_language].tolist()]\n",
    "\n",
    "    # Compute corpus-level BLEU scores\n",
    "    for col in candidate_columns:\n",
    "        candidates = split[col].tolist()\n",
    "        print(f'Evaluation of target language {target_language} and LLM-generated candidates {col}')\n",
    "        bleu_score = sacrebleu.corpus_bleu(candidates, references).score\n",
    "        print(f\"Corpus-level SacreBLEU score for {col}: {bleu_score:.3f}\\n\")"
   ]
  },
  {
   "cell_type": "markdown",
   "metadata": {},
   "source": [
    "# Create Text File to Inspect Translation Results"
   ]
  },
  {
   "cell_type": "code",
   "execution_count": 19,
   "metadata": {},
   "outputs": [
    {
     "name": "stdout",
     "output_type": "stream",
     "text": [
      "Text file created: translation_inspection_entry.txt\n"
     ]
    }
   ],
   "source": [
    "# Function to generate the inspection text for a specific entry\n",
    "def generate_inspection_text(df, entry_index, translation_directions, output_file):\n",
    "    with open(output_file, 'w', encoding='utf-8') as f:\n",
    "\n",
    "        # Get the row corresponding to the entry index\n",
    "        row = df.iloc[entry_index]\n",
    "\n",
    "        # Write the German and English translations pairs by Sheilagh Ogilvie\n",
    "        f.write(f\"Entry {entry_index + 1}:\\n\")\n",
    "        f.write(f\"Early Modern Bohemian German (Sheilagh Ogilvie's Transcription): {row['Early Modern Bohemian German']}\\n\")\n",
    "        f.write(f\"English (Sheilagh Ogilvie): {row['English']}\\n\\n\")\n",
    "\n",
    "        # Write the candidate translations for each translation direction\n",
    "        for col in df.columns:\n",
    "            if any(direction in col for direction in translation_directions):\n",
    "                f.write(f\"{col}: {row[col]}\\n\")\n",
    "        \n",
    "        f.write(\"\\n\" + \"=\"*50 + \"\\n\\n\")\n",
    "\n",
    "# Define the translation directions and the entry to inspect\n",
    "translation_directions = ['DE_to_EN', 'EN_to_DE']\n",
    "entry_index = 0\n",
    "\n",
    "# Call the function to generate the text file\n",
    "output_file = 'translation_inspection_entry.txt'\n",
    "generate_inspection_text(merged_df, entry_index, translation_directions, output_file)\n",
    "print(f\"Text file created: {output_file}\")\n"
   ]
  },
  {
   "cell_type": "code",
   "execution_count": 20,
   "metadata": {},
   "outputs": [
    {
     "data": {
      "image/png": "[encoded data removed]",
      "text/plain": [
       "<Figure size 640x480 with 1 Axes>"
      ]
     },
     "metadata": {},
     "output_type": "display_data"
    }
   ],
   "source": [
    "import matplotlib.pyplot as plt\n",
    "\n",
    "# Function to compute word count and plot the histogram for any column\n",
    "def plot_word_count_distribution(df, column_name):\n",
    "    # Compute word count for each entry in the specified column\n",
    "    df['word_count'] = df[column_name].apply(lambda x: len(x.split()))\n",
    "    \n",
    "    # Plotting the histogram of word count distribution\n",
    "    plt.hist(df['word_count'], bins=10, edgecolor='black')\n",
    "    plt.title(f'Word Count Distribution for {column_name}')\n",
    "    plt.xlabel('Word Count')\n",
    "    plt.ylabel('Frequency')\n",
    "    plt.grid(True)\n",
    "    plt.show()\n",
    "\n",
    "# Example usage with 'DE_to_EN_128_example_prompt'\n",
    "plot_word_count_distribution(merged_df, 'DE_to_EN_004_example_prompt')"
   ]
  },
  {
   "cell_type": "code",
   "execution_count": null,
   "metadata": {},
   "outputs": [],
   "source": []
  },
  {
   "cell_type": "code",
   "execution_count": null,
   "metadata": {},
   "outputs": [],
   "source": []
  }
 ],
 "metadata": {
  "kernelspec": {
   "display_name": "Python 3",
   "language": "python",
   "name": "python3"
  },
  "language_info": {
   "codemirror_mode": {
    "name": "ipython",
    "version": 3
   },
   "file_extension": ".py",
   "mimetype": "text/x-python",
   "name": "python",
   "nbconvert_exporter": "python",
   "pygments_lexer": "ipython3",
   "version": "3.9.19"
  }
 },
 "nbformat": 4,
 "nbformat_minor": 2
}
