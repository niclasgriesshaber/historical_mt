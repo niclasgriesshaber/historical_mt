{
 "cells": [
  {
   "cell_type": "markdown",
   "metadata": {},
   "source": [
    "# Import libraries"
   ]
  },
  {
   "cell_type": "code",
   "execution_count": 1,
   "metadata": {},
   "outputs": [],
   "source": [
    "import os\n",
    "import re\n",
    "import pandas as pd\n",
    "from functools import reduce"
   ]
  },
  {
   "cell_type": "markdown",
   "metadata": {},
   "source": [
    "# Set Paths"
   ]
  },
  {
   "cell_type": "code",
   "execution_count": 2,
   "metadata": {},
   "outputs": [],
   "source": [
    "# Base path\n",
    "base_path = os.path.abspath(os.path.join(os.getcwd(), '..', '..', '..', '..'))\n",
    "\n",
    "# Model Parameters\n",
    "unsloth_model_name = 'unsloth/gemma-2-9b-it-bnb-4bit'\n",
    "company_name = 'alphabet'\n",
    "model_name = unsloth_model_name.split('/')[1]"
   ]
  },
  {
   "cell_type": "code",
   "execution_count": 5,
   "metadata": {},
   "outputs": [
    {
     "name": "stdout",
     "output_type": "stream",
     "text": [
      "Base path: /cs/student/msc/csml/2023/ngriessh/historical_mt\n",
      "Results directory: /cs/student/msc/csml/2023/ngriessh/historical_mt/results/alphabet/gemma-2-9b-it-bnb-4bit\n",
      "Shots list: [0, 1, 2, 4]\n"
     ]
    }
   ],
   "source": [
    "# Results directory path\n",
    "results_dir = os.path.join(base_path, 'results', company_name, model_name)\n",
    "\n",
    "# List of shot values\n",
    "\n",
    "shots_list = [2**i for i in range(3)] \n",
    "shots_list.insert(0, 0)\n",
    "#shots_list = [] # change for finetuning\n",
    "\n",
    "# Print paths\n",
    "print(f'Base path: {base_path}')\n",
    "print(f'Results directory: {results_dir}')\n",
    "print(f'Shots list: {shots_list}')"
   ]
  },
  {
   "cell_type": "markdown",
   "metadata": {},
   "source": [
    "# Function to Load JSON Files into DataFrames"
   ]
  },
  {
   "cell_type": "code",
   "execution_count": 6,
   "metadata": {},
   "outputs": [],
   "source": [
    "def load_json_to_df(folder_path, direction, shot):\n",
    "    \"\"\"\n",
    "    Load JSON files into a DataFrame, rename columns, and handle missing data.\n",
    "\n",
    "    Parameters:\n",
    "    - folder_path: Path to the folder containing the JSON files.\n",
    "    - direction: 'DE_to_EN' or 'EN_to_DE'.\n",
    "    - shot: An integer for shot number or 'finetuning'.\n",
    "\n",
    "    Returns:\n",
    "    - A pandas DataFrame with the loaded data.\n",
    "    \"\"\"\n",
    "    # Construct file and column names based on 'shot'\n",
    "    if isinstance(shot, int):\n",
    "        formatted_shot = f\"{shot:03}\"\n",
    "        file_name = f\"{direction}_{formatted_shot}_example_prompt.json\"\n",
    "    elif shot == 'finetuning':\n",
    "        file_name = f\"{direction}_finetuning.json\"\n",
    "    else:\n",
    "        print(f\"Invalid shot value: {shot}\")\n",
    "        return pd.DataFrame()\n",
    "\n",
    "    file_path = os.path.join(folder_path, file_name)\n",
    "\n",
    "    # Check if the file exists and load data\n",
    "    if os.path.exists(file_path):\n",
    "        print(f\"File exists: {file_path}\")\n",
    "        try:\n",
    "\n",
    "            # Read the JSON file into a DataFrame\n",
    "            df = pd.read_json(file_path, lines=True)\n",
    "\n",
    "            # Remove 'text' column if it exists\n",
    "            df.drop(columns=['text'], inplace=True, errors='ignore')\n",
    "\n",
    "            return df\n",
    "        \n",
    "        except ValueError as e:\n",
    "            print(f\"Error reading JSON file {file_name}: {e}\")\n",
    "            return pd.DataFrame()\n",
    "    else:\n",
    "        print(f\"File does not exist: {file_path}\")\n",
    "        return pd.DataFrame()"
   ]
  },
  {
   "cell_type": "markdown",
   "metadata": {},
   "source": [
    "# Load and Merge DataFrames"
   ]
  },
  {
   "cell_type": "code",
   "execution_count": 10,
   "metadata": {},
   "outputs": [
    {
     "name": "stdout",
     "output_type": "stream",
     "text": [
      "\n",
      "Processing directory: /cs/student/msc/csml/2023/ngriessh/historical_mt/results/alphabet/gemma-2-9b-it-bnb-4bit/icl/DE_to_EN\n",
      "File exists: /cs/student/msc/csml/2023/ngriessh/historical_mt/results/alphabet/gemma-2-9b-it-bnb-4bit/icl/DE_to_EN/DE_to_EN_000_example_prompt.json\n",
      "Loaded data for direction 'DE_to_EN', shot: 0\n",
      "\n",
      "Processing directory: /cs/student/msc/csml/2023/ngriessh/historical_mt/results/alphabet/gemma-2-9b-it-bnb-4bit/icl/DE_to_EN\n",
      "File exists: /cs/student/msc/csml/2023/ngriessh/historical_mt/results/alphabet/gemma-2-9b-it-bnb-4bit/icl/DE_to_EN/DE_to_EN_001_example_prompt.json\n",
      "Loaded data for direction 'DE_to_EN', shot: 1\n",
      "\n",
      "Processing directory: /cs/student/msc/csml/2023/ngriessh/historical_mt/results/alphabet/gemma-2-9b-it-bnb-4bit/icl/DE_to_EN\n",
      "File exists: /cs/student/msc/csml/2023/ngriessh/historical_mt/results/alphabet/gemma-2-9b-it-bnb-4bit/icl/DE_to_EN/DE_to_EN_002_example_prompt.json\n",
      "Loaded data for direction 'DE_to_EN', shot: 2\n",
      "\n",
      "Processing directory: /cs/student/msc/csml/2023/ngriessh/historical_mt/results/alphabet/gemma-2-9b-it-bnb-4bit/icl/DE_to_EN\n",
      "File exists: /cs/student/msc/csml/2023/ngriessh/historical_mt/results/alphabet/gemma-2-9b-it-bnb-4bit/icl/DE_to_EN/DE_to_EN_004_example_prompt.json\n",
      "Loaded data for direction 'DE_to_EN', shot: 4\n",
      "\n",
      "Processing directory: /cs/student/msc/csml/2023/ngriessh/historical_mt/results/alphabet/gemma-2-9b-it-bnb-4bit/icl/EN_to_DE\n",
      "File exists: /cs/student/msc/csml/2023/ngriessh/historical_mt/results/alphabet/gemma-2-9b-it-bnb-4bit/icl/EN_to_DE/EN_to_DE_000_example_prompt.json\n",
      "Loaded data for direction 'EN_to_DE', shot: 0\n",
      "\n",
      "Processing directory: /cs/student/msc/csml/2023/ngriessh/historical_mt/results/alphabet/gemma-2-9b-it-bnb-4bit/icl/EN_to_DE\n",
      "File exists: /cs/student/msc/csml/2023/ngriessh/historical_mt/results/alphabet/gemma-2-9b-it-bnb-4bit/icl/EN_to_DE/EN_to_DE_001_example_prompt.json\n",
      "Loaded data for direction 'EN_to_DE', shot: 1\n",
      "\n",
      "Processing directory: /cs/student/msc/csml/2023/ngriessh/historical_mt/results/alphabet/gemma-2-9b-it-bnb-4bit/icl/EN_to_DE\n",
      "File exists: /cs/student/msc/csml/2023/ngriessh/historical_mt/results/alphabet/gemma-2-9b-it-bnb-4bit/icl/EN_to_DE/EN_to_DE_002_example_prompt.json\n",
      "Loaded data for direction 'EN_to_DE', shot: 2\n",
      "\n",
      "Processing directory: /cs/student/msc/csml/2023/ngriessh/historical_mt/results/alphabet/gemma-2-9b-it-bnb-4bit/icl/EN_to_DE\n",
      "File exists: /cs/student/msc/csml/2023/ngriessh/historical_mt/results/alphabet/gemma-2-9b-it-bnb-4bit/icl/EN_to_DE/EN_to_DE_004_example_prompt.json\n",
      "Loaded data for direction 'EN_to_DE', shot: 4\n"
     ]
    }
   ],
   "source": [
    "# Initialize an empty list to hold DataFrames\n",
    "dataframes = []\n",
    "\n",
    "# Loop through folders and shots to load data\n",
    "for direction in ['DE_to_EN', 'EN_to_DE']:\n",
    "    for shot in shots_list:# + ['finetuning']: # change for finetuning\n",
    "        \n",
    "        # Determine base folder ('finetuning' or 'icl')\n",
    "        base_folder = 'finetuning' if shot == 'finetuning' else 'icl'\n",
    "        folder_path = os.path.join(results_dir, base_folder, direction)\n",
    "        print(f\"\\nProcessing directory: {folder_path}\")\n",
    "\n",
    "        df = load_json_to_df(folder_path, direction, shot)\n",
    "        if not df.empty:\n",
    "            print(f\"Loaded data for direction '{direction}', shot: {shot}\")\n",
    "            dataframes.append(df)\n",
    "        else:\n",
    "            print(f\"No data loaded for direction '{direction}', shot: {shot}\")"
   ]
  },
  {
   "cell_type": "markdown",
   "metadata": {},
   "source": [
    "# Merge All DataFrames"
   ]
  },
  {
   "cell_type": "code",
   "execution_count": 11,
   "metadata": {},
   "outputs": [
    {
     "name": "stdout",
     "output_type": "stream",
     "text": [
      "\n",
      "All DataFrames merged successfully.\n",
      "Number of matches across all DataFrames: 1000\n"
     ]
    }
   ],
   "source": [
    "# Merge all DataFrames on 'English' and 'Early Modern Bohemian German' columns\n",
    "if dataframes:\n",
    "    # Perform an outer merge to combine all DataFrames\n",
    "    merged_df = reduce(lambda left, right: pd.merge(\n",
    "        left, right, on=['English', 'Early Modern Bohemian German'], how='outer'), dataframes)\n",
    "    print(\"\\nAll DataFrames merged successfully.\")\n",
    "    \n",
    "    # Perform an inner merge to find matches across all DataFrames\n",
    "    matches_df = reduce(lambda left, right: pd.merge(\n",
    "        left, right, on=['English', 'Early Modern Bohemian German'], how='inner'), dataframes)\n",
    "    num_matches = matches_df.shape[0]\n",
    "    print(f\"Number of matches across all DataFrames: {num_matches}\")\n",
    "else:\n",
    "    merged_df = pd.DataFrame()\n",
    "    print(\"\\nNo DataFrames to merge.\")"
   ]
  },
  {
   "cell_type": "code",
   "execution_count": 12,
   "metadata": {},
   "outputs": [
    {
     "data": {
      "text/plain": [
       "Index(['Early Modern Bohemian German', 'English',\n",
       "       'DE_to_EN_000_example_prompt', 'DE_to_EN_001_example_prompt',\n",
       "       'DE_to_EN_002_example_prompt', 'DE_to_EN_004_example_prompt',\n",
       "       'EN_to_DE_000_example_prompt', 'EN_to_DE_001_example_prompt',\n",
       "       'EN_to_DE_002_example_prompt', 'EN_to_DE_004_example_prompt'],\n",
       "      dtype='object')"
      ]
     },
     "execution_count": 12,
     "metadata": {},
     "output_type": "execute_result"
    }
   ],
   "source": [
    "# Check column names\n",
    "merged_df.columns"
   ]
  },
  {
   "cell_type": "markdown",
   "metadata": {},
   "source": [
    "# Define Column Order and Reorder DataFrame"
   ]
  },
  {
   "cell_type": "code",
   "execution_count": 13,
   "metadata": {},
   "outputs": [
    {
     "name": "stdout",
     "output_type": "stream",
     "text": [
      "\n",
      "Columns in the merged DataFrame:\n"
     ]
    },
    {
     "data": {
      "text/plain": [
       "['Early Modern Bohemian German',\n",
       " 'English',\n",
       " 'DE_to_EN_000_example_prompt',\n",
       " 'DE_to_EN_001_example_prompt',\n",
       " 'DE_to_EN_002_example_prompt',\n",
       " 'DE_to_EN_004_example_prompt',\n",
       " 'EN_to_DE_000_example_prompt',\n",
       " 'EN_to_DE_001_example_prompt',\n",
       " 'EN_to_DE_002_example_prompt',\n",
       " 'EN_to_DE_004_example_prompt']"
      ]
     },
     "execution_count": 13,
     "metadata": {},
     "output_type": "execute_result"
    }
   ],
   "source": [
    "# Define the column order\n",
    "column_order = ['Early Modern Bohemian German', 'English']\n",
    "\n",
    "# Append DE_to_EN columns\n",
    "de_to_en_columns = [f\"DE_to_EN_{shot:03}_example_prompt\" for shot in sorted(shots_list)]\n",
    "de_to_en_columns.append(\"DE_to_EN_finetuning\")\n",
    "column_order.extend(de_to_en_columns)\n",
    "\n",
    "# Append EN_to_DE columns\n",
    "en_to_de_columns = [f\"EN_to_DE_{shot:03}_example_prompt\" for shot in sorted(shots_list)]\n",
    "en_to_de_columns.append(\"EN_to_DE_finetuning\")\n",
    "column_order.extend(en_to_de_columns)\n",
    "\n",
    "# Reorder the DataFrame columns\n",
    "existing_columns = [col for col in column_order if col in merged_df.columns]\n",
    "merged_df = merged_df[existing_columns]\n",
    "\n",
    "print(\"\\nColumns in the merged DataFrame:\")\n",
    "merged_df.columns.tolist()"
   ]
  },
  {
   "cell_type": "markdown",
   "metadata": {},
   "source": [
    "# Clean merged_df"
   ]
  },
  {
   "cell_type": "code",
   "execution_count": 14,
   "metadata": {},
   "outputs": [],
   "source": [
    "# Function to clean text entries\n",
    "def clean_text(text):\n",
    "    \n",
    "    # Remove specific unwanted strings in the best order for optimal cleaning\n",
    "    patterns_to_remove = [\n",
    "        r'>',  # Remove '>' when at the beginning\n",
    "        r'^:',  # Remove ':' when it occurs at the beginning of the string\n",
    "        r'`',  # Remove all backticks\n",
    "        r'\\*\\*Translating Text:\\*\\*',  # Remove \"**Translating Text:**\"\n",
    "        r'\\*',  # Remove all asterisks after removing previous patterns\n",
    "        r'#',  # Remove all hashtags\n",
    "        r'translation:',  # Remove all occurrences of \"translation:\"\n",
    "        r'English',  # Remove \"English\"\n",
    "        r'english',  # Remove \"english\"\n",
    "        r'<eos>',  # Remove \"<eos>\"\n",
    "        r'<end_of_turn>',  # Remove \"<end_of_turn>\"\n",
    "        r'early modern bohemia',  # Remove \"early modern bohemia\"\n",
    "        r'early modern bohemian german',  # Remove \"early modern bohemian german\"\n",
    "        r'Early Modern Bohemian Text'  # Remove \"Early Modern Bohemian Text\"\n",
    "    ]\n",
    "    \n",
    "    # Remove patterns from the text\n",
    "    for pattern in patterns_to_remove:\n",
    "        text = re.sub(pattern, '', text, flags=re.IGNORECASE)\n",
    "\n",
    "    # Remove unnecessary double white-spaces\n",
    "    text = re.sub(r'\\s{2,}', ' ', text)\n",
    "\n",
    "    # Remove line breaks\n",
    "    text = re.sub(r'[\\n\\r]+', ' ', text)\n",
    "    \n",
    "    # Remove unnecessary spaces before punctuation\n",
    "    text = re.sub(r'\\s+([.,;!?])', r'\\1', text)\n",
    "    \n",
    "    # Fix spacing around apostrophes (replacing ’ with ')\n",
    "    text = re.sub(r'\\s+’\\s+', r\"'\", text)\n",
    "    \n",
    "    # Fix double spaces or unnecessary whitespace\n",
    "    text = re.sub(r'\\s+', ' ', text).strip()\n",
    "    \n",
    "    return text"
   ]
  },
  {
   "cell_type": "code",
   "execution_count": 15,
   "metadata": {},
   "outputs": [],
   "source": [
    "# Apply clean_text to each column in merged_df\n",
    "for column in merged_df.columns:\n",
    "    merged_df[column] = merged_df[column].apply(lambda x: clean_text(str(x)))"
   ]
  },
  {
   "cell_type": "code",
   "execution_count": 16,
   "metadata": {},
   "outputs": [
    {
     "name": "stdout",
     "output_type": "stream",
     "text": [
      "NA values removed: Early Modern Bohemian German    0\n",
      "English                         0\n",
      "DE_to_EN_000_example_prompt     0\n",
      "DE_to_EN_001_example_prompt     0\n",
      "DE_to_EN_002_example_prompt     0\n",
      "DE_to_EN_004_example_prompt     0\n",
      "EN_to_DE_000_example_prompt     0\n",
      "EN_to_DE_001_example_prompt     0\n",
      "EN_to_DE_002_example_prompt     0\n",
      "EN_to_DE_004_example_prompt     0\n",
      "dtype: int64\n"
     ]
    }
   ],
   "source": [
    "# Drop NA values and count how many 'NA' or missing values are dropped\n",
    "na_values_removed = merged_df.isin(['NA', None]).sum()\n",
    "merged_df = merged_df.replace('NA', None).dropna()\n",
    "\n",
    "# Trim whitespaces and remove line breaks\n",
    "merged_df = merged_df.map(lambda x: x.strip().replace('\\n', '') if isinstance(x, str) else x)\n",
    "\n",
    "# Reporting the number of 'NA' or missing values removed\n",
    "print('NA values removed:', na_values_removed)"
   ]
  },
  {
   "cell_type": "code",
   "execution_count": 17,
   "metadata": {},
   "outputs": [
    {
     "data": {
      "text/html": [
       "<div>\n",
       "<style scoped>\n",
       "    .dataframe tbody tr th:only-of-type {\n",
       "        vertical-align: middle;\n",
       "    }\n",
       "\n",
       "    .dataframe tbody tr th {\n",
       "        vertical-align: top;\n",
       "    }\n",
       "\n",
       "    .dataframe thead th {\n",
       "        text-align: right;\n",
       "    }\n",
       "</style>\n",
       "<table border=\"1\" class=\"dataframe\">\n",
       "  <thead>\n",
       "    <tr style=\"text-align: right;\">\n",
       "      <th></th>\n",
       "      <th>Early Modern Bohemian German</th>\n",
       "      <th>English</th>\n",
       "      <th>DE_to_EN_000_example_prompt</th>\n",
       "      <th>DE_to_EN_001_example_prompt</th>\n",
       "      <th>DE_to_EN_002_example_prompt</th>\n",
       "      <th>DE_to_EN_004_example_prompt</th>\n",
       "      <th>EN_to_DE_000_example_prompt</th>\n",
       "      <th>EN_to_DE_001_example_prompt</th>\n",
       "      <th>EN_to_DE_002_example_prompt</th>\n",
       "      <th>EN_to_DE_004_example_prompt</th>\n",
       "    </tr>\n",
       "  </thead>\n",
       "  <tbody>\n",
       "    <tr>\n",
       "      <th>0</th>\n",
       "      <td>1. dz Sie verschienen freytag als den 29 huig ...</td>\n",
       "      <td>1. last Friday, the 29th, they came up to the ...</td>\n",
       "      <td>If you appear on Friday as the 29th in great n...</td>\n",
       "      <td>They appeared on Friday, the 29th, in large nu...</td>\n",
       "      <td>1. When they appeared Friday as the 29th in la...</td>\n",
       "      <td>1. When they appeared Friday as the 29th in la...</td>\n",
       "      <td>Vergangene Freitag den XXIX., kamen sie zu ein...</td>\n",
       "      <td>Ersterlich zu wissen ist es so gewesen; letzte...</td>\n",
       "      <td>1. Letzten Freitagm dem 29., kamen sie zahlrei...</td>\n",
       "      <td>1. Letzten Freitagm, dem 29., kamen sie zahlre...</td>\n",
       "    </tr>\n",
       "    <tr>\n",
       "      <th>1</th>\n",
       "      <td>Es ist Vor.12. iharen Vnnd mehr Zu Oberweigßdo...</td>\n",
       "      <td>12 years ago and more, in Oberweigsdorf, Paul ...</td>\n",
       "      <td>It is before 12th [month] in their village mor...</td>\n",
       "      <td>It was before twelve years ago in Oberweigsdor...</td>\n",
       "      <td>It is before 12 o'clock here and more at Oberw...</td>\n",
       "      <td>Before twelve o’clock yesterday at Oberweigsdo...</td>\n",
       "      <td>Vor zwölff Jahren und mehr ist zu Oberweigsdor...</td>\n",
       "      <td>Vor zwölff Jahren und mehr zu Obernwegsdorff i...</td>\n",
       "      <td>Vor zwölff jahren und mehrn im oberweiggsdorff...</td>\n",
       "      <td>Vor 12 Jaren und mehr ist obir weiggsdorff pau...</td>\n",
       "    </tr>\n",
       "    <tr>\n",
       "      <th>2</th>\n",
       "      <td>3. Novembris. Matz Apelt beschweret sich Vber ...</td>\n",
       "      <td>3. Novembris. Matz Apelt complains against Jac...</td>\n",
       "      <td>November 3rd. Matz Apelt complains about Jacob...</td>\n",
       "      <td>November 3rd. Matthias Apel complains about Ja...</td>\n",
       "      <td>3 November. Matthias Apel complains about Jaco...</td>\n",
       "      <td>3 November. Matz Apel complains about Jacob Sc...</td>\n",
       "      <td>Dritte Novēmberis. Matz Apel klagt wider Jakob...</td>\n",
       "      <td>Den 3.Novembres beschwert sich Matts Apelth wi...</td>\n",
       "      <td>Den 3.Novembres. Matts Apel klagt wider Jakob ...</td>\n",
       "      <td>3.Novembres. Matthäus Apel klagte wider Jakob ...</td>\n",
       "    </tr>\n",
       "    <tr>\n",
       "      <th>3</th>\n",
       "      <td>Adam Kötter von d. Wittige, demnach er sich mi...</td>\n",
       "      <td>Adam Koetter from the Wittige, since he disput...</td>\n",
       "      <td>Adam Kötter von der Wittege, inasmuch as he hi...</td>\n",
       "      <td>Adam Kötter von der Witte, inasmuch as he has ...</td>\n",
       "      <td>Adam Kötter from Wittig, because he quarreled ...</td>\n",
       "      <td>Adam Kötter von d. Wittig, since he quarreled ...</td>\n",
       "      <td>Adam Kötter von dem Witige, ob er mit Worten u...</td>\n",
       "      <td>Adame Kötter aus dem Witige, weil er mit Ursel...</td>\n",
       "      <td>Adam Kötter vom Witige, denn er im Wort und wi...</td>\n",
       "      <td>Adam Kötter vom wittigen, demnach er mit Worte...</td>\n",
       "    </tr>\n",
       "    <tr>\n",
       "      <th>4</th>\n",
       "      <td>Adam Krauß zumb Einsiedel saget auff sein gewi...</td>\n",
       "      <td>Adam Krauss in Einsiedel declares on his consc...</td>\n",
       "      <td>Adam Krauss of Einsidtel says on his certain k...</td>\n",
       "      <td>Adam Krauss of Einsidil says on his word, want...</td>\n",
       "      <td>Adam Krauss of Einsidil says upon his word, wa...</td>\n",
       "      <td>Adam Krauss zum Einsidle says upon his word, w...</td>\n",
       "      <td>Adam Kraus zu Einsidl bekennt auf sein Gewisse...</td>\n",
       "      <td>Adams Kraus zu Einsidil wider sein Gewissen er...</td>\n",
       "      <td>Adam Kraus in Ensiedl erklärt auf sein Gewisse...</td>\n",
       "      <td>Adam krauß in einsiedal erklärt auff sei Gewis...</td>\n",
       "    </tr>\n",
       "  </tbody>\n",
       "</table>\n",
       "</div>"
      ],
      "text/plain": [
       "                        Early Modern Bohemian German  \\\n",
       "0  1. dz Sie verschienen freytag als den 29 huig ...   \n",
       "1  Es ist Vor.12. iharen Vnnd mehr Zu Oberweigßdo...   \n",
       "2  3. Novembris. Matz Apelt beschweret sich Vber ...   \n",
       "3  Adam Kötter von d. Wittige, demnach er sich mi...   \n",
       "4  Adam Krauß zumb Einsiedel saget auff sein gewi...   \n",
       "\n",
       "                                             English  \\\n",
       "0  1. last Friday, the 29th, they came up to the ...   \n",
       "1  12 years ago and more, in Oberweigsdorf, Paul ...   \n",
       "2  3. Novembris. Matz Apelt complains against Jac...   \n",
       "3  Adam Koetter from the Wittige, since he disput...   \n",
       "4  Adam Krauss in Einsiedel declares on his consc...   \n",
       "\n",
       "                         DE_to_EN_000_example_prompt  \\\n",
       "0  If you appear on Friday as the 29th in great n...   \n",
       "1  It is before 12th [month] in their village mor...   \n",
       "2  November 3rd. Matz Apelt complains about Jacob...   \n",
       "3  Adam Kötter von der Wittege, inasmuch as he hi...   \n",
       "4  Adam Krauss of Einsidtel says on his certain k...   \n",
       "\n",
       "                         DE_to_EN_001_example_prompt  \\\n",
       "0  They appeared on Friday, the 29th, in large nu...   \n",
       "1  It was before twelve years ago in Oberweigsdor...   \n",
       "2  November 3rd. Matthias Apel complains about Ja...   \n",
       "3  Adam Kötter von der Witte, inasmuch as he has ...   \n",
       "4  Adam Krauss of Einsidil says on his word, want...   \n",
       "\n",
       "                         DE_to_EN_002_example_prompt  \\\n",
       "0  1. When they appeared Friday as the 29th in la...   \n",
       "1  It is before 12 o'clock here and more at Oberw...   \n",
       "2  3 November. Matthias Apel complains about Jaco...   \n",
       "3  Adam Kötter from Wittig, because he quarreled ...   \n",
       "4  Adam Krauss of Einsidil says upon his word, wa...   \n",
       "\n",
       "                         DE_to_EN_004_example_prompt  \\\n",
       "0  1. When they appeared Friday as the 29th in la...   \n",
       "1  Before twelve o’clock yesterday at Oberweigsdo...   \n",
       "2  3 November. Matz Apel complains about Jacob Sc...   \n",
       "3  Adam Kötter von d. Wittig, since he quarreled ...   \n",
       "4  Adam Krauss zum Einsidle says upon his word, w...   \n",
       "\n",
       "                         EN_to_DE_000_example_prompt  \\\n",
       "0  Vergangene Freitag den XXIX., kamen sie zu ein...   \n",
       "1  Vor zwölff Jahren und mehr ist zu Oberweigsdor...   \n",
       "2  Dritte Novēmberis. Matz Apel klagt wider Jakob...   \n",
       "3  Adam Kötter von dem Witige, ob er mit Worten u...   \n",
       "4  Adam Kraus zu Einsidl bekennt auf sein Gewisse...   \n",
       "\n",
       "                         EN_to_DE_001_example_prompt  \\\n",
       "0  Ersterlich zu wissen ist es so gewesen; letzte...   \n",
       "1  Vor zwölff Jahren und mehr zu Obernwegsdorff i...   \n",
       "2  Den 3.Novembres beschwert sich Matts Apelth wi...   \n",
       "3  Adame Kötter aus dem Witige, weil er mit Ursel...   \n",
       "4  Adams Kraus zu Einsidil wider sein Gewissen er...   \n",
       "\n",
       "                         EN_to_DE_002_example_prompt  \\\n",
       "0  1. Letzten Freitagm dem 29., kamen sie zahlrei...   \n",
       "1  Vor zwölff jahren und mehrn im oberweiggsdorff...   \n",
       "2  Den 3.Novembres. Matts Apel klagt wider Jakob ...   \n",
       "3  Adam Kötter vom Witige, denn er im Wort und wi...   \n",
       "4  Adam Kraus in Ensiedl erklärt auf sein Gewisse...   \n",
       "\n",
       "                         EN_to_DE_004_example_prompt  \n",
       "0  1. Letzten Freitagm, dem 29., kamen sie zahlre...  \n",
       "1  Vor 12 Jaren und mehr ist obir weiggsdorff pau...  \n",
       "2  3.Novembres. Matthäus Apel klagte wider Jakob ...  \n",
       "3  Adam Kötter vom wittigen, demnach er mit Worte...  \n",
       "4  Adam krauß in einsiedal erklärt auff sei Gewis...  "
      ]
     },
     "execution_count": 17,
     "metadata": {},
     "output_type": "execute_result"
    }
   ],
   "source": [
    "# Check merged_df\n",
    "merged_df.head()"
   ]
  },
  {
   "cell_type": "markdown",
   "metadata": {},
   "source": [
    "# Save the Merged DataFrame"
   ]
  },
  {
   "cell_type": "code",
   "execution_count": 18,
   "metadata": {},
   "outputs": [
    {
     "name": "stdout",
     "output_type": "stream",
     "text": [
      "\n",
      "Merged DataFrame saved to /cs/student/msc/csml/2023/ngriessh/historical_mt/results/alphabet/gemma-2-9b-it-bnb-4bit/merged_results.json\n",
      "Done!\n"
     ]
    }
   ],
   "source": [
    "# Save the merged DataFrame to a JSON file\n",
    "output_file = os.path.join(results_dir, \"merged_results.json\")\n",
    "merged_df.to_json(output_file, orient='records', lines=True)\n",
    "\n",
    "print(f\"\\nMerged DataFrame saved to {output_file}\")\n",
    "print('Done!')"
   ]
  },
  {
   "cell_type": "markdown",
   "metadata": {},
   "source": [
    "# Summary of Paths Used"
   ]
  },
  {
   "cell_type": "code",
   "execution_count": 19,
   "metadata": {},
   "outputs": [
    {
     "name": "stdout",
     "output_type": "stream",
     "text": [
      "\n",
      "Summary of Paths Used:\n",
      "Base path: /cs/student/msc/csml/2023/ngriessh/historical_mt\n",
      "Results directory: /cs/student/msc/csml/2023/ngriessh/historical_mt/results/alphabet/gemma-2-9b-it-bnb-4bit\n",
      "Output file: /cs/student/msc/csml/2023/ngriessh/historical_mt/results/alphabet/gemma-2-9b-it-bnb-4bit/merged_results.json\n",
      "\n",
      "Data directories and file checks:\n",
      "File: /cs/student/msc/csml/2023/ngriessh/historical_mt/results/alphabet/gemma-2-9b-it-bnb-4bit/icl/DE_to_EN/DE_to_EN_000_example_prompt.json - Exists: True\n",
      "File: /cs/student/msc/csml/2023/ngriessh/historical_mt/results/alphabet/gemma-2-9b-it-bnb-4bit/icl/DE_to_EN/DE_to_EN_001_example_prompt.json - Exists: True\n",
      "File: /cs/student/msc/csml/2023/ngriessh/historical_mt/results/alphabet/gemma-2-9b-it-bnb-4bit/icl/DE_to_EN/DE_to_EN_002_example_prompt.json - Exists: True\n",
      "File: /cs/student/msc/csml/2023/ngriessh/historical_mt/results/alphabet/gemma-2-9b-it-bnb-4bit/icl/DE_to_EN/DE_to_EN_004_example_prompt.json - Exists: True\n",
      "File: /cs/student/msc/csml/2023/ngriessh/historical_mt/results/alphabet/gemma-2-9b-it-bnb-4bit/finetuning/DE_to_EN/DE_to_EN_finetuning.json - Exists: True\n",
      "File: /cs/student/msc/csml/2023/ngriessh/historical_mt/results/alphabet/gemma-2-9b-it-bnb-4bit/icl/EN_to_DE/EN_to_DE_000_example_prompt.json - Exists: True\n",
      "File: /cs/student/msc/csml/2023/ngriessh/historical_mt/results/alphabet/gemma-2-9b-it-bnb-4bit/icl/EN_to_DE/EN_to_DE_001_example_prompt.json - Exists: True\n",
      "File: /cs/student/msc/csml/2023/ngriessh/historical_mt/results/alphabet/gemma-2-9b-it-bnb-4bit/icl/EN_to_DE/EN_to_DE_002_example_prompt.json - Exists: True\n",
      "File: /cs/student/msc/csml/2023/ngriessh/historical_mt/results/alphabet/gemma-2-9b-it-bnb-4bit/icl/EN_to_DE/EN_to_DE_004_example_prompt.json - Exists: True\n",
      "File: /cs/student/msc/csml/2023/ngriessh/historical_mt/results/alphabet/gemma-2-9b-it-bnb-4bit/finetuning/EN_to_DE/EN_to_DE_finetuning.json - Exists: True\n"
     ]
    }
   ],
   "source": [
    "print(\"\\nSummary of Paths Used:\")\n",
    "print(f\"Base path: {base_path}\")\n",
    "print(f\"Results directory: {results_dir}\")\n",
    "print(f\"Output file: {output_file}\")\n",
    "\n",
    "print(\"\\nData directories and file checks:\")\n",
    "for direction in ['DE_to_EN', 'EN_to_DE']:\n",
    "    for shot in shots_list + ['finetuning']:\n",
    "        base_folder = 'finetuning' if shot == 'finetuning' else 'icl'\n",
    "        folder_path = os.path.join(results_dir, base_folder, direction)\n",
    "        if isinstance(shot, int):\n",
    "            formatted_shot = f\"{shot:03}\"\n",
    "            file_name = f\"{direction}_{formatted_shot}_example_prompt.json\"\n",
    "        elif shot == 'finetuning':\n",
    "            file_name = f\"{direction}_finetuning.json\"\n",
    "        else:\n",
    "            continue  # Skip invalid shot values\n",
    "        file_path = os.path.join(folder_path, file_name)\n",
    "        file_exists = os.path.exists(file_path)\n",
    "        print(f\"File: {file_path} - Exists: {file_exists}\")"
   ]
  },
  {
   "cell_type": "code",
   "execution_count": null,
   "metadata": {},
   "outputs": [],
   "source": []
  },
  {
   "cell_type": "code",
   "execution_count": null,
   "metadata": {},
   "outputs": [],
   "source": []
  },
  {
   "cell_type": "code",
   "execution_count": null,
   "metadata": {},
   "outputs": [],
   "source": []
  },
  {
   "cell_type": "code",
   "execution_count": null,
   "metadata": {},
   "outputs": [],
   "source": []
  }
 ],
 "metadata": {
  "kernelspec": {
   "display_name": "Python 3",
   "language": "python",
   "name": "python3"
  },
  "language_info": {
   "codemirror_mode": {
    "name": "ipython",
    "version": 3
   },
   "file_extension": ".py",
   "mimetype": "text/x-python",
   "name": "python",
   "nbconvert_exporter": "python",
   "pygments_lexer": "ipython3",
   "version": "3.9.19"
  }
 },
 "nbformat": 4,
 "nbformat_minor": 2
}
