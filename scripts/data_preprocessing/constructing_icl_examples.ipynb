{
 "cells": [
  {
   "cell_type": "markdown",
   "metadata": {},
   "source": [
    "# Import libraries"
   ]
  },
  {
   "cell_type": "code",
   "execution_count": 1,
   "metadata": {},
   "outputs": [],
   "source": [
    "import pandas as pd\n",
    "import os"
   ]
  },
  {
   "cell_type": "markdown",
   "metadata": {},
   "source": [
    "# Load training dataset"
   ]
  },
  {
   "cell_type": "code",
   "execution_count": 6,
   "metadata": {},
   "outputs": [
    {
     "name": "stdout",
     "output_type": "stream",
     "text": [
      "/cs/student/msc/csml/2023/ngriessh/historical_mt/data/datasets/train_dataset.xlsx\n",
      "/cs/student/msc/csml/2023/ngriessh/historical_mt/data/icl_examples\n"
     ]
    }
   ],
   "source": [
    "# Base path for the historical_mt directory (relative to the current working directory)\n",
    "base_path = os.path.abspath(os.path.join(os.getcwd(), '..', '..'))\n",
    "\n",
    "# Path to dataset directory\n",
    "dataset_path = os.path.join(base_path, 'data', 'datasets')\n",
    "\n",
    "# Path to dataset\n",
    "train_dataset_path = os.path.join(dataset_path, \"train_dataset.xlsx\")\n",
    "\n",
    "# Path to icl examples\n",
    "translation_direction = \"EN_to_DE\" # \"DE_to_EN\" or \"EN_to_DE\"\n",
    "icl_examples_path = os.path.join(base_path, 'data', 'icl_examples')\n",
    "\n",
    "# Print paths\n",
    "print(train_dataset_path)\n",
    "print(icl_examples_path)"
   ]
  },
  {
   "cell_type": "markdown",
   "metadata": {},
   "source": [
    "# Load excel file"
   ]
  },
  {
   "cell_type": "code",
   "execution_count": 7,
   "metadata": {},
   "outputs": [
    {
     "data": {
      "text/html": [
       "<div>\n",
       "<style scoped>\n",
       "    .dataframe tbody tr th:only-of-type {\n",
       "        vertical-align: middle;\n",
       "    }\n",
       "\n",
       "    .dataframe tbody tr th {\n",
       "        vertical-align: top;\n",
       "    }\n",
       "\n",
       "    .dataframe thead th {\n",
       "        text-align: right;\n",
       "    }\n",
       "</style>\n",
       "<table border=\"1\" class=\"dataframe\">\n",
       "  <thead>\n",
       "    <tr style=\"text-align: right;\">\n",
       "      <th></th>\n",
       "      <th>Early Modern Bohemian German</th>\n",
       "      <th>English</th>\n",
       "    </tr>\n",
       "  </thead>\n",
       "  <tbody>\n",
       "    <tr>\n",
       "      <th>0</th>\n",
       "      <td>Der Schulteß Zu Mildenaw, hatt Hanß Nichten vn...</td>\n",
       "      <td>The village headman of Mildenau names Hans Nic...</td>\n",
       "    </tr>\n",
       "    <tr>\n",
       "      <th>1</th>\n",
       "      <td>Jacob Seidel von hainerßdorff, demnach er Mich...</td>\n",
       "      <td>Jacob Seidel from Hainersdorf, since he attack...</td>\n",
       "    </tr>\n",
       "    <tr>\n",
       "      <th>2</th>\n",
       "      <td>Auf Grundtmans Klage antwortett der Scholtz, d...</td>\n",
       "      <td>To Grundtman's complaint the village headman a...</td>\n",
       "    </tr>\n",
       "    <tr>\n",
       "      <th>3</th>\n",
       "      <td>Hans Nicht Von Mildenaw, demnach er mit seiner...</td>\n",
       "      <td>Hans Nicht von Mildenau, since he got into gre...</td>\n",
       "    </tr>\n",
       "    <tr>\n",
       "      <th>4</th>\n",
       "      <td>Richter Sagett Vnd clagett, dz Joachim Jacobiz...</td>\n",
       "      <td>The magistrate complains that Joachim Jacobiz ...</td>\n",
       "    </tr>\n",
       "  </tbody>\n",
       "</table>\n",
       "</div>"
      ],
      "text/plain": [
       "                        Early Modern Bohemian German  \\\n",
       "0  Der Schulteß Zu Mildenaw, hatt Hanß Nichten vn...   \n",
       "1  Jacob Seidel von hainerßdorff, demnach er Mich...   \n",
       "2  Auf Grundtmans Klage antwortett der Scholtz, d...   \n",
       "3  Hans Nicht Von Mildenaw, demnach er mit seiner...   \n",
       "4  Richter Sagett Vnd clagett, dz Joachim Jacobiz...   \n",
       "\n",
       "                                             English  \n",
       "0  The village headman of Mildenau names Hans Nic...  \n",
       "1  Jacob Seidel from Hainersdorf, since he attack...  \n",
       "2  To Grundtman's complaint the village headman a...  \n",
       "3  Hans Nicht von Mildenau, since he got into gre...  \n",
       "4  The magistrate complains that Joachim Jacobiz ...  "
      ]
     },
     "execution_count": 7,
     "metadata": {},
     "output_type": "execute_result"
    }
   ],
   "source": [
    "# Load excel file\n",
    "train_dataset = pd.read_excel(train_dataset_path)\n",
    "train_dataset.head()"
   ]
  },
  {
   "cell_type": "markdown",
   "metadata": {},
   "source": [
    "# Function to create in-context learning examples"
   ]
  },
  {
   "cell_type": "code",
   "execution_count": 8,
   "metadata": {},
   "outputs": [],
   "source": [
    "# Define the zero-example prompt with just an empty line.\n",
    "def create_base_prompt():\n",
    "    return \"\\n\"  # Single empty line as the base prompt\n",
    "\n",
    "# Write the generated prompt to a file for 0, 1, 2, 4, 8, 16, ..., 128 examples.\n",
    "def save_prompts_for_exponential_examples(train_dataset):\n",
    "\n",
    "    # Create few-shot prompts\n",
    "    def create_few_shot_prompt(num_examples=0):\n",
    "        base_prompt = create_base_prompt()\n",
    "        \n",
    "        # Skip the header if num_examples is 0\n",
    "        if num_examples == 0:\n",
    "            examples_header = \"\"\n",
    "        elif num_examples == 1:\n",
    "            examples_header = \"### Example Translation:\\n\\n\"\n",
    "        else:\n",
    "            examples_header = \"### Example Translations:\\n\\n\"\n",
    "        \n",
    "        # Template for the examples with the required line breaks\n",
    "        if translation_direction == \"DE_to_EN\":\n",
    "            example_prompt = \"\"\"Example {example_num}\\nEarly Modern Bohemian German:\\n{Old_German}\\n\\nTranslation to English:\\n{Old_English}\\n\\n\\n\"\"\"\n",
    "        else:\n",
    "            example_prompt = \"\"\"Example {example_num}\\nEnglish:\\n{Old_English}\\n\\nTranslation to Early Modern Bohemian German:\\n{Old_German}\\n\\n\\n\"\"\"\n",
    "\n",
    "        # Extract examples from the train_dataset\n",
    "        examples = [\n",
    "            {\"Old_German\": row['Early Modern Bohemian German'], \"Old_English\": row['English']}\n",
    "            for _, row in train_dataset.iterrows()\n",
    "        ]\n",
    "\n",
    "        # Format examples\n",
    "        formatted_examples = \"\"\n",
    "        for i in range(min(num_examples, len(examples))):\n",
    "            formatted_examples += example_prompt.format(\n",
    "                Old_German=examples[i][\"Old_German\"], \n",
    "                Old_English=examples[i][\"Old_English\"], \n",
    "                example_num=i+1\n",
    "            )\n",
    "        \n",
    "        # Combine the base prompt (empty line), the header, and the formatted examples\n",
    "        few_shot_prompt = base_prompt + examples_header + formatted_examples.strip() + \"\\n\" if num_examples > 0 else \"\"\n",
    "        \n",
    "        return few_shot_prompt\n",
    "\n",
    "    # Save prompts for 0, 1, 2, 4, 8, 16, ..., 128 examples.\n",
    "    example_counts = [0] + [2**i for i in range(8)]  # 0, 1, 2, 4, ..., 128\n",
    "    \n",
    "    for num_examples in example_counts:\n",
    "        prompt = create_few_shot_prompt(num_examples=num_examples)\n",
    "        # Format the num_examples with 3 digits, e.g., 000, 001, 002...\n",
    "        formatted_num_examples = f\"{num_examples:03}\"\n",
    "        # Save to the provided ICL examples path\n",
    "        save_file_path = f\"{icl_examples_path}/{translation_direction}/{formatted_num_examples}_example_prompt.txt\"\n",
    "\n",
    "        with open(save_file_path, 'w') as f:\n",
    "            f.write(prompt)\n",
    "        print(f\"Saved prompt with {num_examples} examples to {save_file_path}\")"
   ]
  },
  {
   "cell_type": "markdown",
   "metadata": {},
   "source": [
    "# Construct ICL examples"
   ]
  },
  {
   "cell_type": "code",
   "execution_count": 9,
   "metadata": {},
   "outputs": [
    {
     "name": "stdout",
     "output_type": "stream",
     "text": [
      "Constructing ICL examples for EN_to_DE translation direction\n",
      "Saved prompt with 0 examples to /cs/student/msc/csml/2023/ngriessh/historical_mt/data/icl_examples/EN_to_DE/000_example_prompt.txt\n",
      "Saved prompt with 1 examples to /cs/student/msc/csml/2023/ngriessh/historical_mt/data/icl_examples/EN_to_DE/001_example_prompt.txt\n",
      "Saved prompt with 2 examples to /cs/student/msc/csml/2023/ngriessh/historical_mt/data/icl_examples/EN_to_DE/002_example_prompt.txt\n",
      "Saved prompt with 4 examples to /cs/student/msc/csml/2023/ngriessh/historical_mt/data/icl_examples/EN_to_DE/004_example_prompt.txt\n",
      "Saved prompt with 8 examples to /cs/student/msc/csml/2023/ngriessh/historical_mt/data/icl_examples/EN_to_DE/008_example_prompt.txt\n",
      "Saved prompt with 16 examples to /cs/student/msc/csml/2023/ngriessh/historical_mt/data/icl_examples/EN_to_DE/016_example_prompt.txt\n",
      "Saved prompt with 32 examples to /cs/student/msc/csml/2023/ngriessh/historical_mt/data/icl_examples/EN_to_DE/032_example_prompt.txt\n",
      "Saved prompt with 64 examples to /cs/student/msc/csml/2023/ngriessh/historical_mt/data/icl_examples/EN_to_DE/064_example_prompt.txt\n",
      "Saved prompt with 128 examples to /cs/student/msc/csml/2023/ngriessh/historical_mt/data/icl_examples/EN_to_DE/128_example_prompt.txt\n"
     ]
    }
   ],
   "source": [
    "# Construct ICL examples for translation direction\n",
    "print(f\"Constructing ICL examples for {translation_direction} translation direction\")\n",
    "save_prompts_for_exponential_examples(train_dataset)"
   ]
  },
  {
   "cell_type": "code",
   "execution_count": null,
   "metadata": {},
   "outputs": [],
   "source": []
  },
  {
   "cell_type": "code",
   "execution_count": null,
   "metadata": {},
   "outputs": [],
   "source": []
  },
  {
   "cell_type": "code",
   "execution_count": null,
   "metadata": {},
   "outputs": [],
   "source": []
  }
 ],
 "metadata": {
  "kernelspec": {
   "display_name": "Python 3",
   "language": "python",
   "name": "python3"
  },
  "language_info": {
   "codemirror_mode": {
    "name": "ipython",
    "version": 3
   },
   "file_extension": ".py",
   "mimetype": "text/x-python",
   "name": "python",
   "nbconvert_exporter": "python",
   "pygments_lexer": "ipython3",
   "version": "3.9.19"
  }
 },
 "nbformat": 4,
 "nbformat_minor": 2
}
