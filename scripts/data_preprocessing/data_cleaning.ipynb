{
 "cells": [
  {
   "cell_type": "markdown",
   "metadata": {},
   "source": [
    "# Import libraries"
   ]
  },
  {
   "cell_type": "code",
   "execution_count": 1,
   "metadata": {},
   "outputs": [
    {
     "name": "stdout",
     "output_type": "stream",
     "text": [
      "🦥 Unsloth: Will patch your computer to enable 2x faster free finetuning.\n"
     ]
    }
   ],
   "source": [
    "import pandas as pd\n",
    "import os\n",
    "import re\n",
    "import matplotlib.pyplot as plt\n",
    "from unsloth import FastLanguageModel"
   ]
  },
  {
   "cell_type": "markdown",
   "metadata": {},
   "source": [
    "# Set paths and variables"
   ]
  },
  {
   "cell_type": "code",
   "execution_count": 2,
   "metadata": {},
   "outputs": [],
   "source": [
    "# Model name to load its tokenizer\n",
    "unsloth_model_name = \"unsloth/Meta-Llama-3.1-8B-Instruct-bnb-4bit\"\n",
    "\n",
    "# Base path for the historical_mt directory\n",
    "base_path = os.path.abspath(os.path.join(os.getcwd(), '..', '..'))\n",
    "\n",
    "# Path to the dataset\n",
    "file_path = os.path.join(base_path, \"data\", \"datasets\", \"summary_stats.xlsx\")\n",
    "\n",
    "# Path to save the cleaned dataset\n",
    "save_path = os.path.join(base_path, \"data\", \"datasets\", \"cleaned_historical_dataset.xlsx\")\n",
    "\n",
    "# Exclude translation pairs with missing parts '*'\n",
    "exclude_missing = True\n",
    "\n",
    "# Exclude translation pairs with more than threshold number of tokens\n",
    "max_tokens = 2000\n",
    "exclude_outliers = True"
   ]
  },
  {
   "cell_type": "code",
   "execution_count": 3,
   "metadata": {},
   "outputs": [
    {
     "name": "stdout",
     "output_type": "stream",
     "text": [
      "/cs/student/msc/csml/2023/ngriessh/historical_mt\n",
      "/cs/student/msc/csml/2023/ngriessh/historical_mt/data/datasets/summary_stats.xlsx\n",
      "/cs/student/msc/csml/2023/ngriessh/historical_mt/data/datasets/cleaned_historical_dataset.xlsx\n"
     ]
    }
   ],
   "source": [
    "# Print paths to check\n",
    "print(base_path)\n",
    "print(file_path)\n",
    "print(save_path)"
   ]
  },
  {
   "cell_type": "markdown",
   "metadata": {},
   "source": [
    "# Load dataset"
   ]
  },
  {
   "cell_type": "code",
   "execution_count": 4,
   "metadata": {},
   "outputs": [
    {
     "data": {
      "text/html": [
       "<div>\n",
       "<style scoped>\n",
       "    .dataframe tbody tr th:only-of-type {\n",
       "        vertical-align: middle;\n",
       "    }\n",
       "\n",
       "    .dataframe tbody tr th {\n",
       "        vertical-align: top;\n",
       "    }\n",
       "\n",
       "    .dataframe thead th {\n",
       "        text-align: right;\n",
       "    }\n",
       "</style>\n",
       "<table border=\"1\" class=\"dataframe\">\n",
       "  <thead>\n",
       "    <tr style=\"text-align: right;\">\n",
       "      <th></th>\n",
       "      <th>German Text</th>\n",
       "      <th>English Text</th>\n",
       "    </tr>\n",
       "  </thead>\n",
       "  <tbody>\n",
       "    <tr>\n",
       "      <th>0</th>\n",
       "      <td>Caspar Krause von dittersbach: Demnach er von ...</td>\n",
       "      <td>Caspar Krause from dittersbach: Since he was a...</td>\n",
       "    </tr>\n",
       "    <tr>\n",
       "      <th>1</th>\n",
       "      <td>Christoff weber von Bullendorf. Demnach er deu...</td>\n",
       "      <td>Christoff weber from Bullendorf. Since he was ...</td>\n",
       "    </tr>\n",
       "    <tr>\n",
       "      <th>2</th>\n",
       "      <td>Schwert hat zuegesagt das was er dieß mahl ver...</td>\n",
       "      <td>Schwert promises that he will not commit the o...</td>\n",
       "    </tr>\n",
       "    <tr>\n",
       "      <th>3</th>\n",
       "      <td>Jacob Nünner der Müllner. Demnach den Wolgebor...</td>\n",
       "      <td>Jacob Nünner der Müllner. Since Jacob Nünner, ...</td>\n",
       "    </tr>\n",
       "    <tr>\n",
       "      <th>4</th>\n",
       "      <td>\\nderer von Schwantz vnterthanen Zum Neundorff...</td>\n",
       "      <td>\\nThe sers of the von Schwantz in Neundorff. S...</td>\n",
       "    </tr>\n",
       "  </tbody>\n",
       "</table>\n",
       "</div>"
      ],
      "text/plain": [
       "                                         German Text  \\\n",
       "0  Caspar Krause von dittersbach: Demnach er von ...   \n",
       "1  Christoff weber von Bullendorf. Demnach er deu...   \n",
       "2  Schwert hat zuegesagt das was er dieß mahl ver...   \n",
       "3  Jacob Nünner der Müllner. Demnach den Wolgebor...   \n",
       "4  \\nderer von Schwantz vnterthanen Zum Neundorff...   \n",
       "\n",
       "                                        English Text  \n",
       "0  Caspar Krause from dittersbach: Since he was a...  \n",
       "1  Christoff weber from Bullendorf. Since he was ...  \n",
       "2  Schwert promises that he will not commit the o...  \n",
       "3  Jacob Nünner der Müllner. Since Jacob Nünner, ...  \n",
       "4  \\nThe sers of the von Schwantz in Neundorff. S...  "
      ]
     },
     "execution_count": 4,
     "metadata": {},
     "output_type": "execute_result"
    }
   ],
   "source": [
    "# Load excel file\n",
    "df = pd.read_excel(file_path)\n",
    "df.head()"
   ]
  },
  {
   "cell_type": "code",
   "execution_count": 5,
   "metadata": {},
   "outputs": [
    {
     "data": {
      "text/plain": [
       "(3797, 2)"
      ]
     },
     "execution_count": 5,
     "metadata": {},
     "output_type": "execute_result"
    }
   ],
   "source": [
    "# Check shape of df\n",
    "df.shape"
   ]
  },
  {
   "cell_type": "markdown",
   "metadata": {},
   "source": [
    "# Load tokenizer"
   ]
  },
  {
   "cell_type": "code",
   "execution_count": 6,
   "metadata": {},
   "outputs": [
    {
     "name": "stdout",
     "output_type": "stream",
     "text": [
      "==((====))==  Unsloth 2024.9.post4: Fast Llama patching. Transformers = 4.44.2.\n",
      "   \\\\   /|    GPU: NVIDIA GeForce RTX 3090 Ti. Max memory: 23.575 GB. Platform = Linux.\n",
      "O^O/ \\_/ \\    Pytorch: 2.4.1+cu121. CUDA = 8.6. CUDA Toolkit = 12.1.\n",
      "\\        /    Bfloat16 = TRUE. FA [Xformers = 0.0.28.post1. FA2 = False]\n",
      " \"-____-\"     Free Apache license: http://github.com/unslothai/unsloth\n"
     ]
    },
    {
     "data": {
      "application/vnd.jupyter.widget-view+json": {
       "model_id": "862cfb0b60d04b03bce95c6500c31c80",
       "version_major": 2,
       "version_minor": 0
      },
      "text/plain": [
       "config.json:   0%|          | 0.00/1.45k [00:00<?, ?B/s]"
      ]
     },
     "metadata": {},
     "output_type": "display_data"
    },
    {
     "data": {
      "application/vnd.jupyter.widget-view+json": {
       "model_id": "7c8100165d1a496290cac537f4963a96",
       "version_major": 2,
       "version_minor": 0
      },
      "text/plain": [
       "config.json:   0%|          | 0.00/1.45k [00:00<?, ?B/s]"
      ]
     },
     "metadata": {},
     "output_type": "display_data"
    },
    {
     "data": {
      "application/vnd.jupyter.widget-view+json": {
       "model_id": "a2f19c383a9c4d74912c2ce713443c34",
       "version_major": 2,
       "version_minor": 0
      },
      "text/plain": [
       "model.safetensors:   0%|          | 0.00/5.70G [00:00<?, ?B/s]"
      ]
     },
     "metadata": {},
     "output_type": "display_data"
    },
    {
     "data": {
      "application/vnd.jupyter.widget-view+json": {
       "model_id": "32f90f30499d4cde85474cec8dbd8797",
       "version_major": 2,
       "version_minor": 0
      },
      "text/plain": [
       "generation_config.json:   0%|          | 0.00/234 [00:00<?, ?B/s]"
      ]
     },
     "metadata": {},
     "output_type": "display_data"
    },
    {
     "data": {
      "application/vnd.jupyter.widget-view+json": {
       "model_id": "761edf93354849918d5f84d751791d1b",
       "version_major": 2,
       "version_minor": 0
      },
      "text/plain": [
       "tokenizer_config.json:   0%|          | 0.00/55.4k [00:00<?, ?B/s]"
      ]
     },
     "metadata": {},
     "output_type": "display_data"
    },
    {
     "data": {
      "application/vnd.jupyter.widget-view+json": {
       "model_id": "446bd986e9b741b88c9fb45bdc02e493",
       "version_major": 2,
       "version_minor": 0
      },
      "text/plain": [
       "tokenizer.json:   0%|          | 0.00/9.09M [00:00<?, ?B/s]"
      ]
     },
     "metadata": {},
     "output_type": "display_data"
    },
    {
     "data": {
      "application/vnd.jupyter.widget-view+json": {
       "model_id": "485449bcaafd419bb941f7b88c54e21e",
       "version_major": 2,
       "version_minor": 0
      },
      "text/plain": [
       "special_tokens_map.json:   0%|          | 0.00/340 [00:00<?, ?B/s]"
      ]
     },
     "metadata": {},
     "output_type": "display_data"
    }
   ],
   "source": [
    "max_seq_length = 128000\n",
    "dtype = None\n",
    "load_in_4bit = True\n",
    "\n",
    "# Load model and tokenizer\n",
    "_, tokenizer = FastLanguageModel.from_pretrained(\n",
    "    model_name=unsloth_model_name,\n",
    "    max_seq_length=max_seq_length,\n",
    "    dtype=dtype,\n",
    "    load_in_4bit=load_in_4bit,\n",
    "    force_download=True,\n",
    ")"
   ]
  },
  {
   "cell_type": "markdown",
   "metadata": {},
   "source": [
    "# Tokenizer distribution across samples"
   ]
  },
  {
   "cell_type": "code",
   "execution_count": 7,
   "metadata": {},
   "outputs": [],
   "source": [
    "# Function to count tokens\n",
    "def count_tokens(text):\n",
    "    return len(tokenizer.tokenize(text))\n",
    "\n",
    "# Count tokens for German and English text\n",
    "df['german_token_count'] = df['German Text'].apply(count_tokens)\n",
    "df['english_token_count'] = df['English Text'].apply(count_tokens)\n",
    "df['total_token_count'] = df['german_token_count'] + df['english_token_count']"
   ]
  },
  {
   "cell_type": "code",
   "execution_count": 8,
   "metadata": {},
   "outputs": [
    {
     "data": {
      "text/html": [
       "<div>\n",
       "<style scoped>\n",
       "    .dataframe tbody tr th:only-of-type {\n",
       "        vertical-align: middle;\n",
       "    }\n",
       "\n",
       "    .dataframe tbody tr th {\n",
       "        vertical-align: top;\n",
       "    }\n",
       "\n",
       "    .dataframe thead th {\n",
       "        text-align: right;\n",
       "    }\n",
       "</style>\n",
       "<table border=\"1\" class=\"dataframe\">\n",
       "  <thead>\n",
       "    <tr style=\"text-align: right;\">\n",
       "      <th></th>\n",
       "      <th>German Text</th>\n",
       "      <th>English Text</th>\n",
       "      <th>german_token_count</th>\n",
       "      <th>english_token_count</th>\n",
       "      <th>total_token_count</th>\n",
       "    </tr>\n",
       "  </thead>\n",
       "  <tbody>\n",
       "    <tr>\n",
       "      <th>0</th>\n",
       "      <td>Caspar Krause von dittersbach: Demnach er von ...</td>\n",
       "      <td>Caspar Krause from dittersbach: Since he was a...</td>\n",
       "      <td>295</td>\n",
       "      <td>227</td>\n",
       "      <td>522</td>\n",
       "    </tr>\n",
       "    <tr>\n",
       "      <th>1</th>\n",
       "      <td>Christoff weber von Bullendorf. Demnach er deu...</td>\n",
       "      <td>Christoff weber from Bullendorf. Since he was ...</td>\n",
       "      <td>232</td>\n",
       "      <td>184</td>\n",
       "      <td>416</td>\n",
       "    </tr>\n",
       "    <tr>\n",
       "      <th>2</th>\n",
       "      <td>Schwert hat zuegesagt das was er dieß mahl ver...</td>\n",
       "      <td>Schwert promises that he will not commit the o...</td>\n",
       "      <td>70</td>\n",
       "      <td>50</td>\n",
       "      <td>120</td>\n",
       "    </tr>\n",
       "    <tr>\n",
       "      <th>3</th>\n",
       "      <td>Jacob Nünner der Müllner. Demnach den Wolgebor...</td>\n",
       "      <td>Jacob Nünner der Müllner. Since Jacob Nünner, ...</td>\n",
       "      <td>365</td>\n",
       "      <td>203</td>\n",
       "      <td>568</td>\n",
       "    </tr>\n",
       "    <tr>\n",
       "      <th>4</th>\n",
       "      <td>\\nderer von Schwantz vnterthanen Zum Neundorff...</td>\n",
       "      <td>\\nThe sers of the von Schwantz in Neundorff. S...</td>\n",
       "      <td>207</td>\n",
       "      <td>141</td>\n",
       "      <td>348</td>\n",
       "    </tr>\n",
       "  </tbody>\n",
       "</table>\n",
       "</div>"
      ],
      "text/plain": [
       "                                         German Text  \\\n",
       "0  Caspar Krause von dittersbach: Demnach er von ...   \n",
       "1  Christoff weber von Bullendorf. Demnach er deu...   \n",
       "2  Schwert hat zuegesagt das was er dieß mahl ver...   \n",
       "3  Jacob Nünner der Müllner. Demnach den Wolgebor...   \n",
       "4  \\nderer von Schwantz vnterthanen Zum Neundorff...   \n",
       "\n",
       "                                        English Text  german_token_count  \\\n",
       "0  Caspar Krause from dittersbach: Since he was a...                 295   \n",
       "1  Christoff weber from Bullendorf. Since he was ...                 232   \n",
       "2  Schwert promises that he will not commit the o...                  70   \n",
       "3  Jacob Nünner der Müllner. Since Jacob Nünner, ...                 365   \n",
       "4  \\nThe sers of the von Schwantz in Neundorff. S...                 207   \n",
       "\n",
       "   english_token_count  total_token_count  \n",
       "0                  227                522  \n",
       "1                  184                416  \n",
       "2                   50                120  \n",
       "3                  203                568  \n",
       "4                  141                348  "
      ]
     },
     "execution_count": 8,
     "metadata": {},
     "output_type": "execute_result"
    }
   ],
   "source": [
    "df.head()"
   ]
  },
  {
   "cell_type": "code",
   "execution_count": 9,
   "metadata": {},
   "outputs": [
    {
     "name": "stdout",
     "output_type": "stream",
     "text": [
      "German Token Count Statistics:\n",
      "count    3797.00\n",
      "mean      221.05\n",
      "std       221.43\n",
      "min         8.00\n",
      "25%       104.00\n",
      "50%       164.00\n",
      "75%       270.00\n",
      "max      5058.00\n",
      "Name: german_token_count, dtype: float64\n",
      "Total German Tokens: 839330\n",
      "\n",
      "English Token Count Statistics:\n",
      "count    3797.00\n",
      "mean      153.39\n",
      "std       149.32\n",
      "min         5.00\n",
      "25%        74.00\n",
      "50%       115.00\n",
      "75%       188.00\n",
      "max      3587.00\n",
      "Name: english_token_count, dtype: float64\n",
      "Total English Tokens: 582405\n",
      "\n",
      "Total Token Count Statistics:\n",
      "count    3797.00\n",
      "mean      374.44\n",
      "std       369.90\n",
      "min        13.00\n",
      "25%       178.00\n",
      "50%       280.00\n",
      "75%       457.00\n",
      "max      8645.00\n",
      "Name: total_token_count, dtype: float64\n",
      "Overall Total Tokens: 1421735\n"
     ]
    },
    {
     "data": {
      "image/png": "[encoded data removed]",
      "text/plain": [
       "<Figure size 1200x600 with 1 Axes>"
      ]
     },
     "metadata": {},
     "output_type": "display_data"
    }
   ],
   "source": [
    "# Compute summary statistics\n",
    "german_stats = df['german_token_count'].describe().round(2)\n",
    "english_stats = df['english_token_count'].describe().round(2)\n",
    "total_stats = df['total_token_count'].describe().round(2)\n",
    "\n",
    "# Calculate total token counts\n",
    "german_total = df['german_token_count'].sum()\n",
    "english_total = df['english_token_count'].sum()\n",
    "overall_total = df['total_token_count'].sum()\n",
    "\n",
    "# Print token count statistics\n",
    "print(\"German Token Count Statistics:\")\n",
    "print(german_stats)\n",
    "print(f\"Total German Tokens: {german_total}\")\n",
    "\n",
    "print(\"\\nEnglish Token Count Statistics:\")\n",
    "print(english_stats)\n",
    "print(f\"Total English Tokens: {english_total}\")\n",
    "\n",
    "print(\"\\nTotal Token Count Statistics:\")\n",
    "print(total_stats)\n",
    "print(f\"Overall Total Tokens: {overall_total}\")\n",
    "\n",
    "# Create distribution plot\n",
    "plt.figure(figsize=(12, 6))\n",
    "plt.hist(df['german_token_count'], bins=50, alpha=0.5, label='German', color='blue')\n",
    "plt.hist(df['english_token_count'], bins=50, alpha=0.5, label='English', color='red')\n",
    "plt.title('Distribution of Token Counts')\n",
    "plt.xlabel('Number of Tokens')\n",
    "plt.ylabel('Frequency')\n",
    "plt.legend()\n",
    "plt.show()"
   ]
  },
  {
   "cell_type": "markdown",
   "metadata": {},
   "source": [
    "# Word distribution"
   ]
  },
  {
   "cell_type": "code",
   "execution_count": 10,
   "metadata": {},
   "outputs": [],
   "source": [
    "# Function to count words\n",
    "def count_words(text):\n",
    "    return len(text.split())\n",
    "\n",
    "# Count words for German and English text\n",
    "df['german_word_count'] = df['German Text'].apply(count_words)\n",
    "df['english_word_count'] = df['English Text'].apply(count_words)\n",
    "df['total_word_count'] = df['german_word_count'] + df['english_word_count']"
   ]
  },
  {
   "cell_type": "code",
   "execution_count": 11,
   "metadata": {},
   "outputs": [
    {
     "data": {
      "text/html": [
       "<div>\n",
       "<style scoped>\n",
       "    .dataframe tbody tr th:only-of-type {\n",
       "        vertical-align: middle;\n",
       "    }\n",
       "\n",
       "    .dataframe tbody tr th {\n",
       "        vertical-align: top;\n",
       "    }\n",
       "\n",
       "    .dataframe thead th {\n",
       "        text-align: right;\n",
       "    }\n",
       "</style>\n",
       "<table border=\"1\" class=\"dataframe\">\n",
       "  <thead>\n",
       "    <tr style=\"text-align: right;\">\n",
       "      <th></th>\n",
       "      <th>German Text</th>\n",
       "      <th>English Text</th>\n",
       "      <th>german_token_count</th>\n",
       "      <th>english_token_count</th>\n",
       "      <th>total_token_count</th>\n",
       "      <th>german_word_count</th>\n",
       "      <th>english_word_count</th>\n",
       "      <th>total_word_count</th>\n",
       "    </tr>\n",
       "  </thead>\n",
       "  <tbody>\n",
       "    <tr>\n",
       "      <th>0</th>\n",
       "      <td>Caspar Krause von dittersbach: Demnach er von ...</td>\n",
       "      <td>Caspar Krause from dittersbach: Since he was a...</td>\n",
       "      <td>295</td>\n",
       "      <td>227</td>\n",
       "      <td>522</td>\n",
       "      <td>144</td>\n",
       "      <td>169</td>\n",
       "      <td>313</td>\n",
       "    </tr>\n",
       "    <tr>\n",
       "      <th>1</th>\n",
       "      <td>Christoff weber von Bullendorf. Demnach er deu...</td>\n",
       "      <td>Christoff weber from Bullendorf. Since he was ...</td>\n",
       "      <td>232</td>\n",
       "      <td>184</td>\n",
       "      <td>416</td>\n",
       "      <td>117</td>\n",
       "      <td>142</td>\n",
       "      <td>259</td>\n",
       "    </tr>\n",
       "    <tr>\n",
       "      <th>2</th>\n",
       "      <td>Schwert hat zuegesagt das was er dieß mahl ver...</td>\n",
       "      <td>Schwert promises that he will not commit the o...</td>\n",
       "      <td>70</td>\n",
       "      <td>50</td>\n",
       "      <td>120</td>\n",
       "      <td>40</td>\n",
       "      <td>48</td>\n",
       "      <td>88</td>\n",
       "    </tr>\n",
       "    <tr>\n",
       "      <th>3</th>\n",
       "      <td>Jacob Nünner der Müllner. Demnach den Wolgebor...</td>\n",
       "      <td>Jacob Nünner der Müllner. Since Jacob Nünner, ...</td>\n",
       "      <td>365</td>\n",
       "      <td>203</td>\n",
       "      <td>568</td>\n",
       "      <td>170</td>\n",
       "      <td>141</td>\n",
       "      <td>311</td>\n",
       "    </tr>\n",
       "    <tr>\n",
       "      <th>4</th>\n",
       "      <td>\\nderer von Schwantz vnterthanen Zum Neundorff...</td>\n",
       "      <td>\\nThe sers of the von Schwantz in Neundorff. S...</td>\n",
       "      <td>207</td>\n",
       "      <td>141</td>\n",
       "      <td>348</td>\n",
       "      <td>88</td>\n",
       "      <td>96</td>\n",
       "      <td>184</td>\n",
       "    </tr>\n",
       "  </tbody>\n",
       "</table>\n",
       "</div>"
      ],
      "text/plain": [
       "                                         German Text  \\\n",
       "0  Caspar Krause von dittersbach: Demnach er von ...   \n",
       "1  Christoff weber von Bullendorf. Demnach er deu...   \n",
       "2  Schwert hat zuegesagt das was er dieß mahl ver...   \n",
       "3  Jacob Nünner der Müllner. Demnach den Wolgebor...   \n",
       "4  \\nderer von Schwantz vnterthanen Zum Neundorff...   \n",
       "\n",
       "                                        English Text  german_token_count  \\\n",
       "0  Caspar Krause from dittersbach: Since he was a...                 295   \n",
       "1  Christoff weber from Bullendorf. Since he was ...                 232   \n",
       "2  Schwert promises that he will not commit the o...                  70   \n",
       "3  Jacob Nünner der Müllner. Since Jacob Nünner, ...                 365   \n",
       "4  \\nThe sers of the von Schwantz in Neundorff. S...                 207   \n",
       "\n",
       "   english_token_count  total_token_count  german_word_count  \\\n",
       "0                  227                522                144   \n",
       "1                  184                416                117   \n",
       "2                   50                120                 40   \n",
       "3                  203                568                170   \n",
       "4                  141                348                 88   \n",
       "\n",
       "   english_word_count  total_word_count  \n",
       "0                 169               313  \n",
       "1                 142               259  \n",
       "2                  48                88  \n",
       "3                 141               311  \n",
       "4                  96               184  "
      ]
     },
     "execution_count": 11,
     "metadata": {},
     "output_type": "execute_result"
    }
   ],
   "source": [
    "df.head()"
   ]
  },
  {
   "cell_type": "code",
   "execution_count": 12,
   "metadata": {},
   "outputs": [
    {
     "name": "stdout",
     "output_type": "stream",
     "text": [
      "German Word Count Statistics:\n",
      "count    3797.00\n",
      "mean      102.32\n",
      "std       104.68\n",
      "min         2.00\n",
      "25%        47.00\n",
      "50%        77.00\n",
      "75%       125.00\n",
      "max      2532.00\n",
      "Name: german_word_count, dtype: float64\n",
      "Total German Words: 388527\n",
      "\n",
      "English Word Count Statistics:\n",
      "count    3797.00\n",
      "mean      112.59\n",
      "std       114.67\n",
      "min         2.00\n",
      "25%        52.00\n",
      "50%        84.00\n",
      "75%       138.00\n",
      "max      2651.00\n",
      "Name: english_word_count, dtype: float64\n",
      "Total English Words: 427517\n",
      "\n",
      "Total Word Count Statistics:\n",
      "count    3797.00\n",
      "mean      214.92\n",
      "std       219.03\n",
      "min         4.00\n",
      "25%        99.00\n",
      "50%       160.00\n",
      "75%       263.00\n",
      "max      5183.00\n",
      "Name: total_word_count, dtype: float64\n",
      "Overall Total Words: 816044\n"
     ]
    },
    {
     "data": {
      "image/png": "[encoded data removed]",
      "text/plain": [
       "<Figure size 1200x600 with 1 Axes>"
      ]
     },
     "metadata": {},
     "output_type": "display_data"
    }
   ],
   "source": [
    "# Compute summary statistics\n",
    "german_stats = df['german_word_count'].describe().round(2)\n",
    "english_stats = df['english_word_count'].describe().round(2)\n",
    "total_stats = df['total_word_count'].describe().round(2)\n",
    "\n",
    "# Calculate total word counts\n",
    "german_total = df['german_word_count'].sum()\n",
    "english_total = df['english_word_count'].sum()\n",
    "overall_total = df['total_word_count'].sum()\n",
    "\n",
    "# Print word count statistics\n",
    "print(\"German Word Count Statistics:\")\n",
    "print(german_stats)\n",
    "print(f\"Total German Words: {german_total}\")\n",
    "\n",
    "print(\"\\nEnglish Word Count Statistics:\")\n",
    "print(english_stats)\n",
    "print(f\"Total English Words: {english_total}\")\n",
    "\n",
    "print(\"\\nTotal Word Count Statistics:\")\n",
    "print(total_stats)\n",
    "print(f\"Overall Total Words: {overall_total}\")\n",
    "\n",
    "# Create distribution plot\n",
    "plt.figure(figsize=(12, 6))\n",
    "plt.hist(df['german_word_count'], bins=50, alpha=0.5, label='German', color='blue')\n",
    "plt.hist(df['english_word_count'], bins=50, alpha=0.5, label='English', color='red')\n",
    "plt.title('Distribution of Word Counts')\n",
    "plt.xlabel('Number of Words')\n",
    "plt.ylabel('Frequency')\n",
    "plt.legend()\n",
    "plt.show()"
   ]
  },
  {
   "cell_type": "markdown",
   "metadata": {},
   "source": [
    "# Clean text dataset\n",
    "This code removes double whitespaces, wrong punctuation and inconsistent apostrophes."
   ]
  },
  {
   "cell_type": "code",
   "execution_count": 13,
   "metadata": {},
   "outputs": [],
   "source": [
    "# Function to clean text entries\n",
    "def clean_text(text):\n",
    "\n",
    "    # Remove unnecessary double white-spaces\n",
    "    text = re.sub(r'\\s{2,}', ' ', text)\n",
    "\n",
    "    # Remove line breaks\n",
    "    text = re.sub(r'[\\n\\r]+', ' ', text)\n",
    "\n",
    "    # Remove substrings inside square brackets\n",
    "    text = re.sub(r'\\[.*?\\]', '', text)\n",
    "    \n",
    "    # Remove any unmatched [ or ]\n",
    "    text = re.sub(r'[\\[\\]]', '', text)\n",
    "    \n",
    "    # Remove unnecessary spaces before punctuation\n",
    "    text = re.sub(r'\\s+([.,;!?])', r'\\1', text)\n",
    "    \n",
    "    # Fix spacing around apostrophes (replacing ’ with ')\n",
    "    text = re.sub(r'\\s+’\\s+', r\"'\", text)\n",
    "    \n",
    "    # Fix double spaces or unnecessary whitespace\n",
    "    text = re.sub(r'\\s+', ' ', text).strip()\n",
    "    \n",
    "    return text"
   ]
  },
  {
   "cell_type": "code",
   "execution_count": 14,
   "metadata": {},
   "outputs": [],
   "source": [
    "# Clean English Text\n",
    "df['English Text'] = df['English Text'].apply(clean_text)\n",
    "\n",
    "# Clean German Text\n",
    "df['German Text'] = df['German Text'].apply(clean_text)"
   ]
  },
  {
   "cell_type": "markdown",
   "metadata": {},
   "source": [
    "# Count how many entries have *** missing tokens"
   ]
  },
  {
   "cell_type": "code",
   "execution_count": 15,
   "metadata": {},
   "outputs": [
    {
     "name": "stdout",
     "output_type": "stream",
     "text": [
      "Number of translation pairs with at least one '*': 99\n",
      "Percentage of translation pairs with at least one '*': 2.61%\n"
     ]
    }
   ],
   "source": [
    "# Count the number of translation pairs with at least one '*' in either English Text or German Text\n",
    "count_with_star = df[(df['English Text'].str.contains('\\*')) | (df['German Text'].str.contains('\\*'))].shape[0]\n",
    "\n",
    "# Calculate the percentage relative to the total dataset length\n",
    "percentage_with_star = (count_with_star / len(df)) * 100\n",
    "\n",
    "print(f\"Number of translation pairs with at least one '*': {count_with_star}\")\n",
    "print(f\"Percentage of translation pairs with at least one '*': {percentage_with_star:.2f}%\")"
   ]
  },
  {
   "cell_type": "code",
   "execution_count": 16,
   "metadata": {},
   "outputs": [],
   "source": [
    "# Filter the DataFrame to include only rows where at least one '*' is present\n",
    "rows_with_star = df[(df['English Text'].str.contains('\\*')) | (df['German Text'].str.contains('\\*'))]"
   ]
  },
  {
   "cell_type": "code",
   "execution_count": 17,
   "metadata": {},
   "outputs": [
    {
     "data": {
      "text/plain": [
       "'Since he spoke of mayor and community court members in Seidenberg with defamatory words, similarly several times accused the corn-clerk in the manorial court of lying, for which reason he was put in jail, and let out now on petition of the pledges, on condition that he pay the lord his grace 6 Talers within 14 days, pledges are Michel Schafhirt and Bernhardt Bruckner from Seidenberg, 4 Mar 1585'"
      ]
     },
     "execution_count": 17,
     "metadata": {},
     "output_type": "execute_result"
    }
   ],
   "source": [
    "# Check row with *\n",
    "rows_with_star['English Text'].iloc[8]"
   ]
  },
  {
   "cell_type": "code",
   "execution_count": 18,
   "metadata": {},
   "outputs": [],
   "source": [
    "def filter_missing_entries(df, exclude_missing):\n",
    "    \"\"\"\n",
    "    Filters out rows where either 'English Text' or 'German Text' contains a '*',\n",
    "    based on the value of the exclude_missing parameter.\n",
    "    \n",
    "    Parameters:\n",
    "    df (pd.DataFrame): The input DataFrame with translation pairs.\n",
    "    exclude_missing (bool): Whether to exclude rows with '*' in any of the text columns.\n",
    "    \n",
    "    Returns:\n",
    "    pd.DataFrame: The filtered DataFrame.\n",
    "    \"\"\"\n",
    "    if exclude_missing:\n",
    "        # Filter out rows where either column contains a '*'\n",
    "        df_filtered = df[~((df['English Text'].str.contains('\\*')) | (df['German Text'].str.contains('\\*')))]\n",
    "    else:\n",
    "        # If not excluding, return the original DataFrame\n",
    "        df_filtered = df\n",
    "    \n",
    "    return df_filtered"
   ]
  },
  {
   "cell_type": "code",
   "execution_count": 19,
   "metadata": {},
   "outputs": [],
   "source": [
    "# Example usage\n",
    "filtered_df = filter_missing_entries(df, exclude_missing=exclude_missing)"
   ]
  },
  {
   "cell_type": "code",
   "execution_count": 20,
   "metadata": {},
   "outputs": [
    {
     "data": {
      "text/plain": [
       "(3698, 8)"
      ]
     },
     "execution_count": 20,
     "metadata": {},
     "output_type": "execute_result"
    }
   ],
   "source": [
    "# Check shape of filtered DataFrame\n",
    "filtered_df.shape"
   ]
  },
  {
   "cell_type": "markdown",
   "metadata": {},
   "source": [
    "# Exclude outliers with too many tokens"
   ]
  },
  {
   "cell_type": "code",
   "execution_count": 21,
   "metadata": {},
   "outputs": [
    {
     "name": "stdout",
     "output_type": "stream",
     "text": [
      "Number of entries with too many tokens: 6\n",
      "Percentage of total dataset: 0.16%\n"
     ]
    }
   ],
   "source": [
    "# Number of entries that meet the filtering condition\n",
    "filtered_count = df[(df['german_token_count'] <= max_tokens) & (df['english_token_count'] <= max_tokens)].shape[0] #token count or word count?\n",
    "\n",
    "# Total number of entries in the dataset\n",
    "total_count = df.shape[0]\n",
    "\n",
    "# Calculate the percentage\n",
    "percentage = (filtered_count / total_count) * 100\n",
    "\n",
    "print(f\"Number of entries with too many tokens: {total_count - filtered_count}\")\n",
    "print(f\"Percentage of total dataset: {100 - percentage:.2f}%\")"
   ]
  },
  {
   "cell_type": "code",
   "execution_count": 22,
   "metadata": {},
   "outputs": [],
   "source": [
    "def filter_exclude_outliers(df, exclude_outliers, max_tokens):\n",
    "    \"\"\"\n",
    "    Filters out rows where either 'german_word_count' or 'english_word_count' exceeds max_tokens,\n",
    "    based on the value of the exclude_outliers parameter.\n",
    "\n",
    "    Parameters:\n",
    "    df (pd.DataFrame): The input DataFrame with translation pairs.\n",
    "    exclude_outliers (bool): Whether to exclude rows where word counts exceed max_tokens.\n",
    "    max_tokens (int): The maximum number of tokens allowed in either column before exclusion.\n",
    "\n",
    "    Returns:\n",
    "    pd.DataFrame: The filtered DataFrame.\n",
    "    \"\"\"\n",
    "    if exclude_outliers:\n",
    "        # Filter out rows where word count exceeds the maximum token limit\n",
    "        filtered_df = df[(df['german_word_count'] <= max_tokens) & (df['english_word_count'] <= max_tokens)]\n",
    "    else:\n",
    "        # If not excluding outliers, return the original DataFrame\n",
    "        filtered_df = df\n",
    "    \n",
    "    return filtered_df"
   ]
  },
  {
   "cell_type": "code",
   "execution_count": 23,
   "metadata": {},
   "outputs": [],
   "source": [
    "filtered_df = filter_exclude_outliers(filtered_df, exclude_outliers, max_tokens)"
   ]
  },
  {
   "cell_type": "code",
   "execution_count": 24,
   "metadata": {},
   "outputs": [
    {
     "data": {
      "text/plain": [
       "(3698, 8)"
      ]
     },
     "execution_count": 24,
     "metadata": {},
     "output_type": "execute_result"
    }
   ],
   "source": [
    "filtered_df.shape"
   ]
  },
  {
   "cell_type": "markdown",
   "metadata": {},
   "source": [
    "# Calculate average word difference between translation pairs"
   ]
  },
  {
   "cell_type": "code",
   "execution_count": 25,
   "metadata": {},
   "outputs": [
    {
     "data": {
      "text/html": [
       "<div>\n",
       "<style scoped>\n",
       "    .dataframe tbody tr th:only-of-type {\n",
       "        vertical-align: middle;\n",
       "    }\n",
       "\n",
       "    .dataframe tbody tr th {\n",
       "        vertical-align: top;\n",
       "    }\n",
       "\n",
       "    .dataframe thead th {\n",
       "        text-align: right;\n",
       "    }\n",
       "</style>\n",
       "<table border=\"1\" class=\"dataframe\">\n",
       "  <thead>\n",
       "    <tr style=\"text-align: right;\">\n",
       "      <th></th>\n",
       "      <th>German Text</th>\n",
       "      <th>English Text</th>\n",
       "      <th>german_token_count</th>\n",
       "      <th>english_token_count</th>\n",
       "      <th>total_token_count</th>\n",
       "      <th>german_word_count</th>\n",
       "      <th>english_word_count</th>\n",
       "      <th>total_word_count</th>\n",
       "    </tr>\n",
       "  </thead>\n",
       "  <tbody>\n",
       "    <tr>\n",
       "      <th>2</th>\n",
       "      <td>Schwert hat zuegesagt das was er dieß mahl ver...</td>\n",
       "      <td>Schwert promises that he will not commit the o...</td>\n",
       "      <td>70</td>\n",
       "      <td>50</td>\n",
       "      <td>120</td>\n",
       "      <td>40</td>\n",
       "      <td>48</td>\n",
       "      <td>88</td>\n",
       "    </tr>\n",
       "    <tr>\n",
       "      <th>3</th>\n",
       "      <td>Jacob Nünner der Müllner. Demnach den Wolgebor...</td>\n",
       "      <td>Jacob Nünner der Müllner. Since Jacob Nünner, ...</td>\n",
       "      <td>365</td>\n",
       "      <td>203</td>\n",
       "      <td>568</td>\n",
       "      <td>170</td>\n",
       "      <td>141</td>\n",
       "      <td>311</td>\n",
       "    </tr>\n",
       "    <tr>\n",
       "      <th>4</th>\n",
       "      <td>derer von Schwantz vnterthanen Zum Neundorff. ...</td>\n",
       "      <td>The sers of the von Schwantz in Neundorff. Sin...</td>\n",
       "      <td>207</td>\n",
       "      <td>141</td>\n",
       "      <td>348</td>\n",
       "      <td>88</td>\n",
       "      <td>96</td>\n",
       "      <td>184</td>\n",
       "    </tr>\n",
       "    <tr>\n",
       "      <th>5</th>\n",
       "      <td>Melchior Rössels Zue Rückersdorff handtgelübni...</td>\n",
       "      <td>Melchior Rössel from Rückersdorf's hand-promis...</td>\n",
       "      <td>166</td>\n",
       "      <td>88</td>\n",
       "      <td>254</td>\n",
       "      <td>70</td>\n",
       "      <td>53</td>\n",
       "      <td>123</td>\n",
       "    </tr>\n",
       "    <tr>\n",
       "      <th>6</th>\n",
       "      <td>Hanß Nicht vnnd Mathes weber von Raspenaw. Dem...</td>\n",
       "      <td>Hanß Nicht and Mathes weber from Raspenaw. Bec...</td>\n",
       "      <td>256</td>\n",
       "      <td>168</td>\n",
       "      <td>424</td>\n",
       "      <td>126</td>\n",
       "      <td>131</td>\n",
       "      <td>257</td>\n",
       "    </tr>\n",
       "  </tbody>\n",
       "</table>\n",
       "</div>"
      ],
      "text/plain": [
       "                                         German Text  \\\n",
       "2  Schwert hat zuegesagt das was er dieß mahl ver...   \n",
       "3  Jacob Nünner der Müllner. Demnach den Wolgebor...   \n",
       "4  derer von Schwantz vnterthanen Zum Neundorff. ...   \n",
       "5  Melchior Rössels Zue Rückersdorff handtgelübni...   \n",
       "6  Hanß Nicht vnnd Mathes weber von Raspenaw. Dem...   \n",
       "\n",
       "                                        English Text  german_token_count  \\\n",
       "2  Schwert promises that he will not commit the o...                  70   \n",
       "3  Jacob Nünner der Müllner. Since Jacob Nünner, ...                 365   \n",
       "4  The sers of the von Schwantz in Neundorff. Sin...                 207   \n",
       "5  Melchior Rössel from Rückersdorf's hand-promis...                 166   \n",
       "6  Hanß Nicht and Mathes weber from Raspenaw. Bec...                 256   \n",
       "\n",
       "   english_token_count  total_token_count  german_word_count  \\\n",
       "2                   50                120                 40   \n",
       "3                  203                568                170   \n",
       "4                  141                348                 88   \n",
       "5                   88                254                 70   \n",
       "6                  168                424                126   \n",
       "\n",
       "   english_word_count  total_word_count  \n",
       "2                  48                88  \n",
       "3                 141               311  \n",
       "4                  96               184  \n",
       "5                  53               123  \n",
       "6                 131               257  "
      ]
     },
     "execution_count": 25,
     "metadata": {},
     "output_type": "execute_result"
    }
   ],
   "source": [
    "filtered_df.head()"
   ]
  },
  {
   "cell_type": "code",
   "execution_count": 26,
   "metadata": {},
   "outputs": [
    {
     "name": "stdout",
     "output_type": "stream",
     "text": [
      "Average difference in word counts: 10.14034613304489\n"
     ]
    },
    {
     "data": {
      "image/png": "[encoded data removed]",
      "text/plain": [
       "<Figure size 1000x600 with 1 Axes>"
      ]
     },
     "metadata": {},
     "output_type": "display_data"
    }
   ],
   "source": [
    "\n",
    "# Compute the difference in word counts between English and German\n",
    "filtered_df['word_count_diff'] = filtered_df['english_word_count'] - filtered_df['german_word_count']\n",
    "\n",
    "# Calculate the average of the differences\n",
    "average_diff = filtered_df['word_count_diff'].mean()\n",
    "print(f\"Average difference in word counts: {average_diff}\")\n",
    "\n",
    "# Plot the distribution of the word count differences\n",
    "plt.figure(figsize=(10, 6))\n",
    "plt.hist(filtered_df['word_count_diff'], bins=30, alpha=0.7, label='Word Count Difference')\n",
    "plt.xlabel('Difference in Word Count (English - German)')\n",
    "plt.ylabel('Frequency')\n",
    "plt.title('Distribution of Word Count Differences between English and German Texts')\n",
    "plt.legend()\n",
    "plt.grid(True)\n",
    "plt.show()"
   ]
  },
  {
   "cell_type": "markdown",
   "metadata": {},
   "source": [
    "# Saved cleaned dataset"
   ]
  },
  {
   "cell_type": "code",
   "execution_count": 27,
   "metadata": {},
   "outputs": [],
   "source": [
    "# Rename columns\n",
    "filtered_df = filtered_df.rename(columns={\"German Text\": \"Early Modern Bohemian German\", \"English Text\": \"English\"})\n",
    "\n",
    "# Keep only the specified columns\n",
    "filtered_df = filtered_df[['Early Modern Bohemian German', 'English']]"
   ]
  },
  {
   "cell_type": "code",
   "execution_count": 28,
   "metadata": {},
   "outputs": [
    {
     "data": {
      "text/html": [
       "<div>\n",
       "<style scoped>\n",
       "    .dataframe tbody tr th:only-of-type {\n",
       "        vertical-align: middle;\n",
       "    }\n",
       "\n",
       "    .dataframe tbody tr th {\n",
       "        vertical-align: top;\n",
       "    }\n",
       "\n",
       "    .dataframe thead th {\n",
       "        text-align: right;\n",
       "    }\n",
       "</style>\n",
       "<table border=\"1\" class=\"dataframe\">\n",
       "  <thead>\n",
       "    <tr style=\"text-align: right;\">\n",
       "      <th></th>\n",
       "      <th>Early Modern Bohemian German</th>\n",
       "      <th>English</th>\n",
       "    </tr>\n",
       "  </thead>\n",
       "  <tbody>\n",
       "    <tr>\n",
       "      <th>2</th>\n",
       "      <td>Schwert hat zuegesagt das was er dieß mahl ver...</td>\n",
       "      <td>Schwert promises that he will not commit the o...</td>\n",
       "    </tr>\n",
       "    <tr>\n",
       "      <th>3</th>\n",
       "      <td>Jacob Nünner der Müllner. Demnach den Wolgebor...</td>\n",
       "      <td>Jacob Nünner der Müllner. Since Jacob Nünner, ...</td>\n",
       "    </tr>\n",
       "    <tr>\n",
       "      <th>4</th>\n",
       "      <td>derer von Schwantz vnterthanen Zum Neundorff. ...</td>\n",
       "      <td>The sers of the von Schwantz in Neundorff. Sin...</td>\n",
       "    </tr>\n",
       "    <tr>\n",
       "      <th>5</th>\n",
       "      <td>Melchior Rössels Zue Rückersdorff handtgelübni...</td>\n",
       "      <td>Melchior Rössel from Rückersdorf's hand-promis...</td>\n",
       "    </tr>\n",
       "    <tr>\n",
       "      <th>6</th>\n",
       "      <td>Hanß Nicht vnnd Mathes weber von Raspenaw. Dem...</td>\n",
       "      <td>Hanß Nicht and Mathes weber from Raspenaw. Bec...</td>\n",
       "    </tr>\n",
       "  </tbody>\n",
       "</table>\n",
       "</div>"
      ],
      "text/plain": [
       "                        Early Modern Bohemian German  \\\n",
       "2  Schwert hat zuegesagt das was er dieß mahl ver...   \n",
       "3  Jacob Nünner der Müllner. Demnach den Wolgebor...   \n",
       "4  derer von Schwantz vnterthanen Zum Neundorff. ...   \n",
       "5  Melchior Rössels Zue Rückersdorff handtgelübni...   \n",
       "6  Hanß Nicht vnnd Mathes weber von Raspenaw. Dem...   \n",
       "\n",
       "                                             English  \n",
       "2  Schwert promises that he will not commit the o...  \n",
       "3  Jacob Nünner der Müllner. Since Jacob Nünner, ...  \n",
       "4  The sers of the von Schwantz in Neundorff. Sin...  \n",
       "5  Melchior Rössel from Rückersdorf's hand-promis...  \n",
       "6  Hanß Nicht and Mathes weber from Raspenaw. Bec...  "
      ]
     },
     "execution_count": 28,
     "metadata": {},
     "output_type": "execute_result"
    }
   ],
   "source": [
    "filtered_df.head()"
   ]
  },
  {
   "cell_type": "code",
   "execution_count": 29,
   "metadata": {},
   "outputs": [
    {
     "name": "stdout",
     "output_type": "stream",
     "text": [
      "Filtered dataset saved as 'cleaned_historical_dataset.xlsx'.\n"
     ]
    }
   ],
   "source": [
    "# Save the filtered dataset as an Excel file\n",
    "filtered_df.to_excel(save_path, index=False)\n",
    "\n",
    "print(\"Filtered dataset saved as 'cleaned_historical_dataset.xlsx'.\")"
   ]
  },
  {
   "cell_type": "code",
   "execution_count": null,
   "metadata": {},
   "outputs": [],
   "source": []
  },
  {
   "cell_type": "code",
   "execution_count": null,
   "metadata": {},
   "outputs": [],
   "source": []
  },
  {
   "cell_type": "code",
   "execution_count": 30,
   "metadata": {},
   "outputs": [
    {
     "data": {
      "text/html": [
       "<div>\n",
       "<style scoped>\n",
       "    .dataframe tbody tr th:only-of-type {\n",
       "        vertical-align: middle;\n",
       "    }\n",
       "\n",
       "    .dataframe tbody tr th {\n",
       "        vertical-align: top;\n",
       "    }\n",
       "\n",
       "    .dataframe thead th {\n",
       "        text-align: right;\n",
       "    }\n",
       "</style>\n",
       "<table border=\"1\" class=\"dataframe\">\n",
       "  <thead>\n",
       "    <tr style=\"text-align: right;\">\n",
       "      <th></th>\n",
       "      <th>Early Modern Bohemian German</th>\n",
       "      <th>English</th>\n",
       "    </tr>\n",
       "  </thead>\n",
       "  <tbody>\n",
       "    <tr>\n",
       "      <th>2</th>\n",
       "      <td>Schwert hat zuegesagt das was er dieß mahl ver...</td>\n",
       "      <td>Schwert promises that he will not commit the o...</td>\n",
       "    </tr>\n",
       "    <tr>\n",
       "      <th>3</th>\n",
       "      <td>Jacob Nünner der Müllner. Demnach den Wolgebor...</td>\n",
       "      <td>Jacob Nünner der Müllner. Since Jacob Nünner, ...</td>\n",
       "    </tr>\n",
       "    <tr>\n",
       "      <th>4</th>\n",
       "      <td>derer von Schwantz vnterthanen Zum Neundorff. ...</td>\n",
       "      <td>The sers of the von Schwantz in Neundorff. Sin...</td>\n",
       "    </tr>\n",
       "    <tr>\n",
       "      <th>5</th>\n",
       "      <td>Melchior Rössels Zue Rückersdorff handtgelübni...</td>\n",
       "      <td>Melchior Rössel from Rückersdorf's hand-promis...</td>\n",
       "    </tr>\n",
       "    <tr>\n",
       "      <th>6</th>\n",
       "      <td>Hanß Nicht vnnd Mathes weber von Raspenaw. Dem...</td>\n",
       "      <td>Hanß Nicht and Mathes weber from Raspenaw. Bec...</td>\n",
       "    </tr>\n",
       "    <tr>\n",
       "      <th>...</th>\n",
       "      <td>...</td>\n",
       "      <td>...</td>\n",
       "    </tr>\n",
       "    <tr>\n",
       "      <th>3792</th>\n",
       "      <td>Joseph Preyßler halb auen haußler macht das sc...</td>\n",
       "      <td>Joseph Preyßler half commons-cottager makes th...</td>\n",
       "    </tr>\n",
       "    <tr>\n",
       "      <th>3793</th>\n",
       "      <td>Der bey schliessige Auß zueg auß den G: amtl. ...</td>\n",
       "      <td>The enclosed extract from the gracious manoria...</td>\n",
       "    </tr>\n",
       "    <tr>\n",
       "      <th>3794</th>\n",
       "      <td>Gotfried Hanisch sich excipiert, daß diese anz...</td>\n",
       "      <td>Gotfried Hanisch presents excuse, that this re...</td>\n",
       "    </tr>\n",
       "    <tr>\n",
       "      <th>3795</th>\n",
       "      <td>Gleich die mann nun diesem Marienthaler antrag...</td>\n",
       "      <td>Now since this application by Marienthal is fo...</td>\n",
       "    </tr>\n",
       "    <tr>\n",
       "      <th>3796</th>\n",
       "      <td>Ich Endes gefertigter thue mich andurch verbin...</td>\n",
       "      <td>I, as ratified below, hereby bind myself that ...</td>\n",
       "    </tr>\n",
       "  </tbody>\n",
       "</table>\n",
       "<p>3698 rows × 2 columns</p>\n",
       "</div>"
      ],
      "text/plain": [
       "                           Early Modern Bohemian German  \\\n",
       "2     Schwert hat zuegesagt das was er dieß mahl ver...   \n",
       "3     Jacob Nünner der Müllner. Demnach den Wolgebor...   \n",
       "4     derer von Schwantz vnterthanen Zum Neundorff. ...   \n",
       "5     Melchior Rössels Zue Rückersdorff handtgelübni...   \n",
       "6     Hanß Nicht vnnd Mathes weber von Raspenaw. Dem...   \n",
       "...                                                 ...   \n",
       "3792  Joseph Preyßler halb auen haußler macht das sc...   \n",
       "3793  Der bey schliessige Auß zueg auß den G: amtl. ...   \n",
       "3794  Gotfried Hanisch sich excipiert, daß diese anz...   \n",
       "3795  Gleich die mann nun diesem Marienthaler antrag...   \n",
       "3796  Ich Endes gefertigter thue mich andurch verbin...   \n",
       "\n",
       "                                                English  \n",
       "2     Schwert promises that he will not commit the o...  \n",
       "3     Jacob Nünner der Müllner. Since Jacob Nünner, ...  \n",
       "4     The sers of the von Schwantz in Neundorff. Sin...  \n",
       "5     Melchior Rössel from Rückersdorf's hand-promis...  \n",
       "6     Hanß Nicht and Mathes weber from Raspenaw. Bec...  \n",
       "...                                                 ...  \n",
       "3792  Joseph Preyßler half commons-cottager makes th...  \n",
       "3793  The enclosed extract from the gracious manoria...  \n",
       "3794  Gotfried Hanisch presents excuse, that this re...  \n",
       "3795  Now since this application by Marienthal is fo...  \n",
       "3796  I, as ratified below, hereby bind myself that ...  \n",
       "\n",
       "[3698 rows x 2 columns]"
      ]
     },
     "execution_count": 30,
     "metadata": {},
     "output_type": "execute_result"
    }
   ],
   "source": [
    "filtered_df"
   ]
  },
  {
   "cell_type": "code",
   "execution_count": null,
   "metadata": {},
   "outputs": [],
   "source": []
  }
 ],
 "metadata": {
  "kernelspec": {
   "display_name": "Python 3",
   "language": "python",
   "name": "python3"
  },
  "language_info": {
   "codemirror_mode": {
    "name": "ipython",
    "version": 3
   },
   "file_extension": ".py",
   "mimetype": "text/x-python",
   "name": "python",
   "nbconvert_exporter": "python",
   "pygments_lexer": "ipython3",
   "version": "3.9.19"
  }
 },
 "nbformat": 4,
 "nbformat_minor": 2
}
