{
 "cells": [
  {
   "cell_type": "markdown",
   "metadata": {},
   "source": [
    "# Import libraries"
   ]
  },
  {
   "cell_type": "code",
   "execution_count": 1,
   "metadata": {},
   "outputs": [],
   "source": [
    "import pandas as pd\n",
    "import numpy as np\n",
    "import os\n",
    "from sklearn.model_selection import train_test_split"
   ]
  },
  {
   "cell_type": "markdown",
   "metadata": {},
   "source": [
    "# Set paths"
   ]
  },
  {
   "cell_type": "code",
   "execution_count": 2,
   "metadata": {},
   "outputs": [
    {
     "name": "stdout",
     "output_type": "stream",
     "text": [
      "Dataset file path: /cs/student/msc/csml/2023/ngriessh/historical_mt/data/datasets/cleaned_historical_dataset.xlsx\n",
      "Train indices path: /cs/student/msc/csml/2023/ngriessh/historical_mt/data/datasets/splits/train_indices.txt\n",
      "Validation indices path: /cs/student/msc/csml/2023/ngriessh/historical_mt/data/datasets/splits/validation_indices.txt\n",
      "Test indices path: /cs/student/msc/csml/2023/ngriessh/historical_mt/data/datasets/splits/test_indices.txt\n",
      "Train dataset save path: /cs/student/msc/csml/2023/ngriessh/historical_mt/data/datasets/train_dataset.xlsx\n",
      "Validation dataset save path: /cs/student/msc/csml/2023/ngriessh/historical_mt/data/datasets/validation_dataset.xlsx\n",
      "Test dataset save path: /cs/student/msc/csml/2023/ngriessh/historical_mt/data/datasets/test_dataset.xlsx\n"
     ]
    }
   ],
   "source": [
    "# Base path for the historical_mt directory (relative to the current working directory)\n",
    "base_path = os.path.abspath(os.path.join(os.getcwd(), '..', '..'))\n",
    "\n",
    "# Path to dataset directory\n",
    "dataset_path = os.path.join(base_path, 'data', 'datasets')\n",
    "\n",
    "# Path to dataset\n",
    "file_path = os.path.join(dataset_path, \"cleaned_historical_dataset.xlsx\")\n",
    "\n",
    "# Path to indices\n",
    "splits_path = os.path.join(dataset_path, \"splits\")\n",
    "train_indices_path = os.path.join(splits_path, \"train_indices.txt\")\n",
    "validation_indices_path = os.path.join(splits_path, \"validation_indices.txt\")\n",
    "test_indices_path = os.path.join(splits_path, \"test_indices.txt\")\n",
    "\n",
    "# Define file paths for saving train, validation and test datasets\n",
    "train_save_path = os.path.join(dataset_path, \"train_dataset.xlsx\")\n",
    "validation_save_path = os.path.join(dataset_path, \"validation_dataset.xlsx\")\n",
    "test_save_path = os.path.join(dataset_path, \"test_dataset.xlsx\")\n",
    "\n",
    "# Example output to ensure paths are correct\n",
    "print(f\"Dataset file path: {file_path}\")\n",
    "print(f\"Train indices path: {train_indices_path}\")\n",
    "print(f\"Validation indices path: {validation_indices_path}\")\n",
    "print(f\"Test indices path: {test_indices_path}\")\n",
    "print(f\"Train dataset save path: {train_save_path}\")\n",
    "print(f\"Validation dataset save path: {validation_save_path}\")\n",
    "print(f\"Test dataset save path: {test_save_path}\")"
   ]
  },
  {
   "cell_type": "markdown",
   "metadata": {},
   "source": [
    "# Load dataset"
   ]
  },
  {
   "cell_type": "code",
   "execution_count": 3,
   "metadata": {},
   "outputs": [
    {
     "data": {
      "text/html": [
       "<div>\n",
       "<style scoped>\n",
       "    .dataframe tbody tr th:only-of-type {\n",
       "        vertical-align: middle;\n",
       "    }\n",
       "\n",
       "    .dataframe tbody tr th {\n",
       "        vertical-align: top;\n",
       "    }\n",
       "\n",
       "    .dataframe thead th {\n",
       "        text-align: right;\n",
       "    }\n",
       "</style>\n",
       "<table border=\"1\" class=\"dataframe\">\n",
       "  <thead>\n",
       "    <tr style=\"text-align: right;\">\n",
       "      <th></th>\n",
       "      <th>Early Modern Bohemian German</th>\n",
       "      <th>English</th>\n",
       "    </tr>\n",
       "  </thead>\n",
       "  <tbody>\n",
       "    <tr>\n",
       "      <th>0</th>\n",
       "      <td>Schwert hat zuegesagt das was er dieß mahl ver...</td>\n",
       "      <td>Schwert promises that he will not commit the o...</td>\n",
       "    </tr>\n",
       "    <tr>\n",
       "      <th>1</th>\n",
       "      <td>Jacob Nünner der Müllner. Demnach den Wolgebor...</td>\n",
       "      <td>Jacob Nünner der Müllner. Since Jacob Nünner, ...</td>\n",
       "    </tr>\n",
       "    <tr>\n",
       "      <th>2</th>\n",
       "      <td>derer von Schwantz vnterthanen Zum Neundorff. ...</td>\n",
       "      <td>The sers of the von Schwantz in Neundorff. Sin...</td>\n",
       "    </tr>\n",
       "    <tr>\n",
       "      <th>3</th>\n",
       "      <td>Melchior Rössels Zue Rückersdorff handtgelübni...</td>\n",
       "      <td>Melchior Rössel from Rückersdorf's hand-promis...</td>\n",
       "    </tr>\n",
       "    <tr>\n",
       "      <th>4</th>\n",
       "      <td>Hanß Nicht vnnd Mathes weber von Raspenaw. Dem...</td>\n",
       "      <td>Hanß Nicht and Mathes weber from Raspenaw. Bec...</td>\n",
       "    </tr>\n",
       "  </tbody>\n",
       "</table>\n",
       "</div>"
      ],
      "text/plain": [
       "                        Early Modern Bohemian German  \\\n",
       "0  Schwert hat zuegesagt das was er dieß mahl ver...   \n",
       "1  Jacob Nünner der Müllner. Demnach den Wolgebor...   \n",
       "2  derer von Schwantz vnterthanen Zum Neundorff. ...   \n",
       "3  Melchior Rössels Zue Rückersdorff handtgelübni...   \n",
       "4  Hanß Nicht vnnd Mathes weber von Raspenaw. Dem...   \n",
       "\n",
       "                                             English  \n",
       "0  Schwert promises that he will not commit the o...  \n",
       "1  Jacob Nünner der Müllner. Since Jacob Nünner, ...  \n",
       "2  The sers of the von Schwantz in Neundorff. Sin...  \n",
       "3  Melchior Rössel from Rückersdorf's hand-promis...  \n",
       "4  Hanß Nicht and Mathes weber from Raspenaw. Bec...  "
      ]
     },
     "execution_count": 3,
     "metadata": {},
     "output_type": "execute_result"
    }
   ],
   "source": [
    "# Load excel file\n",
    "df = pd.read_excel(file_path)\n",
    "df.head()"
   ]
  },
  {
   "cell_type": "markdown",
   "metadata": {},
   "source": [
    "# Generate test and training split"
   ]
  },
  {
   "cell_type": "code",
   "execution_count": 4,
   "metadata": {},
   "outputs": [
    {
     "name": "stdout",
     "output_type": "stream",
     "text": [
      "Number of training samples: 842\n",
      "Number of validation samples: 93\n",
      "Number of test samples: 1000\n"
     ]
    }
   ],
   "source": [
    "# Set a random seed for reproducibility\n",
    "seed = 17\n",
    "\n",
    "# Determine the length of the dataset\n",
    "data_length = len(df)\n",
    "\n",
    "# Calculate the test_size as a fraction to get exactly 1000 test samples\n",
    "test_size = 1000 / data_length\n",
    "\n",
    "# Perform the train-test split\n",
    "train_indices, test_indices = train_test_split(\n",
    "    np.arange(data_length), test_size=test_size, random_state=seed\n",
    ")\n",
    "\n",
    "# Ensure we have exactly 1000 test samples\n",
    "if len(test_indices) > 1000:\n",
    "    # Move excess samples to train set\n",
    "    excess = len(test_indices) - 1000\n",
    "    train_indices = np.concatenate((train_indices, test_indices[:excess]))\n",
    "    test_indices = test_indices[excess:]\n",
    "elif len(test_indices) < 1000:\n",
    "    # Move samples from train set to test set\n",
    "    shortage = 1000 - len(test_indices)\n",
    "    test_indices = np.concatenate((test_indices, train_indices[:shortage]))\n",
    "    train_indices = train_indices[shortage:]\n",
    "\n",
    "# Calculate the validation size as 10% of the training data\n",
    "validation_size = int(0.1 * len(train_indices))\n",
    "\n",
    "# Perform the train-validation split\n",
    "train_indices, validation_indices = train_test_split(\n",
    "    train_indices, test_size=validation_size, random_state=seed\n",
    ")\n",
    "\n",
    "# Verify the split\n",
    "print(f\"Number of training samples: {len(train_indices)}\")\n",
    "print(f\"Number of validation samples: {len(validation_indices)}\")\n",
    "print(f\"Number of test samples: {len(test_indices)}\")"
   ]
  },
  {
   "cell_type": "markdown",
   "metadata": {},
   "source": [
    "# Save training, validation and test splits"
   ]
  },
  {
   "cell_type": "code",
   "execution_count": 5,
   "metadata": {},
   "outputs": [],
   "source": [
    "# Save train, validation, and test indices to text files\n",
    "np.savetxt(train_indices_path, train_indices, fmt='%d')\n",
    "np.savetxt(test_indices_path, test_indices, fmt='%d')\n",
    "np.savetxt(validation_indices_path, validation_indices, fmt='%d')"
   ]
  },
  {
   "cell_type": "markdown",
   "metadata": {},
   "source": [
    "# Save training, validation and test datasets"
   ]
  },
  {
   "cell_type": "code",
   "execution_count": 6,
   "metadata": {},
   "outputs": [],
   "source": [
    "# Generate train and test datasets\n",
    "train_data = df.iloc[train_indices]\n",
    "validation_data = df.iloc[validation_indices]\n",
    "test_data = df.iloc[test_indices]\n",
    "\n",
    "# Save the train_data DataFrame to an Excel file\n",
    "train_data.to_excel(train_save_path, index=False)\n",
    "\n",
    "# Save the validation_data DataFrame to an Excel file\n",
    "validation_data.to_excel(validation_save_path, index=False)\n",
    "\n",
    "# Save the test_data DataFrame to an Excel file\n",
    "test_data.to_excel(test_save_path, index=False)"
   ]
  },
  {
   "cell_type": "code",
   "execution_count": 7,
   "metadata": {},
   "outputs": [
    {
     "data": {
      "text/html": [
       "<div>\n",
       "<style scoped>\n",
       "    .dataframe tbody tr th:only-of-type {\n",
       "        vertical-align: middle;\n",
       "    }\n",
       "\n",
       "    .dataframe tbody tr th {\n",
       "        vertical-align: top;\n",
       "    }\n",
       "\n",
       "    .dataframe thead th {\n",
       "        text-align: right;\n",
       "    }\n",
       "</style>\n",
       "<table border=\"1\" class=\"dataframe\">\n",
       "  <thead>\n",
       "    <tr style=\"text-align: right;\">\n",
       "      <th></th>\n",
       "      <th>Early Modern Bohemian German</th>\n",
       "      <th>English</th>\n",
       "    </tr>\n",
       "  </thead>\n",
       "  <tbody>\n",
       "    <tr>\n",
       "      <th>59</th>\n",
       "      <td>Der Schulteß Zu Mildenaw, hatt Hanß Nichten vn...</td>\n",
       "      <td>The village headman of Mildenau names Hans Nic...</td>\n",
       "    </tr>\n",
       "    <tr>\n",
       "      <th>219</th>\n",
       "      <td>Jacob Seidel von hainerßdorff, demnach er Mich...</td>\n",
       "      <td>Jacob Seidel from Hainersdorf, since he attack...</td>\n",
       "    </tr>\n",
       "    <tr>\n",
       "      <th>1187</th>\n",
       "      <td>Auf Grundtmans Klage antwortett der Scholtz, d...</td>\n",
       "      <td>To Grundtman's complaint the village headman a...</td>\n",
       "    </tr>\n",
       "    <tr>\n",
       "      <th>380</th>\n",
       "      <td>Hans Nicht Von Mildenaw, demnach er mit seiner...</td>\n",
       "      <td>Hans Nicht von Mildenau, since he got into gre...</td>\n",
       "    </tr>\n",
       "    <tr>\n",
       "      <th>1833</th>\n",
       "      <td>Richter Sagett Vnd clagett, dz Joachim Jacobiz...</td>\n",
       "      <td>The magistrate complains that Joachim Jacobiz ...</td>\n",
       "    </tr>\n",
       "  </tbody>\n",
       "</table>\n",
       "</div>"
      ],
      "text/plain": [
       "                           Early Modern Bohemian German  \\\n",
       "59    Der Schulteß Zu Mildenaw, hatt Hanß Nichten vn...   \n",
       "219   Jacob Seidel von hainerßdorff, demnach er Mich...   \n",
       "1187  Auf Grundtmans Klage antwortett der Scholtz, d...   \n",
       "380   Hans Nicht Von Mildenaw, demnach er mit seiner...   \n",
       "1833  Richter Sagett Vnd clagett, dz Joachim Jacobiz...   \n",
       "\n",
       "                                                English  \n",
       "59    The village headman of Mildenau names Hans Nic...  \n",
       "219   Jacob Seidel from Hainersdorf, since he attack...  \n",
       "1187  To Grundtman's complaint the village headman a...  \n",
       "380   Hans Nicht von Mildenau, since he got into gre...  \n",
       "1833  The magistrate complains that Joachim Jacobiz ...  "
      ]
     },
     "execution_count": 7,
     "metadata": {},
     "output_type": "execute_result"
    }
   ],
   "source": [
    "train_data.head()"
   ]
  },
  {
   "cell_type": "markdown",
   "metadata": {},
   "source": [
    "# Create json files"
   ]
  },
  {
   "cell_type": "code",
   "execution_count": 8,
   "metadata": {},
   "outputs": [],
   "source": [
    "# Save datasets to JSON Lines (.jsonl) format\n",
    "train_data.to_json(\"train.jsonl\", orient=\"records\", lines=True, force_ascii=False)\n",
    "validation_data.to_json(\"validation.jsonl\", orient=\"records\", lines=True, force_ascii=False)\n",
    "test_data.to_json(\"test.jsonl\", orient=\"records\", lines=True, force_ascii=False)"
   ]
  },
  {
   "cell_type": "code",
   "execution_count": null,
   "metadata": {},
   "outputs": [],
   "source": []
  },
  {
   "cell_type": "code",
   "execution_count": null,
   "metadata": {},
   "outputs": [],
   "source": []
  }
 ],
 "metadata": {
  "kernelspec": {
   "display_name": "Python 3",
   "language": "python",
   "name": "python3"
  },
  "language_info": {
   "codemirror_mode": {
    "name": "ipython",
    "version": 3
   },
   "file_extension": ".py",
   "mimetype": "text/x-python",
   "name": "python",
   "nbconvert_exporter": "python",
   "pygments_lexer": "ipython3",
   "version": "3.9.19"
  }
 },
 "nbformat": 4,
 "nbformat_minor": 2
}
