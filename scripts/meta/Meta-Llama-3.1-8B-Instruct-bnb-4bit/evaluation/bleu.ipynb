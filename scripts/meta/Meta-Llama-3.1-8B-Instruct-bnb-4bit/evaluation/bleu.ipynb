{
 "cells": [
  {
   "cell_type": "markdown",
   "metadata": {},
   "source": [
    "# Import libraries"
   ]
  },
  {
   "cell_type": "code",
   "execution_count": 1,
   "metadata": {},
   "outputs": [],
   "source": [
    "# Import libraries\n",
    "import os\n",
    "import pandas as pd\n",
    "import json\n",
    "import sacrebleu"
   ]
  },
  {
   "cell_type": "markdown",
   "metadata": {},
   "source": [
    "# Set Paths"
   ]
  },
  {
   "cell_type": "code",
   "execution_count": 2,
   "metadata": {},
   "outputs": [
    {
     "name": "stdout",
     "output_type": "stream",
     "text": [
      "Base path: /cs/student/msc/csml/2023/ngriessh/historical_mt\n",
      "Results path: /cs/student/msc/csml/2023/ngriessh/historical_mt/results/meta/Meta-Llama-3.1-8B-Instruct-bnb-4bit/merged_results.json\n"
     ]
    }
   ],
   "source": [
    "# Base path\n",
    "base_path = os.path.abspath(os.path.join(os.getcwd(), '..', '..', '..', '..'))\n",
    "\n",
    "# Model Parameters\n",
    "unsloth_model_name = 'unsloth/Meta-Llama-3.1-8B-Instruct-bnb-4bit'\n",
    "company_name = 'meta'\n",
    "model_name = unsloth_model_name.split('/')[1]\n",
    "\n",
    "# Results path\n",
    "results_path_file = os.path.join(base_path, 'results', company_name, model_name, 'merged_results.json')\n",
    "\n",
    "# Print paths\n",
    "print('Base path:', base_path)\n",
    "print('Results path:', results_path_file)"
   ]
  },
  {
   "cell_type": "markdown",
   "metadata": {},
   "source": [
    "# Set Evaluation Parameters"
   ]
  },
  {
   "cell_type": "code",
   "execution_count": 5,
   "metadata": {},
   "outputs": [
    {
     "name": "stdout",
     "output_type": "stream",
     "text": [
      "Source Language: Early Modern Bohemian German\n",
      "Target Language: English\n",
      "Translation Direction: DE_to_EN\n",
      "Evaluate ICL: False\n",
      "Evaluate finetuning: True\n",
      "Median Splitting? False\n"
     ]
    }
   ],
   "source": [
    "# Choose source language\n",
    "source_language = \"Early Modern Bohemian German\"\n",
    "target_language = \"English\" if source_language == \"Early Modern Bohemian German\" else \"Early Modern Bohemian German\"\n",
    "\n",
    "# Evaluate finetuning and icl?\n",
    "evaluate_icl = False\n",
    "evaluate_finetuning = True\n",
    "\n",
    "# Median splitting with regard to word count?\n",
    "median_splitting = False\n",
    "# Translation direction is defined depending on the chosen source languag \n",
    "translation_direction = \"DE_to_EN\" if source_language == \"Early Modern Bohemian German\" else \"EN_to_DE\"\n",
    "\n",
    "# Print\n",
    "print(f'Source Language: {source_language}')\n",
    "print(f'Target Language: {target_language}')\n",
    "print(f'Translation Direction: {translation_direction}')\n",
    "print(f'Evaluate ICL: {evaluate_icl}')\n",
    "print(f'Evaluate finetuning: {evaluate_finetuning}')\n",
    "print(f'Median Splitting? {median_splitting}')"
   ]
  },
  {
   "cell_type": "markdown",
   "metadata": {},
   "source": [
    "# Load Results File"
   ]
  },
  {
   "cell_type": "code",
   "execution_count": 6,
   "metadata": {},
   "outputs": [],
   "source": [
    "# Load the JSON file\n",
    "with open(results_path_file, 'r') as f:\n",
    "    data = [json.loads(line) for line in f]\n",
    "\n",
    "# Create a DataFrame based on the JSON file\n",
    "merged_df = pd.DataFrame(data)"
   ]
  },
  {
   "cell_type": "markdown",
   "metadata": {},
   "source": [
    "# Check Columns"
   ]
  },
  {
   "cell_type": "code",
   "execution_count": 7,
   "metadata": {},
   "outputs": [
    {
     "data": {
      "text/plain": [
       "Index(['Early Modern Bohemian German', 'English', 'DE_to_EN_finetuning',\n",
       "       'EN_to_DE_finetuning'],\n",
       "      dtype='object')"
      ]
     },
     "execution_count": 7,
     "metadata": {},
     "output_type": "execute_result"
    }
   ],
   "source": [
    "# Check column names\n",
    "merged_df.columns"
   ]
  },
  {
   "cell_type": "markdown",
   "metadata": {},
   "source": [
    "# Construct Candidate Columns"
   ]
  },
  {
   "cell_type": "code",
   "execution_count": 8,
   "metadata": {},
   "outputs": [
    {
     "data": {
      "text/plain": [
       "['DE_to_EN_finetuning']"
      ]
     },
     "execution_count": 8,
     "metadata": {},
     "output_type": "execute_result"
    }
   ],
   "source": [
    "# Define a function to generate candidate columns based on the conditions\n",
    "def construct_candidate_columns(translation_direction, evaluate_icl, evaluate_finetuning):\n",
    "    shots = ['000', '001', '002', '004', '008', '016', '032', '064', '128']\n",
    "    \n",
    "    # Add shots columns\n",
    "    if evaluate_icl:\n",
    "        if translation_direction == 'DE_to_EN':\n",
    "            candidate_columns = [f'DE_to_EN_{shot}_example_prompt' for shot in shots]\n",
    "        elif translation_direction == 'EN_to_DE':\n",
    "            candidate_columns = [f'EN_to_DE_{shot}_example_prompt' for shot in shots]\n",
    "    \n",
    "    # Add finetuning column\n",
    "    if evaluate_finetuning:\n",
    "        if evaluate_icl:\n",
    "            candidate_columns.append(f'{translation_direction}_finetuning')\n",
    "        else:\n",
    "            candidate_columns = [f'{translation_direction}_finetuning']\n",
    "    \n",
    "    return candidate_columns\n",
    "\n",
    "# You can now concatenate or use these columns as needed\n",
    "candidate_columns = construct_candidate_columns(translation_direction, evaluate_icl, evaluate_finetuning)\n",
    "candidate_columns"
   ]
  },
  {
   "cell_type": "markdown",
   "metadata": {},
   "source": [
    "# Median Splitting"
   ]
  },
  {
   "cell_type": "code",
   "execution_count": 9,
   "metadata": {},
   "outputs": [
    {
     "name": "stdout",
     "output_type": "stream",
     "text": [
      "Shape of merged_df_short: (501, 5)\n",
      "Shape of merged_df_long: (499, 5)\n",
      "Median word count in Early Modern Bohemian German: 73.0\n"
     ]
    }
   ],
   "source": [
    "# Compute word count for the source_language column\n",
    "source_language_word_count = f'{source_language}_word_count'\n",
    "merged_df[source_language_word_count] = merged_df[source_language].apply(lambda x: len(str(x).split()))\n",
    "\n",
    "# Compute the median word count\n",
    "median_word_count = merged_df[source_language_word_count].median()\n",
    "\n",
    "# Create merged_df_short and merged_df_long based on the median\n",
    "merged_df_short = merged_df[merged_df[source_language_word_count] <= median_word_count]\n",
    "merged_df_long = merged_df[merged_df[source_language_word_count] > median_word_count]\n",
    "\n",
    "#vPrint the shapes of the datasets\n",
    "print(\"Shape of merged_df_short:\", merged_df_short.shape)\n",
    "print(\"Shape of merged_df_long:\", merged_df_long.shape)\n",
    "print(f'Median word count in {source_language}: {median_word_count}')"
   ]
  },
  {
   "cell_type": "code",
   "execution_count": 10,
   "metadata": {},
   "outputs": [
    {
     "data": {
      "text/html": [
       "<div>\n",
       "<style scoped>\n",
       "    .dataframe tbody tr th:only-of-type {\n",
       "        vertical-align: middle;\n",
       "    }\n",
       "\n",
       "    .dataframe tbody tr th {\n",
       "        vertical-align: top;\n",
       "    }\n",
       "\n",
       "    .dataframe thead th {\n",
       "        text-align: right;\n",
       "    }\n",
       "</style>\n",
       "<table border=\"1\" class=\"dataframe\">\n",
       "  <thead>\n",
       "    <tr style=\"text-align: right;\">\n",
       "      <th></th>\n",
       "      <th>Early Modern Bohemian German</th>\n",
       "      <th>English</th>\n",
       "      <th>DE_to_EN_finetuning</th>\n",
       "      <th>EN_to_DE_finetuning</th>\n",
       "      <th>Early Modern Bohemian German_word_count</th>\n",
       "    </tr>\n",
       "  </thead>\n",
       "  <tbody>\n",
       "    <tr>\n",
       "      <th>0</th>\n",
       "      <td>1. Ein Ambt befehlich an h. Joachim vom Eberha...</td>\n",
       "      <td>1. An manorial court command is to be made to ...</td>\n",
       "      <td>1. A manorial court's command to lord Joachim ...</td>\n",
       "      <td>1. Ein Ambtsbefehl an herrn Joachim Vom Eberha...</td>\n",
       "      <td>45</td>\n",
       "    </tr>\n",
       "    <tr>\n",
       "      <th>4</th>\n",
       "      <td>Ao 1661. Martius. Mildenaw. Christoph blumbrig...</td>\n",
       "      <td>1661. march. Mildenaw. Christoph Blumbrig's co...</td>\n",
       "      <td>In 1661 March. Mildenau. Christoph Blumbrig's ...</td>\n",
       "      <td>1661. Martij Mildenaw. Christoph blumbrig Clag...</td>\n",
       "      <td>16</td>\n",
       "    </tr>\n",
       "    <tr>\n",
       "      <th>5</th>\n",
       "      <td>Schultes, Vnd Schoppen Zue Bernsdorff haben si...</td>\n",
       "      <td>16th July. Schulthess and jurymen in Bernsdorf...</td>\n",
       "      <td>village headman and jurymen of Bernsdorf have ...</td>\n",
       "      <td>16 Julij. Schultheß Vnd Schöppen Zu Bernßdorff...</td>\n",
       "      <td>12</td>\n",
       "    </tr>\n",
       "    <tr>\n",
       "      <th>6</th>\n",
       "      <td>1782. Ist der MildenEicher Scholtes mit dem Di...</td>\n",
       "      <td>1782. The Mildeneichen village headman stood f...</td>\n",
       "      <td>The Mildeneichen Scholtes was summoned, along ...</td>\n",
       "      <td>1782. der Schulteß Mild. Eichen standt bey der...</td>\n",
       "      <td>23</td>\n",
       "    </tr>\n",
       "    <tr>\n",
       "      <th>8</th>\n",
       "      <td>3. Novembris. Matz Apelt beschweret sich Vber ...</td>\n",
       "      <td>3. Novembris. Matz Apelt complains against Jac...</td>\n",
       "      <td>On 3rd November, Matz Apelt complains against ...</td>\n",
       "      <td>3. Novembris. Matz Apelt Claget Vber Jacob Sch...</td>\n",
       "      <td>68</td>\n",
       "    </tr>\n",
       "  </tbody>\n",
       "</table>\n",
       "</div>"
      ],
      "text/plain": [
       "                        Early Modern Bohemian German  \\\n",
       "0  1. Ein Ambt befehlich an h. Joachim vom Eberha...   \n",
       "4  Ao 1661. Martius. Mildenaw. Christoph blumbrig...   \n",
       "5  Schultes, Vnd Schoppen Zue Bernsdorff haben si...   \n",
       "6  1782. Ist der MildenEicher Scholtes mit dem Di...   \n",
       "8  3. Novembris. Matz Apelt beschweret sich Vber ...   \n",
       "\n",
       "                                             English  \\\n",
       "0  1. An manorial court command is to be made to ...   \n",
       "4  1661. march. Mildenaw. Christoph Blumbrig's co...   \n",
       "5  16th July. Schulthess and jurymen in Bernsdorf...   \n",
       "6  1782. The Mildeneichen village headman stood f...   \n",
       "8  3. Novembris. Matz Apelt complains against Jac...   \n",
       "\n",
       "                                 DE_to_EN_finetuning  \\\n",
       "0  1. A manorial court's command to lord Joachim ...   \n",
       "4  In 1661 March. Mildenau. Christoph Blumbrig's ...   \n",
       "5  village headman and jurymen of Bernsdorf have ...   \n",
       "6  The Mildeneichen Scholtes was summoned, along ...   \n",
       "8  On 3rd November, Matz Apelt complains against ...   \n",
       "\n",
       "                                 EN_to_DE_finetuning  \\\n",
       "0  1. Ein Ambtsbefehl an herrn Joachim Vom Eberha...   \n",
       "4  1661. Martij Mildenaw. Christoph blumbrig Clag...   \n",
       "5  16 Julij. Schultheß Vnd Schöppen Zu Bernßdorff...   \n",
       "6  1782. der Schulteß Mild. Eichen standt bey der...   \n",
       "8  3. Novembris. Matz Apelt Claget Vber Jacob Sch...   \n",
       "\n",
       "   Early Modern Bohemian German_word_count  \n",
       "0                                       45  \n",
       "4                                       16  \n",
       "5                                       12  \n",
       "6                                       23  \n",
       "8                                       68  "
      ]
     },
     "execution_count": 10,
     "metadata": {},
     "output_type": "execute_result"
    }
   ],
   "source": [
    "merged_df_short.head()"
   ]
  },
  {
   "cell_type": "code",
   "execution_count": 11,
   "metadata": {},
   "outputs": [
    {
     "data": {
      "text/html": [
       "<div>\n",
       "<style scoped>\n",
       "    .dataframe tbody tr th:only-of-type {\n",
       "        vertical-align: middle;\n",
       "    }\n",
       "\n",
       "    .dataframe tbody tr th {\n",
       "        vertical-align: top;\n",
       "    }\n",
       "\n",
       "    .dataframe thead th {\n",
       "        text-align: right;\n",
       "    }\n",
       "</style>\n",
       "<table border=\"1\" class=\"dataframe\">\n",
       "  <thead>\n",
       "    <tr style=\"text-align: right;\">\n",
       "      <th></th>\n",
       "      <th>Early Modern Bohemian German</th>\n",
       "      <th>English</th>\n",
       "      <th>DE_to_EN_finetuning</th>\n",
       "      <th>EN_to_DE_finetuning</th>\n",
       "      <th>Early Modern Bohemian German_word_count</th>\n",
       "    </tr>\n",
       "  </thead>\n",
       "  <tbody>\n",
       "    <tr>\n",
       "      <th>1</th>\n",
       "      <td>1. die lehenß Vnderthanen im Winckel, sollen h...</td>\n",
       "      <td>1. The fief serfs in the Winckel shall hencefo...</td>\n",
       "      <td>1. The fief-serfs in Winckel shall henceforth ...</td>\n",
       "      <td>1. Die Lehn Vnderthanen im Winckel sollen Ihro...</td>\n",
       "      <td>109</td>\n",
       "    </tr>\n",
       "    <tr>\n",
       "      <th>2</th>\n",
       "      <td>1. dz Sie verschienen freytag als den 29 huig ...</td>\n",
       "      <td>1. last Friday, the 29th, they came up to the ...</td>\n",
       "      <td>1. That they appeared last Friday, namely on t...</td>\n",
       "      <td>1. Sie seindt am Vorgangenen Freytag, 29. Sept...</td>\n",
       "      <td>419</td>\n",
       "    </tr>\n",
       "    <tr>\n",
       "      <th>3</th>\n",
       "      <td>Es ist Vor.12. iharen Vnnd mehr Zu Oberweigßdo...</td>\n",
       "      <td>12 years ago and more, in Oberweigsdorf, Paul ...</td>\n",
       "      <td>It was 12 years ago in Oberweigsdorf Paul Apel...</td>\n",
       "      <td>12. Jahre Vndt mehr ist Zue Oberweigstorff Pau...</td>\n",
       "      <td>95</td>\n",
       "    </tr>\n",
       "    <tr>\n",
       "      <th>7</th>\n",
       "      <td>2. Ist errinnert Worden alle Undt iede alte re...</td>\n",
       "      <td>2. They were reminded to pay all arrears quick...</td>\n",
       "      <td>2. All the old restanten are to be brought in ...</td>\n",
       "      <td>2. Ihnen alles Rests schnell zu bezahlen, vnd ...</td>\n",
       "      <td>183</td>\n",
       "    </tr>\n",
       "    <tr>\n",
       "      <th>10</th>\n",
       "      <td>Vor Vngefehr 14: tagen Kombt des Scholzens Zu ...</td>\n",
       "      <td>About 14 days ago the Scholz's in Bernßdorff's...</td>\n",
       "      <td>About 14 days ago the current shepherd of Bern...</td>\n",
       "      <td>Vor Vier Zehen Tag. Seindt des Scholtzen Zu Be...</td>\n",
       "      <td>360</td>\n",
       "    </tr>\n",
       "  </tbody>\n",
       "</table>\n",
       "</div>"
      ],
      "text/plain": [
       "                         Early Modern Bohemian German  \\\n",
       "1   1. die lehenß Vnderthanen im Winckel, sollen h...   \n",
       "2   1. dz Sie verschienen freytag als den 29 huig ...   \n",
       "3   Es ist Vor.12. iharen Vnnd mehr Zu Oberweigßdo...   \n",
       "7   2. Ist errinnert Worden alle Undt iede alte re...   \n",
       "10  Vor Vngefehr 14: tagen Kombt des Scholzens Zu ...   \n",
       "\n",
       "                                              English  \\\n",
       "1   1. The fief serfs in the Winckel shall hencefo...   \n",
       "2   1. last Friday, the 29th, they came up to the ...   \n",
       "3   12 years ago and more, in Oberweigsdorf, Paul ...   \n",
       "7   2. They were reminded to pay all arrears quick...   \n",
       "10  About 14 days ago the Scholz's in Bernßdorff's...   \n",
       "\n",
       "                                  DE_to_EN_finetuning  \\\n",
       "1   1. The fief-serfs in Winckel shall henceforth ...   \n",
       "2   1. That they appeared last Friday, namely on t...   \n",
       "3   It was 12 years ago in Oberweigsdorf Paul Apel...   \n",
       "7   2. All the old restanten are to be brought in ...   \n",
       "10  About 14 days ago the current shepherd of Bern...   \n",
       "\n",
       "                                  EN_to_DE_finetuning  \\\n",
       "1   1. Die Lehn Vnderthanen im Winckel sollen Ihro...   \n",
       "2   1. Sie seindt am Vorgangenen Freytag, 29. Sept...   \n",
       "3   12. Jahre Vndt mehr ist Zue Oberweigstorff Pau...   \n",
       "7   2. Ihnen alles Rests schnell zu bezahlen, vnd ...   \n",
       "10  Vor Vier Zehen Tag. Seindt des Scholtzen Zu Be...   \n",
       "\n",
       "    Early Modern Bohemian German_word_count  \n",
       "1                                       109  \n",
       "2                                       419  \n",
       "3                                        95  \n",
       "7                                       183  \n",
       "10                                      360  "
      ]
     },
     "execution_count": 11,
     "metadata": {},
     "output_type": "execute_result"
    }
   ],
   "source": [
    "merged_df_long.head()"
   ]
  },
  {
   "cell_type": "markdown",
   "metadata": {},
   "source": [
    "# BLEU Evaluation"
   ]
  },
  {
   "cell_type": "code",
   "execution_count": 12,
   "metadata": {},
   "outputs": [
    {
     "name": "stdout",
     "output_type": "stream",
     "text": [
      "______________________________________________________________________________________________\n",
      "Current Dataset: merged_df. Source language is Early Modern Bohemian German.\n",
      "______________________________________________________________________________________________\n",
      "Evaluation of target language English and LLM-generated candidates DE_to_EN_finetuning\n",
      "Corpus-level SacreBLEU score for DE_to_EN_finetuning: 36.703\n",
      "\n"
     ]
    }
   ],
   "source": [
    "# Check if median splitting is true\n",
    "if median_splitting:\n",
    "    dataset_splits = [merged_df_short, merged_df_long]\n",
    "    dataset_names = ['merged_df_short', 'merged_df_long']\n",
    "else:\n",
    "    dataset_splits = [merged_df]\n",
    "    dataset_names = ['merged_df']\n",
    "\n",
    "# Compute BLEU scores for both datasets\n",
    "for split, name in zip(dataset_splits, dataset_names):\n",
    "    # Print statement\n",
    "    print('______________________________________________________________________________________________')\n",
    "    print(f'Current Dataset: {name}. Source language is {source_language}.')\n",
    "    print('______________________________________________________________________________________________')\n",
    "\n",
    "    # Create references for split\n",
    "    references = [split[target_language].tolist()]\n",
    "\n",
    "    # Compute corpus-level BLEU scores\n",
    "    for col in candidate_columns:\n",
    "        candidates = split[col].tolist()\n",
    "        print(f'Evaluation of target language {target_language} and LLM-generated candidates {col}')\n",
    "        bleu_score = sacrebleu.corpus_bleu(candidates, references).score\n",
    "        print(f\"Corpus-level SacreBLEU score for {col}: {bleu_score:.3f}\\n\")"
   ]
  },
  {
   "cell_type": "markdown",
   "metadata": {},
   "source": [
    "# Create Text File to Inspect Translation Results"
   ]
  },
  {
   "cell_type": "code",
   "execution_count": 13,
   "metadata": {},
   "outputs": [
    {
     "name": "stdout",
     "output_type": "stream",
     "text": [
      "Text file created: translation_inspection_entry.txt\n"
     ]
    }
   ],
   "source": [
    "# Function to generate the inspection text for a specific entry\n",
    "def generate_inspection_text(df, entry_index, translation_directions, output_file):\n",
    "    with open(output_file, 'w', encoding='utf-8') as f:\n",
    "\n",
    "        # Get the row corresponding to the entry index\n",
    "        row = df.iloc[entry_index]\n",
    "\n",
    "        # Write the German and English translations pairs by Sheilagh Ogilvie\n",
    "        f.write(f\"Entry {entry_index + 1}:\\n\")\n",
    "        f.write(f\"Early Modern Bohemian German (Sheilagh Ogilvie's Transcription): {row['Early Modern Bohemian German']}\\n\")\n",
    "        f.write(f\"English (Sheilagh Ogilvie): {row['English']}\\n\\n\")\n",
    "\n",
    "        # Write the candidate translations for each translation direction\n",
    "        for col in df.columns:\n",
    "            if any(direction in col for direction in translation_directions):\n",
    "                f.write(f\"{col}: {row[col]}\\n\")\n",
    "        \n",
    "        f.write(\"\\n\" + \"=\"*50 + \"\\n\\n\")\n",
    "\n",
    "# Define the translation directions and the entry to inspect\n",
    "translation_directions = ['DE_to_EN', 'EN_to_DE']\n",
    "entry_index = 0\n",
    "\n",
    "# Call the function to generate the text file\n",
    "output_file = 'translation_inspection_entry.txt'\n",
    "generate_inspection_text(merged_df, entry_index, translation_directions, output_file)\n",
    "print(f\"Text file created: {output_file}\")\n"
   ]
  },
  {
   "cell_type": "code",
   "execution_count": 14,
   "metadata": {},
   "outputs": [
    {
     "data": {
      "text/html": [
       "<div>\n",
       "<style scoped>\n",
       "    .dataframe tbody tr th:only-of-type {\n",
       "        vertical-align: middle;\n",
       "    }\n",
       "\n",
       "    .dataframe tbody tr th {\n",
       "        vertical-align: top;\n",
       "    }\n",
       "\n",
       "    .dataframe thead th {\n",
       "        text-align: right;\n",
       "    }\n",
       "</style>\n",
       "<table border=\"1\" class=\"dataframe\">\n",
       "  <thead>\n",
       "    <tr style=\"text-align: right;\">\n",
       "      <th></th>\n",
       "      <th>Early Modern Bohemian German</th>\n",
       "      <th>English</th>\n",
       "      <th>DE_to_EN_finetuning</th>\n",
       "      <th>EN_to_DE_finetuning</th>\n",
       "      <th>Early Modern Bohemian German_word_count</th>\n",
       "    </tr>\n",
       "  </thead>\n",
       "  <tbody>\n",
       "    <tr>\n",
       "      <th>0</th>\n",
       "      <td>1. Ein Ambt befehlich an h. Joachim vom Eberha...</td>\n",
       "      <td>1. An manorial court command is to be made to ...</td>\n",
       "      <td>1. A manorial court's command to lord Joachim ...</td>\n",
       "      <td>1. Ein Ambtsbefehl an herrn Joachim Vom Eberha...</td>\n",
       "      <td>45</td>\n",
       "    </tr>\n",
       "    <tr>\n",
       "      <th>1</th>\n",
       "      <td>1. die lehenß Vnderthanen im Winckel, sollen h...</td>\n",
       "      <td>1. The fief serfs in the Winckel shall hencefo...</td>\n",
       "      <td>1. The fief-serfs in Winckel shall henceforth ...</td>\n",
       "      <td>1. Die Lehn Vnderthanen im Winckel sollen Ihro...</td>\n",
       "      <td>109</td>\n",
       "    </tr>\n",
       "    <tr>\n",
       "      <th>2</th>\n",
       "      <td>1. dz Sie verschienen freytag als den 29 huig ...</td>\n",
       "      <td>1. last Friday, the 29th, they came up to the ...</td>\n",
       "      <td>1. That they appeared last Friday, namely on t...</td>\n",
       "      <td>1. Sie seindt am Vorgangenen Freytag, 29. Sept...</td>\n",
       "      <td>419</td>\n",
       "    </tr>\n",
       "    <tr>\n",
       "      <th>3</th>\n",
       "      <td>Es ist Vor.12. iharen Vnnd mehr Zu Oberweigßdo...</td>\n",
       "      <td>12 years ago and more, in Oberweigsdorf, Paul ...</td>\n",
       "      <td>It was 12 years ago in Oberweigsdorf Paul Apel...</td>\n",
       "      <td>12. Jahre Vndt mehr ist Zue Oberweigstorff Pau...</td>\n",
       "      <td>95</td>\n",
       "    </tr>\n",
       "    <tr>\n",
       "      <th>4</th>\n",
       "      <td>Ao 1661. Martius. Mildenaw. Christoph blumbrig...</td>\n",
       "      <td>1661. march. Mildenaw. Christoph Blumbrig's co...</td>\n",
       "      <td>In 1661 March. Mildenau. Christoph Blumbrig's ...</td>\n",
       "      <td>1661. Martij Mildenaw. Christoph blumbrig Clag...</td>\n",
       "      <td>16</td>\n",
       "    </tr>\n",
       "    <tr>\n",
       "      <th>...</th>\n",
       "      <td>...</td>\n",
       "      <td>...</td>\n",
       "      <td>...</td>\n",
       "      <td>...</td>\n",
       "      <td>...</td>\n",
       "    </tr>\n",
       "    <tr>\n",
       "      <th>995</th>\n",
       "      <td>Schultes Zum dörffel Ist gefänglich eingeZogen...</td>\n",
       "      <td>village headman in Dörffel Was taken into impr...</td>\n",
       "      <td>The village headman of Dörffel was taken into ...</td>\n",
       "      <td>Schultes Zum dörffel Ist gefenglich eingezogen...</td>\n",
       "      <td>58</td>\n",
       "    </tr>\n",
       "    <tr>\n",
       "      <th>996</th>\n",
       "      <td>Scholz Zeigt an, das hans Bischoffs Sohn Vndt ...</td>\n",
       "      <td>village headman reports that Hans Bischoff's s...</td>\n",
       "      <td>village headman reports that Hans Bischoff's s...</td>\n",
       "      <td>Schulteß berichtet, Hans Bischoffs Sohn Vndt B...</td>\n",
       "      <td>131</td>\n",
       "    </tr>\n",
       "    <tr>\n",
       "      <th>997</th>\n",
       "      <td>Scholz zeigt an das Peter Pilzes 3 Söhne Zu Ku...</td>\n",
       "      <td>village headman reports that Peter Pilze's 3 s...</td>\n",
       "      <td>village headman reports that Peter Pilze's 3 s...</td>\n",
       "      <td>Schultes berichtet, wie Peter Pilzes 3. Söhne ...</td>\n",
       "      <td>131</td>\n",
       "    </tr>\n",
       "    <tr>\n",
       "      <th>998</th>\n",
       "      <td>Scholtzen Zu Waigßdorff Vnd Priedlanz. Eß ist ...</td>\n",
       "      <td>village headmen in Waigßdorff and Priedlanz. I...</td>\n",
       "      <td>village headmen of Waigßdorff and Priedlanz. I...</td>\n",
       "      <td>Scholzen Zu Waigßdorff Vnnd Priedlanz. Ist auß...</td>\n",
       "      <td>80</td>\n",
       "    </tr>\n",
       "    <tr>\n",
       "      <th>999</th>\n",
       "      <td>An den h. burgmaist. nacher Marglißa geschrib....</td>\n",
       "      <td>written to the lord mayor in Marglissa on acco...</td>\n",
       "      <td>To the lord burgrave written to Marglißa conce...</td>\n",
       "      <td>Deßwegen dem h. Burgermeister Zu Marglissa sch...</td>\n",
       "      <td>30</td>\n",
       "    </tr>\n",
       "  </tbody>\n",
       "</table>\n",
       "<p>1000 rows × 5 columns</p>\n",
       "</div>"
      ],
      "text/plain": [
       "                          Early Modern Bohemian German  \\\n",
       "0    1. Ein Ambt befehlich an h. Joachim vom Eberha...   \n",
       "1    1. die lehenß Vnderthanen im Winckel, sollen h...   \n",
       "2    1. dz Sie verschienen freytag als den 29 huig ...   \n",
       "3    Es ist Vor.12. iharen Vnnd mehr Zu Oberweigßdo...   \n",
       "4    Ao 1661. Martius. Mildenaw. Christoph blumbrig...   \n",
       "..                                                 ...   \n",
       "995  Schultes Zum dörffel Ist gefänglich eingeZogen...   \n",
       "996  Scholz Zeigt an, das hans Bischoffs Sohn Vndt ...   \n",
       "997  Scholz zeigt an das Peter Pilzes 3 Söhne Zu Ku...   \n",
       "998  Scholtzen Zu Waigßdorff Vnd Priedlanz. Eß ist ...   \n",
       "999  An den h. burgmaist. nacher Marglißa geschrib....   \n",
       "\n",
       "                                               English  \\\n",
       "0    1. An manorial court command is to be made to ...   \n",
       "1    1. The fief serfs in the Winckel shall hencefo...   \n",
       "2    1. last Friday, the 29th, they came up to the ...   \n",
       "3    12 years ago and more, in Oberweigsdorf, Paul ...   \n",
       "4    1661. march. Mildenaw. Christoph Blumbrig's co...   \n",
       "..                                                 ...   \n",
       "995  village headman in Dörffel Was taken into impr...   \n",
       "996  village headman reports that Hans Bischoff's s...   \n",
       "997  village headman reports that Peter Pilze's 3 s...   \n",
       "998  village headmen in Waigßdorff and Priedlanz. I...   \n",
       "999  written to the lord mayor in Marglissa on acco...   \n",
       "\n",
       "                                   DE_to_EN_finetuning  \\\n",
       "0    1. A manorial court's command to lord Joachim ...   \n",
       "1    1. The fief-serfs in Winckel shall henceforth ...   \n",
       "2    1. That they appeared last Friday, namely on t...   \n",
       "3    It was 12 years ago in Oberweigsdorf Paul Apel...   \n",
       "4    In 1661 March. Mildenau. Christoph Blumbrig's ...   \n",
       "..                                                 ...   \n",
       "995  The village headman of Dörffel was taken into ...   \n",
       "996  village headman reports that Hans Bischoff's s...   \n",
       "997  village headman reports that Peter Pilze's 3 s...   \n",
       "998  village headmen of Waigßdorff and Priedlanz. I...   \n",
       "999  To the lord burgrave written to Marglißa conce...   \n",
       "\n",
       "                                   EN_to_DE_finetuning  \\\n",
       "0    1. Ein Ambtsbefehl an herrn Joachim Vom Eberha...   \n",
       "1    1. Die Lehn Vnderthanen im Winckel sollen Ihro...   \n",
       "2    1. Sie seindt am Vorgangenen Freytag, 29. Sept...   \n",
       "3    12. Jahre Vndt mehr ist Zue Oberweigstorff Pau...   \n",
       "4    1661. Martij Mildenaw. Christoph blumbrig Clag...   \n",
       "..                                                 ...   \n",
       "995  Schultes Zum dörffel Ist gefenglich eingezogen...   \n",
       "996  Schulteß berichtet, Hans Bischoffs Sohn Vndt B...   \n",
       "997  Schultes berichtet, wie Peter Pilzes 3. Söhne ...   \n",
       "998  Scholzen Zu Waigßdorff Vnnd Priedlanz. Ist auß...   \n",
       "999  Deßwegen dem h. Burgermeister Zu Marglissa sch...   \n",
       "\n",
       "     Early Modern Bohemian German_word_count  \n",
       "0                                         45  \n",
       "1                                        109  \n",
       "2                                        419  \n",
       "3                                         95  \n",
       "4                                         16  \n",
       "..                                       ...  \n",
       "995                                       58  \n",
       "996                                      131  \n",
       "997                                      131  \n",
       "998                                       80  \n",
       "999                                       30  \n",
       "\n",
       "[1000 rows x 5 columns]"
      ]
     },
     "execution_count": 14,
     "metadata": {},
     "output_type": "execute_result"
    }
   ],
   "source": [
    "merged_df"
   ]
  },
  {
   "cell_type": "code",
   "execution_count": null,
   "metadata": {},
   "outputs": [],
   "source": []
  },
  {
   "cell_type": "code",
   "execution_count": null,
   "metadata": {},
   "outputs": [],
   "source": []
  }
 ],
 "metadata": {
  "kernelspec": {
   "display_name": "Python 3",
   "language": "python",
   "name": "python3"
  },
  "language_info": {
   "codemirror_mode": {
    "name": "ipython",
    "version": 3
   },
   "file_extension": ".py",
   "mimetype": "text/x-python",
   "name": "python",
   "nbconvert_exporter": "python",
   "pygments_lexer": "ipython3",
   "version": "3.9.19"
  }
 },
 "nbformat": 4,
 "nbformat_minor": 2
}
